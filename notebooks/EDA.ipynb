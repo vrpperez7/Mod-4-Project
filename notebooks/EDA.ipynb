{
 "cells": [
  {
   "cell_type": "code",
   "execution_count": 121,
   "id": "2f6b7af3",
   "metadata": {},
   "outputs": [],
   "source": [
    "import pandas as pd\n",
    "import numpy as np\n",
    "import scipy.stats as stats\n",
    "import plotly_express as px\n",
    "import matplotlib.pyplot as plt\n",
    "import kaleido"
   ]
  },
  {
   "cell_type": "code",
   "execution_count": 122,
   "id": "24f068d0",
   "metadata": {},
   "outputs": [
    {
     "name": "stdout",
     "output_type": "stream",
     "text": [
      "<class 'pandas.core.frame.DataFrame'>\n",
      "RangeIndex: 17379 entries, 0 to 17378\n",
      "Data columns (total 17 columns):\n",
      " #   Column      Non-Null Count  Dtype         \n",
      "---  ------      --------------  -----         \n",
      " 0   instant     17379 non-null  int64         \n",
      " 1   dteday      17379 non-null  datetime64[ns]\n",
      " 2   season      17379 non-null  int64         \n",
      " 3   yr          17379 non-null  int64         \n",
      " 4   mnth        17379 non-null  int64         \n",
      " 5   hr          17379 non-null  int64         \n",
      " 6   holiday     17379 non-null  int64         \n",
      " 7   weekday     17379 non-null  int64         \n",
      " 8   workingday  17379 non-null  int64         \n",
      " 9   weathersit  17379 non-null  int64         \n",
      " 10  temp        17379 non-null  float64       \n",
      " 11  atemp       17379 non-null  float64       \n",
      " 12  hum         17379 non-null  float64       \n",
      " 13  windspeed   17379 non-null  float64       \n",
      " 14  casual      17379 non-null  int64         \n",
      " 15  registered  17379 non-null  int64         \n",
      " 16  cnt         17379 non-null  int64         \n",
      "dtypes: datetime64[ns](1), float64(4), int64(12)\n",
      "memory usage: 2.3 MB\n"
     ]
    }
   ],
   "source": [
    "#reading csv file into pandas dataframe and naming df\n",
    "df = pd.read_csv(\"/Users/beans/Desktop/Mod-4-Project/data/hour.csv\")\n",
    "\n",
    "#understanding values within df\n",
    "\n",
    "\n",
    "df['dteday'] = pd.to_datetime(df['dteday'])\n",
    "\n",
    "df.info()"
   ]
  },
  {
   "cell_type": "code",
   "execution_count": 123,
   "id": "5cc26aa6",
   "metadata": {},
   "outputs": [
    {
     "name": "stdout",
     "output_type": "stream",
     "text": [
      "<class 'pandas.core.frame.DataFrame'>\n",
      "RangeIndex: 17379 entries, 0 to 17378\n",
      "Data columns (total 18 columns):\n",
      " #   Column               Non-Null Count  Dtype         \n",
      "---  ------               --------------  -----         \n",
      " 0   instant              17379 non-null  int64         \n",
      " 1   dteday               17379 non-null  datetime64[ns]\n",
      " 2   season               17379 non-null  object        \n",
      " 3   yr                   17379 non-null  int64         \n",
      " 4   mnth                 17379 non-null  int64         \n",
      " 5   hr                   17379 non-null  int64         \n",
      " 6   holiday              17379 non-null  int64         \n",
      " 7   weekday              17379 non-null  int64         \n",
      " 8   workingday           17379 non-null  int64         \n",
      " 9   weathersit           17379 non-null  int64         \n",
      " 10  temp                 17379 non-null  float64       \n",
      " 11  atemp                17379 non-null  float64       \n",
      " 12  hum                  17379 non-null  float64       \n",
      " 13  windspeed            17379 non-null  float64       \n",
      " 14  casual               17379 non-null  int64         \n",
      " 15  registered           17379 non-null  int64         \n",
      " 16  cnt                  17379 non-null  int64         \n",
      " 17  not_norm_windspeeds  17379 non-null  float64       \n",
      "dtypes: datetime64[ns](1), float64(5), int64(11), object(1)\n",
      "memory usage: 2.4+ MB\n"
     ]
    }
   ],
   "source": [
    "#making season column more legibile by associating numbers with season\n",
    "#shown by readme when downloaded dataset\n",
    "df['season'] = df['season'].replace(1,'winter')\n",
    "df['season'] = df['season'].replace(2,'spring')\n",
    "df['season'] = df['season'].replace(3,'summer')\n",
    "df['season'] = df['season'].replace(4,'fall')\n",
    "\n",
    "\n",
    "### VERY SIMPLE EDA for season and windspeeds column\n",
    "\n",
    "df.groupby('season')['cnt'].sum()\n",
    "#--we can see that winter has the least count for rides, and summer the most\n",
    "#--INTEREST OF Product Manager (PM): When/where demand is strong or fragile (strong in summer, weak in winter); user behavior patterns; which hypotheses to prioritize next quarter.\n",
    "\n",
    "df['season'].value_counts()\n",
    "#--summer does have the highest counts of records (4496), with fall being the least (4232)\n",
    "#--if data is responsbly distributed by season\n",
    "\n",
    "\n",
    "#curious to see the average windspeed between winter and summer, maybe its the deciding factor\n",
    "df.groupby('season')['windspeed'].mean()\n",
    "#--average windspeeds of winter is comparable to spring, which has the second highest count for rides, maybe not such a big deal\n",
    "\n",
    "#checking our normal windspeeds to see if a drastic diff between seasons (readme says windspeed column was divided by 67)\n",
    "df['not_norm_windspeeds'] = df['windspeed'] * 67\n",
    "df.groupby('season')['not_norm_windspeeds'].mean()\n",
    "#--windspeeds change are so miniscule, would have to statistically prove if significant (potential chi-squared test)\n",
    "\n",
    "df.info()"
   ]
  },
  {
   "cell_type": "markdown",
   "id": "bd38a0ae",
   "metadata": {},
   "source": [
    "# VERY ROUGH VISUALIZATIONS FOR EDA"
   ]
  },
  {
   "cell_type": "code",
   "execution_count": 124,
   "id": "1306c43a",
   "metadata": {},
   "outputs": [
    {
     "data": {
      "text/html": [
       "<div>\n",
       "<style scoped>\n",
       "    .dataframe tbody tr th:only-of-type {\n",
       "        vertical-align: middle;\n",
       "    }\n",
       "\n",
       "    .dataframe tbody tr th {\n",
       "        vertical-align: top;\n",
       "    }\n",
       "\n",
       "    .dataframe thead th {\n",
       "        text-align: right;\n",
       "    }\n",
       "</style>\n",
       "<table border=\"1\" class=\"dataframe\">\n",
       "  <thead>\n",
       "    <tr style=\"text-align: right;\">\n",
       "      <th></th>\n",
       "      <th>instant</th>\n",
       "      <th>dteday</th>\n",
       "      <th>season</th>\n",
       "      <th>yr</th>\n",
       "      <th>mnth</th>\n",
       "      <th>hr</th>\n",
       "      <th>holiday</th>\n",
       "      <th>weekday</th>\n",
       "      <th>workingday</th>\n",
       "      <th>weathersit</th>\n",
       "      <th>temp</th>\n",
       "      <th>atemp</th>\n",
       "      <th>hum</th>\n",
       "      <th>windspeed</th>\n",
       "      <th>casual</th>\n",
       "      <th>registered</th>\n",
       "      <th>cnt</th>\n",
       "      <th>not_norm_windspeeds</th>\n",
       "    </tr>\n",
       "  </thead>\n",
       "  <tbody>\n",
       "    <tr>\n",
       "      <th>1103</th>\n",
       "      <td>1104</td>\n",
       "      <td>2011-02-18</td>\n",
       "      <td>winter</td>\n",
       "      <td>0</td>\n",
       "      <td>2</td>\n",
       "      <td>17</td>\n",
       "      <td>0</td>\n",
       "      <td>5</td>\n",
       "      <td>1</td>\n",
       "      <td>1</td>\n",
       "      <td>0.66</td>\n",
       "      <td>0.6212</td>\n",
       "      <td>0.34</td>\n",
       "      <td>0.3582</td>\n",
       "      <td>52</td>\n",
       "      <td>275</td>\n",
       "      <td>327</td>\n",
       "      <td>23.9994</td>\n",
       "    </tr>\n",
       "    <tr>\n",
       "      <th>1634</th>\n",
       "      <td>1635</td>\n",
       "      <td>2011-03-13</td>\n",
       "      <td>winter</td>\n",
       "      <td>0</td>\n",
       "      <td>3</td>\n",
       "      <td>15</td>\n",
       "      <td>0</td>\n",
       "      <td>0</td>\n",
       "      <td>0</td>\n",
       "      <td>1</td>\n",
       "      <td>0.48</td>\n",
       "      <td>0.4697</td>\n",
       "      <td>0.39</td>\n",
       "      <td>0.3284</td>\n",
       "      <td>149</td>\n",
       "      <td>155</td>\n",
       "      <td>304</td>\n",
       "      <td>22.0028</td>\n",
       "    </tr>\n",
       "    <tr>\n",
       "      <th>1729</th>\n",
       "      <td>1730</td>\n",
       "      <td>2011-03-17</td>\n",
       "      <td>winter</td>\n",
       "      <td>0</td>\n",
       "      <td>3</td>\n",
       "      <td>17</td>\n",
       "      <td>0</td>\n",
       "      <td>4</td>\n",
       "      <td>1</td>\n",
       "      <td>1</td>\n",
       "      <td>0.50</td>\n",
       "      <td>0.4848</td>\n",
       "      <td>0.42</td>\n",
       "      <td>0.1940</td>\n",
       "      <td>48</td>\n",
       "      <td>265</td>\n",
       "      <td>313</td>\n",
       "      <td>12.9980</td>\n",
       "    </tr>\n",
       "    <tr>\n",
       "      <th>1730</th>\n",
       "      <td>1731</td>\n",
       "      <td>2011-03-17</td>\n",
       "      <td>winter</td>\n",
       "      <td>0</td>\n",
       "      <td>3</td>\n",
       "      <td>18</td>\n",
       "      <td>0</td>\n",
       "      <td>4</td>\n",
       "      <td>1</td>\n",
       "      <td>2</td>\n",
       "      <td>0.46</td>\n",
       "      <td>0.4545</td>\n",
       "      <td>0.59</td>\n",
       "      <td>0.1642</td>\n",
       "      <td>50</td>\n",
       "      <td>260</td>\n",
       "      <td>310</td>\n",
       "      <td>11.0014</td>\n",
       "    </tr>\n",
       "    <tr>\n",
       "      <th>1752</th>\n",
       "      <td>1753</td>\n",
       "      <td>2011-03-18</td>\n",
       "      <td>winter</td>\n",
       "      <td>0</td>\n",
       "      <td>3</td>\n",
       "      <td>17</td>\n",
       "      <td>0</td>\n",
       "      <td>5</td>\n",
       "      <td>1</td>\n",
       "      <td>1</td>\n",
       "      <td>0.70</td>\n",
       "      <td>0.6364</td>\n",
       "      <td>0.37</td>\n",
       "      <td>0.3284</td>\n",
       "      <td>95</td>\n",
       "      <td>237</td>\n",
       "      <td>332</td>\n",
       "      <td>22.0028</td>\n",
       "    </tr>\n",
       "    <tr>\n",
       "      <th>...</th>\n",
       "      <td>...</td>\n",
       "      <td>...</td>\n",
       "      <td>...</td>\n",
       "      <td>...</td>\n",
       "      <td>...</td>\n",
       "      <td>...</td>\n",
       "      <td>...</td>\n",
       "      <td>...</td>\n",
       "      <td>...</td>\n",
       "      <td>...</td>\n",
       "      <td>...</td>\n",
       "      <td>...</td>\n",
       "      <td>...</td>\n",
       "      <td>...</td>\n",
       "      <td>...</td>\n",
       "      <td>...</td>\n",
       "      <td>...</td>\n",
       "      <td>...</td>\n",
       "    </tr>\n",
       "    <tr>\n",
       "      <th>17110</th>\n",
       "      <td>17111</td>\n",
       "      <td>2012-12-20</td>\n",
       "      <td>fall</td>\n",
       "      <td>1</td>\n",
       "      <td>12</td>\n",
       "      <td>17</td>\n",
       "      <td>0</td>\n",
       "      <td>4</td>\n",
       "      <td>1</td>\n",
       "      <td>2</td>\n",
       "      <td>0.34</td>\n",
       "      <td>0.3333</td>\n",
       "      <td>0.66</td>\n",
       "      <td>0.1940</td>\n",
       "      <td>25</td>\n",
       "      <td>450</td>\n",
       "      <td>475</td>\n",
       "      <td>12.9980</td>\n",
       "    </tr>\n",
       "    <tr>\n",
       "      <th>17111</th>\n",
       "      <td>17112</td>\n",
       "      <td>2012-12-20</td>\n",
       "      <td>fall</td>\n",
       "      <td>1</td>\n",
       "      <td>12</td>\n",
       "      <td>18</td>\n",
       "      <td>0</td>\n",
       "      <td>4</td>\n",
       "      <td>1</td>\n",
       "      <td>2</td>\n",
       "      <td>0.34</td>\n",
       "      <td>0.3333</td>\n",
       "      <td>0.71</td>\n",
       "      <td>0.1940</td>\n",
       "      <td>22</td>\n",
       "      <td>359</td>\n",
       "      <td>381</td>\n",
       "      <td>12.9980</td>\n",
       "    </tr>\n",
       "    <tr>\n",
       "      <th>17125</th>\n",
       "      <td>17126</td>\n",
       "      <td>2012-12-21</td>\n",
       "      <td>winter</td>\n",
       "      <td>1</td>\n",
       "      <td>12</td>\n",
       "      <td>8</td>\n",
       "      <td>0</td>\n",
       "      <td>5</td>\n",
       "      <td>1</td>\n",
       "      <td>2</td>\n",
       "      <td>0.32</td>\n",
       "      <td>0.3030</td>\n",
       "      <td>0.57</td>\n",
       "      <td>0.2836</td>\n",
       "      <td>8</td>\n",
       "      <td>464</td>\n",
       "      <td>472</td>\n",
       "      <td>19.0012</td>\n",
       "    </tr>\n",
       "    <tr>\n",
       "      <th>17134</th>\n",
       "      <td>17135</td>\n",
       "      <td>2012-12-21</td>\n",
       "      <td>winter</td>\n",
       "      <td>1</td>\n",
       "      <td>12</td>\n",
       "      <td>17</td>\n",
       "      <td>0</td>\n",
       "      <td>5</td>\n",
       "      <td>1</td>\n",
       "      <td>2</td>\n",
       "      <td>0.26</td>\n",
       "      <td>0.2273</td>\n",
       "      <td>0.56</td>\n",
       "      <td>0.3284</td>\n",
       "      <td>24</td>\n",
       "      <td>297</td>\n",
       "      <td>321</td>\n",
       "      <td>22.0028</td>\n",
       "    </tr>\n",
       "    <tr>\n",
       "      <th>17370</th>\n",
       "      <td>17371</td>\n",
       "      <td>2012-12-31</td>\n",
       "      <td>winter</td>\n",
       "      <td>1</td>\n",
       "      <td>12</td>\n",
       "      <td>15</td>\n",
       "      <td>0</td>\n",
       "      <td>1</td>\n",
       "      <td>1</td>\n",
       "      <td>2</td>\n",
       "      <td>0.28</td>\n",
       "      <td>0.2879</td>\n",
       "      <td>0.45</td>\n",
       "      <td>0.1343</td>\n",
       "      <td>69</td>\n",
       "      <td>246</td>\n",
       "      <td>315</td>\n",
       "      <td>8.9981</td>\n",
       "    </tr>\n",
       "  </tbody>\n",
       "</table>\n",
       "<p>3874 rows × 18 columns</p>\n",
       "</div>"
      ],
      "text/plain": [
       "       instant     dteday  season  yr  mnth  hr  holiday  weekday  workingday  \\\n",
       "1103      1104 2011-02-18  winter   0     2  17        0        5           1   \n",
       "1634      1635 2011-03-13  winter   0     3  15        0        0           0   \n",
       "1729      1730 2011-03-17  winter   0     3  17        0        4           1   \n",
       "1730      1731 2011-03-17  winter   0     3  18        0        4           1   \n",
       "1752      1753 2011-03-18  winter   0     3  17        0        5           1   \n",
       "...        ...        ...     ...  ..   ...  ..      ...      ...         ...   \n",
       "17110    17111 2012-12-20    fall   1    12  17        0        4           1   \n",
       "17111    17112 2012-12-20    fall   1    12  18        0        4           1   \n",
       "17125    17126 2012-12-21  winter   1    12   8        0        5           1   \n",
       "17134    17135 2012-12-21  winter   1    12  17        0        5           1   \n",
       "17370    17371 2012-12-31  winter   1    12  15        0        1           1   \n",
       "\n",
       "       weathersit  temp   atemp   hum  windspeed  casual  registered  cnt  \\\n",
       "1103            1  0.66  0.6212  0.34     0.3582      52         275  327   \n",
       "1634            1  0.48  0.4697  0.39     0.3284     149         155  304   \n",
       "1729            1  0.50  0.4848  0.42     0.1940      48         265  313   \n",
       "1730            2  0.46  0.4545  0.59     0.1642      50         260  310   \n",
       "1752            1  0.70  0.6364  0.37     0.3284      95         237  332   \n",
       "...           ...   ...     ...   ...        ...     ...         ...  ...   \n",
       "17110           2  0.34  0.3333  0.66     0.1940      25         450  475   \n",
       "17111           2  0.34  0.3333  0.71     0.1940      22         359  381   \n",
       "17125           2  0.32  0.3030  0.57     0.2836       8         464  472   \n",
       "17134           2  0.26  0.2273  0.56     0.3284      24         297  321   \n",
       "17370           2  0.28  0.2879  0.45     0.1343      69         246  315   \n",
       "\n",
       "       not_norm_windspeeds  \n",
       "1103               23.9994  \n",
       "1634               22.0028  \n",
       "1729               12.9980  \n",
       "1730               11.0014  \n",
       "1752               22.0028  \n",
       "...                    ...  \n",
       "17110              12.9980  \n",
       "17111              12.9980  \n",
       "17125              19.0012  \n",
       "17134              22.0028  \n",
       "17370               8.9981  \n",
       "\n",
       "[3874 rows x 18 columns]"
      ]
     },
     "execution_count": 124,
     "metadata": {},
     "output_type": "execute_result"
    }
   ],
   "source": [
    "### QUICK EDA to find hour vs count (most frequent hours ppl use bikes)\n",
    "\n",
    "#EDA to find the highest average of bike usage by hour\n",
    "df.groupby('hr')['cnt'].mean().sort_values(ascending=False)\n",
    "#--shows us 17,18, and 8 has highest,\n",
    "#-- 5 hours above 300 count mean\n",
    "\n",
    "#after more EDA, there are no 'cnt' = 0, 7035 less than or equal to 100,  3749 100 < 'cnt' <= 200, 2740 200 < 'cnt' <= 300,  3874 'cnt' > 301\n",
    "#the days that have the least values, are because of natural disasters and snow days\n",
    "df[(df['cnt'] > 301)]"
   ]
  },
  {
   "cell_type": "code",
   "execution_count": 125,
   "id": "1c2cbb8c",
   "metadata": {},
   "outputs": [
    {
     "data": {
      "text/plain": [
       "workingday  weekday\n",
       "0           0          444027\n",
       "            1           59605\n",
       "            2            1013\n",
       "            3            7403\n",
       "            4            3920\n",
       "            5            6494\n",
       "            6          477807\n",
       "1           1          395898\n",
       "            2          468096\n",
       "            3          465645\n",
       "            4          481475\n",
       "            5          481296\n",
       "Name: cnt, dtype: int64"
      ]
     },
     "execution_count": 125,
     "metadata": {},
     "output_type": "execute_result"
    }
   ],
   "source": [
    "hourcount = df[['hr','cnt']]\n",
    "\n",
    "\n",
    "# visual explaining count of users for bikeshare program by the hour,\n",
    "# hourcount uses all data, i went into specific working days in the next codeblock to see if that is of interest\n",
    "\n",
    "\n",
    "# we can see workindays are more frequent by double\n",
    "# does it make sense to filter dataset to only workingday and assume the reason why its double is due to ppl who go to work? \n",
    "both = ['workingday','weekday']\n",
    "\n",
    "df.groupby(both)['cnt'].sum()"
   ]
  },
  {
   "cell_type": "code",
   "execution_count": 126,
   "id": "7cd90e2a",
   "metadata": {},
   "outputs": [],
   "source": [
    "#complete workingday indexes (not weekends & not holidays)\n",
    "\n",
    "workingdays = df[df['workingday'] == 1]\n",
    "#steeper curves and higher means if we just focus on working days\n",
    "linegraph = workingdays.groupby('hr')['cnt'].median().reset_index()\n",
    "\n",
    "\n",
    "# BEST SUITED FOR OPERATIONS TEAM, GIVES US TIMES WHEN LEAST LIKELY FOR BIKE RIDES AND CAN DO MAINTENENCE\n",
    "\n",
    "\n",
    "lines = px.line(linegraph,x='hr',y='cnt',title='Count of Average Riders per Hour',width=650,height=500)\n",
    "lines.update_layout(xaxis_title='Hour',yaxis_title='Average Count of Riders',font=dict(size=12))\n",
    "\n",
    "lines.write_image(\"linegraph.png\")"
   ]
  },
  {
   "cell_type": "code",
   "execution_count": 127,
   "id": "ba66ad7d",
   "metadata": {},
   "outputs": [
    {
     "data": {
      "text/html": [
       "<div>\n",
       "<style scoped>\n",
       "    .dataframe tbody tr th:only-of-type {\n",
       "        vertical-align: middle;\n",
       "    }\n",
       "\n",
       "    .dataframe tbody tr th {\n",
       "        vertical-align: top;\n",
       "    }\n",
       "\n",
       "    .dataframe thead th {\n",
       "        text-align: right;\n",
       "    }\n",
       "</style>\n",
       "<table border=\"1\" class=\"dataframe\">\n",
       "  <thead>\n",
       "    <tr style=\"text-align: right;\">\n",
       "      <th></th>\n",
       "      <th>hr</th>\n",
       "      <th>cnt</th>\n",
       "      <th>timebin</th>\n",
       "    </tr>\n",
       "  </thead>\n",
       "  <tbody>\n",
       "    <tr>\n",
       "      <th>0</th>\n",
       "      <td>0</td>\n",
       "      <td>33.0</td>\n",
       "      <td>Maintenance</td>\n",
       "    </tr>\n",
       "    <tr>\n",
       "      <th>1</th>\n",
       "      <td>1</td>\n",
       "      <td>14.0</td>\n",
       "      <td>Maintenance</td>\n",
       "    </tr>\n",
       "    <tr>\n",
       "      <th>2</th>\n",
       "      <td>2</td>\n",
       "      <td>7.0</td>\n",
       "      <td>Maintenance</td>\n",
       "    </tr>\n",
       "    <tr>\n",
       "      <th>3</th>\n",
       "      <td>3</td>\n",
       "      <td>4.0</td>\n",
       "      <td>Maintenance</td>\n",
       "    </tr>\n",
       "    <tr>\n",
       "      <th>4</th>\n",
       "      <td>4</td>\n",
       "      <td>5.0</td>\n",
       "      <td>Maintenance</td>\n",
       "    </tr>\n",
       "    <tr>\n",
       "      <th>5</th>\n",
       "      <td>5</td>\n",
       "      <td>25.0</td>\n",
       "      <td>Maintenance</td>\n",
       "    </tr>\n",
       "    <tr>\n",
       "      <th>6</th>\n",
       "      <td>6</td>\n",
       "      <td>104.0</td>\n",
       "      <td>Not Peak</td>\n",
       "    </tr>\n",
       "    <tr>\n",
       "      <th>7</th>\n",
       "      <td>7</td>\n",
       "      <td>295.0</td>\n",
       "      <td>Peak Hours</td>\n",
       "    </tr>\n",
       "    <tr>\n",
       "      <th>8</th>\n",
       "      <td>8</td>\n",
       "      <td>463.0</td>\n",
       "      <td>Peak Hours</td>\n",
       "    </tr>\n",
       "    <tr>\n",
       "      <th>9</th>\n",
       "      <td>9</td>\n",
       "      <td>228.0</td>\n",
       "      <td>Not Peak</td>\n",
       "    </tr>\n",
       "    <tr>\n",
       "      <th>10</th>\n",
       "      <td>10</td>\n",
       "      <td>133.0</td>\n",
       "      <td>Not Peak</td>\n",
       "    </tr>\n",
       "    <tr>\n",
       "      <th>11</th>\n",
       "      <td>11</td>\n",
       "      <td>157.0</td>\n",
       "      <td>Not Peak</td>\n",
       "    </tr>\n",
       "    <tr>\n",
       "      <th>12</th>\n",
       "      <td>12</td>\n",
       "      <td>201.0</td>\n",
       "      <td>Not Peak</td>\n",
       "    </tr>\n",
       "    <tr>\n",
       "      <th>13</th>\n",
       "      <td>13</td>\n",
       "      <td>198.0</td>\n",
       "      <td>Not Peak</td>\n",
       "    </tr>\n",
       "    <tr>\n",
       "      <th>14</th>\n",
       "      <td>14</td>\n",
       "      <td>179.0</td>\n",
       "      <td>Not Peak</td>\n",
       "    </tr>\n",
       "    <tr>\n",
       "      <th>15</th>\n",
       "      <td>15</td>\n",
       "      <td>194.0</td>\n",
       "      <td>Not Peak</td>\n",
       "    </tr>\n",
       "    <tr>\n",
       "      <th>16</th>\n",
       "      <td>16</td>\n",
       "      <td>292.0</td>\n",
       "      <td>Peak Hours</td>\n",
       "    </tr>\n",
       "    <tr>\n",
       "      <th>17</th>\n",
       "      <td>17</td>\n",
       "      <td>539.0</td>\n",
       "      <td>Peak Hours</td>\n",
       "    </tr>\n",
       "    <tr>\n",
       "      <th>18</th>\n",
       "      <td>18</td>\n",
       "      <td>504.5</td>\n",
       "      <td>Peak Hours</td>\n",
       "    </tr>\n",
       "    <tr>\n",
       "      <th>19</th>\n",
       "      <td>19</td>\n",
       "      <td>349.5</td>\n",
       "      <td>Peak Hours</td>\n",
       "    </tr>\n",
       "    <tr>\n",
       "      <th>20</th>\n",
       "      <td>20</td>\n",
       "      <td>248.0</td>\n",
       "      <td>Not Peak</td>\n",
       "    </tr>\n",
       "    <tr>\n",
       "      <th>21</th>\n",
       "      <td>21</td>\n",
       "      <td>190.0</td>\n",
       "      <td>Not Peak</td>\n",
       "    </tr>\n",
       "    <tr>\n",
       "      <th>22</th>\n",
       "      <td>22</td>\n",
       "      <td>137.0</td>\n",
       "      <td>Not Peak</td>\n",
       "    </tr>\n",
       "    <tr>\n",
       "      <th>23</th>\n",
       "      <td>23</td>\n",
       "      <td>81.0</td>\n",
       "      <td>Maintenance</td>\n",
       "    </tr>\n",
       "  </tbody>\n",
       "</table>\n",
       "</div>"
      ],
      "text/plain": [
       "    hr    cnt      timebin\n",
       "0    0   33.0  Maintenance\n",
       "1    1   14.0  Maintenance\n",
       "2    2    7.0  Maintenance\n",
       "3    3    4.0  Maintenance\n",
       "4    4    5.0  Maintenance\n",
       "5    5   25.0  Maintenance\n",
       "6    6  104.0     Not Peak\n",
       "7    7  295.0   Peak Hours\n",
       "8    8  463.0   Peak Hours\n",
       "9    9  228.0     Not Peak\n",
       "10  10  133.0     Not Peak\n",
       "11  11  157.0     Not Peak\n",
       "12  12  201.0     Not Peak\n",
       "13  13  198.0     Not Peak\n",
       "14  14  179.0     Not Peak\n",
       "15  15  194.0     Not Peak\n",
       "16  16  292.0   Peak Hours\n",
       "17  17  539.0   Peak Hours\n",
       "18  18  504.5   Peak Hours\n",
       "19  19  349.5   Peak Hours\n",
       "20  20  248.0     Not Peak\n",
       "21  21  190.0     Not Peak\n",
       "22  22  137.0     Not Peak\n",
       "23  23   81.0  Maintenance"
      ]
     },
     "execution_count": 127,
     "metadata": {},
     "output_type": "execute_result"
    }
   ],
   "source": [
    "timebin=[]\n",
    "for i in range (len(linegraph)):\n",
    "    count = linegraph.iloc[i]['cnt']\n",
    "    if count >= 275:\n",
    "        timebin.append('Peak Hours')\n",
    "    elif 100 < count < 275:\n",
    "        timebin.append('Not Peak')\n",
    "    elif count < 100:\n",
    "        timebin.append('Maintenance')\n",
    "linegraph['timebin'] = timebin\n",
    "\n",
    "linegraph\n",
    "#during peak hours seems pretty okay for windspeeds"
   ]
  },
  {
   "cell_type": "code",
   "execution_count": 128,
   "id": "3bc6882a",
   "metadata": {},
   "outputs": [
    {
     "data": {
      "application/vnd.plotly.v1+json": {
       "config": {
        "plotlyServerURL": "https://plot.ly"
       },
       "data": [
        {
         "domain": {
          "x": [
           0,
           1
          ],
          "y": [
           0,
           1
          ]
         },
         "hovertemplate": "label=%{label}<br>value=%{value}<extra></extra>",
         "labels": [
          "casual",
          "registered"
         ],
         "legendgroup": "",
         "name": "",
         "showlegend": true,
         "type": "pie",
         "values": {
          "bdata": "igFy9KjWSkA/L6idknF8QA==",
          "dtype": "f8"
         }
        }
       ],
       "layout": {
        "legend": {
         "tracegroupgap": 0
        },
        "margin": {
         "t": 60
        },
        "template": {
         "data": {
          "bar": [
           {
            "error_x": {
             "color": "#2a3f5f"
            },
            "error_y": {
             "color": "#2a3f5f"
            },
            "marker": {
             "line": {
              "color": "#E5ECF6",
              "width": 0.5
             },
             "pattern": {
              "fillmode": "overlay",
              "size": 10,
              "solidity": 0.2
             }
            },
            "type": "bar"
           }
          ],
          "barpolar": [
           {
            "marker": {
             "line": {
              "color": "#E5ECF6",
              "width": 0.5
             },
             "pattern": {
              "fillmode": "overlay",
              "size": 10,
              "solidity": 0.2
             }
            },
            "type": "barpolar"
           }
          ],
          "carpet": [
           {
            "aaxis": {
             "endlinecolor": "#2a3f5f",
             "gridcolor": "white",
             "linecolor": "white",
             "minorgridcolor": "white",
             "startlinecolor": "#2a3f5f"
            },
            "baxis": {
             "endlinecolor": "#2a3f5f",
             "gridcolor": "white",
             "linecolor": "white",
             "minorgridcolor": "white",
             "startlinecolor": "#2a3f5f"
            },
            "type": "carpet"
           }
          ],
          "choropleth": [
           {
            "colorbar": {
             "outlinewidth": 0,
             "ticks": ""
            },
            "type": "choropleth"
           }
          ],
          "contour": [
           {
            "colorbar": {
             "outlinewidth": 0,
             "ticks": ""
            },
            "colorscale": [
             [
              0,
              "#0d0887"
             ],
             [
              0.1111111111111111,
              "#46039f"
             ],
             [
              0.2222222222222222,
              "#7201a8"
             ],
             [
              0.3333333333333333,
              "#9c179e"
             ],
             [
              0.4444444444444444,
              "#bd3786"
             ],
             [
              0.5555555555555556,
              "#d8576b"
             ],
             [
              0.6666666666666666,
              "#ed7953"
             ],
             [
              0.7777777777777778,
              "#fb9f3a"
             ],
             [
              0.8888888888888888,
              "#fdca26"
             ],
             [
              1,
              "#f0f921"
             ]
            ],
            "type": "contour"
           }
          ],
          "contourcarpet": [
           {
            "colorbar": {
             "outlinewidth": 0,
             "ticks": ""
            },
            "type": "contourcarpet"
           }
          ],
          "heatmap": [
           {
            "colorbar": {
             "outlinewidth": 0,
             "ticks": ""
            },
            "colorscale": [
             [
              0,
              "#0d0887"
             ],
             [
              0.1111111111111111,
              "#46039f"
             ],
             [
              0.2222222222222222,
              "#7201a8"
             ],
             [
              0.3333333333333333,
              "#9c179e"
             ],
             [
              0.4444444444444444,
              "#bd3786"
             ],
             [
              0.5555555555555556,
              "#d8576b"
             ],
             [
              0.6666666666666666,
              "#ed7953"
             ],
             [
              0.7777777777777778,
              "#fb9f3a"
             ],
             [
              0.8888888888888888,
              "#fdca26"
             ],
             [
              1,
              "#f0f921"
             ]
            ],
            "type": "heatmap"
           }
          ],
          "histogram": [
           {
            "marker": {
             "pattern": {
              "fillmode": "overlay",
              "size": 10,
              "solidity": 0.2
             }
            },
            "type": "histogram"
           }
          ],
          "histogram2d": [
           {
            "colorbar": {
             "outlinewidth": 0,
             "ticks": ""
            },
            "colorscale": [
             [
              0,
              "#0d0887"
             ],
             [
              0.1111111111111111,
              "#46039f"
             ],
             [
              0.2222222222222222,
              "#7201a8"
             ],
             [
              0.3333333333333333,
              "#9c179e"
             ],
             [
              0.4444444444444444,
              "#bd3786"
             ],
             [
              0.5555555555555556,
              "#d8576b"
             ],
             [
              0.6666666666666666,
              "#ed7953"
             ],
             [
              0.7777777777777778,
              "#fb9f3a"
             ],
             [
              0.8888888888888888,
              "#fdca26"
             ],
             [
              1,
              "#f0f921"
             ]
            ],
            "type": "histogram2d"
           }
          ],
          "histogram2dcontour": [
           {
            "colorbar": {
             "outlinewidth": 0,
             "ticks": ""
            },
            "colorscale": [
             [
              0,
              "#0d0887"
             ],
             [
              0.1111111111111111,
              "#46039f"
             ],
             [
              0.2222222222222222,
              "#7201a8"
             ],
             [
              0.3333333333333333,
              "#9c179e"
             ],
             [
              0.4444444444444444,
              "#bd3786"
             ],
             [
              0.5555555555555556,
              "#d8576b"
             ],
             [
              0.6666666666666666,
              "#ed7953"
             ],
             [
              0.7777777777777778,
              "#fb9f3a"
             ],
             [
              0.8888888888888888,
              "#fdca26"
             ],
             [
              1,
              "#f0f921"
             ]
            ],
            "type": "histogram2dcontour"
           }
          ],
          "mesh3d": [
           {
            "colorbar": {
             "outlinewidth": 0,
             "ticks": ""
            },
            "type": "mesh3d"
           }
          ],
          "parcoords": [
           {
            "line": {
             "colorbar": {
              "outlinewidth": 0,
              "ticks": ""
             }
            },
            "type": "parcoords"
           }
          ],
          "pie": [
           {
            "automargin": true,
            "type": "pie"
           }
          ],
          "scatter": [
           {
            "fillpattern": {
             "fillmode": "overlay",
             "size": 10,
             "solidity": 0.2
            },
            "type": "scatter"
           }
          ],
          "scatter3d": [
           {
            "line": {
             "colorbar": {
              "outlinewidth": 0,
              "ticks": ""
             }
            },
            "marker": {
             "colorbar": {
              "outlinewidth": 0,
              "ticks": ""
             }
            },
            "type": "scatter3d"
           }
          ],
          "scattercarpet": [
           {
            "marker": {
             "colorbar": {
              "outlinewidth": 0,
              "ticks": ""
             }
            },
            "type": "scattercarpet"
           }
          ],
          "scattergeo": [
           {
            "marker": {
             "colorbar": {
              "outlinewidth": 0,
              "ticks": ""
             }
            },
            "type": "scattergeo"
           }
          ],
          "scattergl": [
           {
            "marker": {
             "colorbar": {
              "outlinewidth": 0,
              "ticks": ""
             }
            },
            "type": "scattergl"
           }
          ],
          "scattermap": [
           {
            "marker": {
             "colorbar": {
              "outlinewidth": 0,
              "ticks": ""
             }
            },
            "type": "scattermap"
           }
          ],
          "scattermapbox": [
           {
            "marker": {
             "colorbar": {
              "outlinewidth": 0,
              "ticks": ""
             }
            },
            "type": "scattermapbox"
           }
          ],
          "scatterpolar": [
           {
            "marker": {
             "colorbar": {
              "outlinewidth": 0,
              "ticks": ""
             }
            },
            "type": "scatterpolar"
           }
          ],
          "scatterpolargl": [
           {
            "marker": {
             "colorbar": {
              "outlinewidth": 0,
              "ticks": ""
             }
            },
            "type": "scatterpolargl"
           }
          ],
          "scatterternary": [
           {
            "marker": {
             "colorbar": {
              "outlinewidth": 0,
              "ticks": ""
             }
            },
            "type": "scatterternary"
           }
          ],
          "surface": [
           {
            "colorbar": {
             "outlinewidth": 0,
             "ticks": ""
            },
            "colorscale": [
             [
              0,
              "#0d0887"
             ],
             [
              0.1111111111111111,
              "#46039f"
             ],
             [
              0.2222222222222222,
              "#7201a8"
             ],
             [
              0.3333333333333333,
              "#9c179e"
             ],
             [
              0.4444444444444444,
              "#bd3786"
             ],
             [
              0.5555555555555556,
              "#d8576b"
             ],
             [
              0.6666666666666666,
              "#ed7953"
             ],
             [
              0.7777777777777778,
              "#fb9f3a"
             ],
             [
              0.8888888888888888,
              "#fdca26"
             ],
             [
              1,
              "#f0f921"
             ]
            ],
            "type": "surface"
           }
          ],
          "table": [
           {
            "cells": {
             "fill": {
              "color": "#EBF0F8"
             },
             "line": {
              "color": "white"
             }
            },
            "header": {
             "fill": {
              "color": "#C8D4E3"
             },
             "line": {
              "color": "white"
             }
            },
            "type": "table"
           }
          ]
         },
         "layout": {
          "annotationdefaults": {
           "arrowcolor": "#2a3f5f",
           "arrowhead": 0,
           "arrowwidth": 1
          },
          "autotypenumbers": "strict",
          "coloraxis": {
           "colorbar": {
            "outlinewidth": 0,
            "ticks": ""
           }
          },
          "colorscale": {
           "diverging": [
            [
             0,
             "#8e0152"
            ],
            [
             0.1,
             "#c51b7d"
            ],
            [
             0.2,
             "#de77ae"
            ],
            [
             0.3,
             "#f1b6da"
            ],
            [
             0.4,
             "#fde0ef"
            ],
            [
             0.5,
             "#f7f7f7"
            ],
            [
             0.6,
             "#e6f5d0"
            ],
            [
             0.7,
             "#b8e186"
            ],
            [
             0.8,
             "#7fbc41"
            ],
            [
             0.9,
             "#4d9221"
            ],
            [
             1,
             "#276419"
            ]
           ],
           "sequential": [
            [
             0,
             "#0d0887"
            ],
            [
             0.1111111111111111,
             "#46039f"
            ],
            [
             0.2222222222222222,
             "#7201a8"
            ],
            [
             0.3333333333333333,
             "#9c179e"
            ],
            [
             0.4444444444444444,
             "#bd3786"
            ],
            [
             0.5555555555555556,
             "#d8576b"
            ],
            [
             0.6666666666666666,
             "#ed7953"
            ],
            [
             0.7777777777777778,
             "#fb9f3a"
            ],
            [
             0.8888888888888888,
             "#fdca26"
            ],
            [
             1,
             "#f0f921"
            ]
           ],
           "sequentialminus": [
            [
             0,
             "#0d0887"
            ],
            [
             0.1111111111111111,
             "#46039f"
            ],
            [
             0.2222222222222222,
             "#7201a8"
            ],
            [
             0.3333333333333333,
             "#9c179e"
            ],
            [
             0.4444444444444444,
             "#bd3786"
            ],
            [
             0.5555555555555556,
             "#d8576b"
            ],
            [
             0.6666666666666666,
             "#ed7953"
            ],
            [
             0.7777777777777778,
             "#fb9f3a"
            ],
            [
             0.8888888888888888,
             "#fdca26"
            ],
            [
             1,
             "#f0f921"
            ]
           ]
          },
          "colorway": [
           "#636efa",
           "#EF553B",
           "#00cc96",
           "#ab63fa",
           "#FFA15A",
           "#19d3f3",
           "#FF6692",
           "#B6E880",
           "#FF97FF",
           "#FECB52"
          ],
          "font": {
           "color": "#2a3f5f"
          },
          "geo": {
           "bgcolor": "white",
           "lakecolor": "white",
           "landcolor": "#E5ECF6",
           "showlakes": true,
           "showland": true,
           "subunitcolor": "white"
          },
          "hoverlabel": {
           "align": "left"
          },
          "hovermode": "closest",
          "mapbox": {
           "style": "light"
          },
          "paper_bgcolor": "white",
          "plot_bgcolor": "#E5ECF6",
          "polar": {
           "angularaxis": {
            "gridcolor": "white",
            "linecolor": "white",
            "ticks": ""
           },
           "bgcolor": "#E5ECF6",
           "radialaxis": {
            "gridcolor": "white",
            "linecolor": "white",
            "ticks": ""
           }
          },
          "scene": {
           "xaxis": {
            "backgroundcolor": "#E5ECF6",
            "gridcolor": "white",
            "gridwidth": 2,
            "linecolor": "white",
            "showbackground": true,
            "ticks": "",
            "zerolinecolor": "white"
           },
           "yaxis": {
            "backgroundcolor": "#E5ECF6",
            "gridcolor": "white",
            "gridwidth": 2,
            "linecolor": "white",
            "showbackground": true,
            "ticks": "",
            "zerolinecolor": "white"
           },
           "zaxis": {
            "backgroundcolor": "#E5ECF6",
            "gridcolor": "white",
            "gridwidth": 2,
            "linecolor": "white",
            "showbackground": true,
            "ticks": "",
            "zerolinecolor": "white"
           }
          },
          "shapedefaults": {
           "line": {
            "color": "#2a3f5f"
           }
          },
          "ternary": {
           "aaxis": {
            "gridcolor": "white",
            "linecolor": "white",
            "ticks": ""
           },
           "baxis": {
            "gridcolor": "white",
            "linecolor": "white",
            "ticks": ""
           },
           "bgcolor": "#E5ECF6",
           "caxis": {
            "gridcolor": "white",
            "linecolor": "white",
            "ticks": ""
           }
          },
          "title": {
           "x": 0.05
          },
          "xaxis": {
           "automargin": true,
           "gridcolor": "white",
           "linecolor": "white",
           "ticks": "",
           "title": {
            "standoff": 15
           },
           "zerolinecolor": "white",
           "zerolinewidth": 2
          },
          "yaxis": {
           "automargin": true,
           "gridcolor": "white",
           "linecolor": "white",
           "ticks": "",
           "title": {
            "standoff": 15
           },
           "zerolinecolor": "white",
           "zerolinewidth": 2
          }
         }
        }
       }
      }
     },
     "metadata": {},
     "output_type": "display_data"
    }
   ],
   "source": [
    "# creating variables filtering workingdays to morningpeaks and evening peaks (2 highest average count in our line graph)\n",
    "\n",
    "morningpeak = workingdays[(workingdays['hr'] == 7) | (workingdays['hr'] == 8)]\n",
    "eveningpeak = workingdays[(workingdays['hr'] == 17) | (workingdays['hr'] == 18)]\n",
    "\n",
    "\n",
    "### WINDSPEEDS HISTOGRAMS (very dangerous windspeeds during these hours, would benefit from a warning/speed reduction)\n",
    "\n",
    "# MORNING HISTOGRAM (windspeeds are up to danagerous levels)\n",
    "morningwinds = morningpeak.groupby('dteday').agg({'cnt':'mean','not_norm_windspeeds':'mean'}).reset_index()\n",
    "morninghist = px.histogram(morningwinds,'not_norm_windspeeds','cnt',title='Count of Rides by Windspeed Per Day',nbins=24,height=500,width=600)\n",
    "\n",
    "# EVENING HISTOGRAM (windspeed averages go up to even 40 mph)\n",
    "eveningwinds = eveningpeak.groupby('dteday').agg({'cnt':'mean','not_norm_windspeeds':'mean'}).reset_index()\n",
    "eveninghist = px.histogram(eveningwinds,'not_norm_windspeeds','cnt',title='Count of Rides by Windspeed Per Day',nbins=24,height=500,width=600)\n",
    "\n",
    "### SEASONAL BAR GRAPHS\n",
    "\n",
    "# MORNING BAR GRAPH (during mornings, summer bikes most frequently used, fall second)\n",
    "morningbar = morningpeak.groupby('season')['cnt'].sum().reset_index()\n",
    "\n",
    "morningseasonality = px.bar(morningbar,'season','cnt',text='cnt',title='Count of Total Rides by Season',width=450,height = 500)\n",
    "morningseasonality.update_layout(xaxis_title='Season', yaxis_title='Total Count of Rides', font=dict(size=12))\n",
    "morningseasonality.update_traces(marker_color = ['RoyalBlue', 'RoyalBlue', 'ForestGreen', 'FireBrick'],textposition='outside')\n",
    "\n",
    "# EVENING BAR GRAPH (during evenings, summer bikes are more frequently used, spring second)\n",
    "eveningbar = eveningpeak.groupby('season')['cnt'].sum().reset_index()\n",
    "\n",
    "eveningseasonality = px.bar(eveningbar,'season','cnt',text='cnt',title='Count of Total Rides by Season',width=450,height = 500)\n",
    "eveningseasonality.update_layout(xaxis_title='Season', yaxis_title='Total Count of Rides', font=dict(size=12))\n",
    "eveningseasonality.update_traces(marker_color = ['RoyalBlue', 'RoyalBlue', 'ForestGreen', 'FireBrick'],textposition='outside')\n",
    "\n",
    "### COMPISITION PIE GRAPHS (checking to see registered bike rides vs casual per peak)\n",
    "\n",
    "# morning peak pie\n",
    "morningcountindex = morningpeak[['dteday','casual','registered','cnt']].reset_index()\n",
    "morningsums = morningcountindex[['casual','registered']].mean()\n",
    "\n",
    "morningpie = px.pie(morningsums,names=['casual','registered'],values=morningsums)\n",
    "\n",
    "# evening peak pie (a higher percentage of casual bike riders in the evening compared to night but still both smaller percentages vs all day pie)\n",
    "\n",
    "eveningcountindex = eveningpeak[['dteday','casual','registered','cnt']].reset_index()\n",
    "eveningsums = eveningcountindex[['casual','registered']].mean()\n",
    "\n",
    "eveningpie = px.pie(eveningsums,names=['casual','registered'],values=eveningsums)\n",
    "\n",
    "eveningpie"
   ]
  },
  {
   "cell_type": "code",
   "execution_count": 129,
   "id": "34ceb1ca",
   "metadata": {},
   "outputs": [
    {
     "data": {
      "application/vnd.plotly.v1+json": {
       "config": {
        "plotlyServerURL": "https://plot.ly"
       },
       "data": [
        {
         "bingroup": "x",
         "histfunc": "sum",
         "hovertemplate": "not_norm_windspeeds=%{x}<br>sum of cnt=%{y}<extra></extra>",
         "legendgroup": "",
         "marker": {
          "color": "#636efa",
          "pattern": {
           "shape": ""
          }
         },
         "name": "",
         "nbinsx": 24,
         "orientation": "v",
         "showlegend": false,
         "type": "histogram",
         "x": {
          "bdata": "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",
          "dtype": "f8"
         },
         "xaxis": "x",
         "y": {
          "bdata": "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",
          "dtype": "f8"
         },
         "yaxis": "y"
        }
       ],
       "layout": {
        "barmode": "relative",
        "height": 400,
        "legend": {
         "tracegroupgap": 0
        },
        "template": {
         "data": {
          "bar": [
           {
            "error_x": {
             "color": "#2a3f5f"
            },
            "error_y": {
             "color": "#2a3f5f"
            },
            "marker": {
             "line": {
              "color": "#E5ECF6",
              "width": 0.5
             },
             "pattern": {
              "fillmode": "overlay",
              "size": 10,
              "solidity": 0.2
             }
            },
            "type": "bar"
           }
          ],
          "barpolar": [
           {
            "marker": {
             "line": {
              "color": "#E5ECF6",
              "width": 0.5
             },
             "pattern": {
              "fillmode": "overlay",
              "size": 10,
              "solidity": 0.2
             }
            },
            "type": "barpolar"
           }
          ],
          "carpet": [
           {
            "aaxis": {
             "endlinecolor": "#2a3f5f",
             "gridcolor": "white",
             "linecolor": "white",
             "minorgridcolor": "white",
             "startlinecolor": "#2a3f5f"
            },
            "baxis": {
             "endlinecolor": "#2a3f5f",
             "gridcolor": "white",
             "linecolor": "white",
             "minorgridcolor": "white",
             "startlinecolor": "#2a3f5f"
            },
            "type": "carpet"
           }
          ],
          "choropleth": [
           {
            "colorbar": {
             "outlinewidth": 0,
             "ticks": ""
            },
            "type": "choropleth"
           }
          ],
          "contour": [
           {
            "colorbar": {
             "outlinewidth": 0,
             "ticks": ""
            },
            "colorscale": [
             [
              0,
              "#0d0887"
             ],
             [
              0.1111111111111111,
              "#46039f"
             ],
             [
              0.2222222222222222,
              "#7201a8"
             ],
             [
              0.3333333333333333,
              "#9c179e"
             ],
             [
              0.4444444444444444,
              "#bd3786"
             ],
             [
              0.5555555555555556,
              "#d8576b"
             ],
             [
              0.6666666666666666,
              "#ed7953"
             ],
             [
              0.7777777777777778,
              "#fb9f3a"
             ],
             [
              0.8888888888888888,
              "#fdca26"
             ],
             [
              1,
              "#f0f921"
             ]
            ],
            "type": "contour"
           }
          ],
          "contourcarpet": [
           {
            "colorbar": {
             "outlinewidth": 0,
             "ticks": ""
            },
            "type": "contourcarpet"
           }
          ],
          "heatmap": [
           {
            "colorbar": {
             "outlinewidth": 0,
             "ticks": ""
            },
            "colorscale": [
             [
              0,
              "#0d0887"
             ],
             [
              0.1111111111111111,
              "#46039f"
             ],
             [
              0.2222222222222222,
              "#7201a8"
             ],
             [
              0.3333333333333333,
              "#9c179e"
             ],
             [
              0.4444444444444444,
              "#bd3786"
             ],
             [
              0.5555555555555556,
              "#d8576b"
             ],
             [
              0.6666666666666666,
              "#ed7953"
             ],
             [
              0.7777777777777778,
              "#fb9f3a"
             ],
             [
              0.8888888888888888,
              "#fdca26"
             ],
             [
              1,
              "#f0f921"
             ]
            ],
            "type": "heatmap"
           }
          ],
          "histogram": [
           {
            "marker": {
             "pattern": {
              "fillmode": "overlay",
              "size": 10,
              "solidity": 0.2
             }
            },
            "type": "histogram"
           }
          ],
          "histogram2d": [
           {
            "colorbar": {
             "outlinewidth": 0,
             "ticks": ""
            },
            "colorscale": [
             [
              0,
              "#0d0887"
             ],
             [
              0.1111111111111111,
              "#46039f"
             ],
             [
              0.2222222222222222,
              "#7201a8"
             ],
             [
              0.3333333333333333,
              "#9c179e"
             ],
             [
              0.4444444444444444,
              "#bd3786"
             ],
             [
              0.5555555555555556,
              "#d8576b"
             ],
             [
              0.6666666666666666,
              "#ed7953"
             ],
             [
              0.7777777777777778,
              "#fb9f3a"
             ],
             [
              0.8888888888888888,
              "#fdca26"
             ],
             [
              1,
              "#f0f921"
             ]
            ],
            "type": "histogram2d"
           }
          ],
          "histogram2dcontour": [
           {
            "colorbar": {
             "outlinewidth": 0,
             "ticks": ""
            },
            "colorscale": [
             [
              0,
              "#0d0887"
             ],
             [
              0.1111111111111111,
              "#46039f"
             ],
             [
              0.2222222222222222,
              "#7201a8"
             ],
             [
              0.3333333333333333,
              "#9c179e"
             ],
             [
              0.4444444444444444,
              "#bd3786"
             ],
             [
              0.5555555555555556,
              "#d8576b"
             ],
             [
              0.6666666666666666,
              "#ed7953"
             ],
             [
              0.7777777777777778,
              "#fb9f3a"
             ],
             [
              0.8888888888888888,
              "#fdca26"
             ],
             [
              1,
              "#f0f921"
             ]
            ],
            "type": "histogram2dcontour"
           }
          ],
          "mesh3d": [
           {
            "colorbar": {
             "outlinewidth": 0,
             "ticks": ""
            },
            "type": "mesh3d"
           }
          ],
          "parcoords": [
           {
            "line": {
             "colorbar": {
              "outlinewidth": 0,
              "ticks": ""
             }
            },
            "type": "parcoords"
           }
          ],
          "pie": [
           {
            "automargin": true,
            "type": "pie"
           }
          ],
          "scatter": [
           {
            "fillpattern": {
             "fillmode": "overlay",
             "size": 10,
             "solidity": 0.2
            },
            "type": "scatter"
           }
          ],
          "scatter3d": [
           {
            "line": {
             "colorbar": {
              "outlinewidth": 0,
              "ticks": ""
             }
            },
            "marker": {
             "colorbar": {
              "outlinewidth": 0,
              "ticks": ""
             }
            },
            "type": "scatter3d"
           }
          ],
          "scattercarpet": [
           {
            "marker": {
             "colorbar": {
              "outlinewidth": 0,
              "ticks": ""
             }
            },
            "type": "scattercarpet"
           }
          ],
          "scattergeo": [
           {
            "marker": {
             "colorbar": {
              "outlinewidth": 0,
              "ticks": ""
             }
            },
            "type": "scattergeo"
           }
          ],
          "scattergl": [
           {
            "marker": {
             "colorbar": {
              "outlinewidth": 0,
              "ticks": ""
             }
            },
            "type": "scattergl"
           }
          ],
          "scattermap": [
           {
            "marker": {
             "colorbar": {
              "outlinewidth": 0,
              "ticks": ""
             }
            },
            "type": "scattermap"
           }
          ],
          "scattermapbox": [
           {
            "marker": {
             "colorbar": {
              "outlinewidth": 0,
              "ticks": ""
             }
            },
            "type": "scattermapbox"
           }
          ],
          "scatterpolar": [
           {
            "marker": {
             "colorbar": {
              "outlinewidth": 0,
              "ticks": ""
             }
            },
            "type": "scatterpolar"
           }
          ],
          "scatterpolargl": [
           {
            "marker": {
             "colorbar": {
              "outlinewidth": 0,
              "ticks": ""
             }
            },
            "type": "scatterpolargl"
           }
          ],
          "scatterternary": [
           {
            "marker": {
             "colorbar": {
              "outlinewidth": 0,
              "ticks": ""
             }
            },
            "type": "scatterternary"
           }
          ],
          "surface": [
           {
            "colorbar": {
             "outlinewidth": 0,
             "ticks": ""
            },
            "colorscale": [
             [
              0,
              "#0d0887"
             ],
             [
              0.1111111111111111,
              "#46039f"
             ],
             [
              0.2222222222222222,
              "#7201a8"
             ],
             [
              0.3333333333333333,
              "#9c179e"
             ],
             [
              0.4444444444444444,
              "#bd3786"
             ],
             [
              0.5555555555555556,
              "#d8576b"
             ],
             [
              0.6666666666666666,
              "#ed7953"
             ],
             [
              0.7777777777777778,
              "#fb9f3a"
             ],
             [
              0.8888888888888888,
              "#fdca26"
             ],
             [
              1,
              "#f0f921"
             ]
            ],
            "type": "surface"
           }
          ],
          "table": [
           {
            "cells": {
             "fill": {
              "color": "#EBF0F8"
             },
             "line": {
              "color": "white"
             }
            },
            "header": {
             "fill": {
              "color": "#C8D4E3"
             },
             "line": {
              "color": "white"
             }
            },
            "type": "table"
           }
          ]
         },
         "layout": {
          "annotationdefaults": {
           "arrowcolor": "#2a3f5f",
           "arrowhead": 0,
           "arrowwidth": 1
          },
          "autotypenumbers": "strict",
          "coloraxis": {
           "colorbar": {
            "outlinewidth": 0,
            "ticks": ""
           }
          },
          "colorscale": {
           "diverging": [
            [
             0,
             "#8e0152"
            ],
            [
             0.1,
             "#c51b7d"
            ],
            [
             0.2,
             "#de77ae"
            ],
            [
             0.3,
             "#f1b6da"
            ],
            [
             0.4,
             "#fde0ef"
            ],
            [
             0.5,
             "#f7f7f7"
            ],
            [
             0.6,
             "#e6f5d0"
            ],
            [
             0.7,
             "#b8e186"
            ],
            [
             0.8,
             "#7fbc41"
            ],
            [
             0.9,
             "#4d9221"
            ],
            [
             1,
             "#276419"
            ]
           ],
           "sequential": [
            [
             0,
             "#0d0887"
            ],
            [
             0.1111111111111111,
             "#46039f"
            ],
            [
             0.2222222222222222,
             "#7201a8"
            ],
            [
             0.3333333333333333,
             "#9c179e"
            ],
            [
             0.4444444444444444,
             "#bd3786"
            ],
            [
             0.5555555555555556,
             "#d8576b"
            ],
            [
             0.6666666666666666,
             "#ed7953"
            ],
            [
             0.7777777777777778,
             "#fb9f3a"
            ],
            [
             0.8888888888888888,
             "#fdca26"
            ],
            [
             1,
             "#f0f921"
            ]
           ],
           "sequentialminus": [
            [
             0,
             "#0d0887"
            ],
            [
             0.1111111111111111,
             "#46039f"
            ],
            [
             0.2222222222222222,
             "#7201a8"
            ],
            [
             0.3333333333333333,
             "#9c179e"
            ],
            [
             0.4444444444444444,
             "#bd3786"
            ],
            [
             0.5555555555555556,
             "#d8576b"
            ],
            [
             0.6666666666666666,
             "#ed7953"
            ],
            [
             0.7777777777777778,
             "#fb9f3a"
            ],
            [
             0.8888888888888888,
             "#fdca26"
            ],
            [
             1,
             "#f0f921"
            ]
           ]
          },
          "colorway": [
           "#636efa",
           "#EF553B",
           "#00cc96",
           "#ab63fa",
           "#FFA15A",
           "#19d3f3",
           "#FF6692",
           "#B6E880",
           "#FF97FF",
           "#FECB52"
          ],
          "font": {
           "color": "#2a3f5f"
          },
          "geo": {
           "bgcolor": "white",
           "lakecolor": "white",
           "landcolor": "#E5ECF6",
           "showlakes": true,
           "showland": true,
           "subunitcolor": "white"
          },
          "hoverlabel": {
           "align": "left"
          },
          "hovermode": "closest",
          "mapbox": {
           "style": "light"
          },
          "paper_bgcolor": "white",
          "plot_bgcolor": "#E5ECF6",
          "polar": {
           "angularaxis": {
            "gridcolor": "white",
            "linecolor": "white",
            "ticks": ""
           },
           "bgcolor": "#E5ECF6",
           "radialaxis": {
            "gridcolor": "white",
            "linecolor": "white",
            "ticks": ""
           }
          },
          "scene": {
           "xaxis": {
            "backgroundcolor": "#E5ECF6",
            "gridcolor": "white",
            "gridwidth": 2,
            "linecolor": "white",
            "showbackground": true,
            "ticks": "",
            "zerolinecolor": "white"
           },
           "yaxis": {
            "backgroundcolor": "#E5ECF6",
            "gridcolor": "white",
            "gridwidth": 2,
            "linecolor": "white",
            "showbackground": true,
            "ticks": "",
            "zerolinecolor": "white"
           },
           "zaxis": {
            "backgroundcolor": "#E5ECF6",
            "gridcolor": "white",
            "gridwidth": 2,
            "linecolor": "white",
            "showbackground": true,
            "ticks": "",
            "zerolinecolor": "white"
           }
          },
          "shapedefaults": {
           "line": {
            "color": "#2a3f5f"
           }
          },
          "ternary": {
           "aaxis": {
            "gridcolor": "white",
            "linecolor": "white",
            "ticks": ""
           },
           "baxis": {
            "gridcolor": "white",
            "linecolor": "white",
            "ticks": ""
           },
           "bgcolor": "#E5ECF6",
           "caxis": {
            "gridcolor": "white",
            "linecolor": "white",
            "ticks": ""
           }
          },
          "title": {
           "x": 0.05
          },
          "xaxis": {
           "automargin": true,
           "gridcolor": "white",
           "linecolor": "white",
           "ticks": "",
           "title": {
            "standoff": 15
           },
           "zerolinecolor": "white",
           "zerolinewidth": 2
          },
          "yaxis": {
           "automargin": true,
           "gridcolor": "white",
           "linecolor": "white",
           "ticks": "",
           "title": {
            "standoff": 15
           },
           "zerolinecolor": "white",
           "zerolinewidth": 2
          }
         }
        },
        "title": {
         "text": "Count of Rides by Windspeed (Morning Peak)"
        },
        "width": 500,
        "xaxis": {
         "anchor": "y",
         "domain": [
          0,
          1
         ],
         "title": {
          "text": "Windspeed"
         }
        },
        "yaxis": {
         "anchor": "x",
         "domain": [
          0,
          1
         ],
         "title": {
          "text": "Count of Riders"
         }
        }
       }
      }
     },
     "metadata": {},
     "output_type": "display_data"
    },
    {
     "data": {
      "application/vnd.plotly.v1+json": {
       "config": {
        "plotlyServerURL": "https://plot.ly"
       },
       "data": [
        {
         "bingroup": "x",
         "histfunc": "sum",
         "hovertemplate": "not_norm_windspeeds=%{x}<br>sum of cnt=%{y}<extra></extra>",
         "legendgroup": "",
         "marker": {
          "color": "#636efa",
          "pattern": {
           "shape": ""
          }
         },
         "name": "",
         "nbinsx": 24,
         "orientation": "v",
         "showlegend": false,
         "type": "histogram",
         "x": {
          "bdata": "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",
          "dtype": "f8"
         },
         "xaxis": "x",
         "y": {
          "bdata": "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",
          "dtype": "f8"
         },
         "yaxis": "y"
        }
       ],
       "layout": {
        "barmode": "relative",
        "height": 400,
        "legend": {
         "tracegroupgap": 0
        },
        "template": {
         "data": {
          "bar": [
           {
            "error_x": {
             "color": "#2a3f5f"
            },
            "error_y": {
             "color": "#2a3f5f"
            },
            "marker": {
             "line": {
              "color": "#E5ECF6",
              "width": 0.5
             },
             "pattern": {
              "fillmode": "overlay",
              "size": 10,
              "solidity": 0.2
             }
            },
            "type": "bar"
           }
          ],
          "barpolar": [
           {
            "marker": {
             "line": {
              "color": "#E5ECF6",
              "width": 0.5
             },
             "pattern": {
              "fillmode": "overlay",
              "size": 10,
              "solidity": 0.2
             }
            },
            "type": "barpolar"
           }
          ],
          "carpet": [
           {
            "aaxis": {
             "endlinecolor": "#2a3f5f",
             "gridcolor": "white",
             "linecolor": "white",
             "minorgridcolor": "white",
             "startlinecolor": "#2a3f5f"
            },
            "baxis": {
             "endlinecolor": "#2a3f5f",
             "gridcolor": "white",
             "linecolor": "white",
             "minorgridcolor": "white",
             "startlinecolor": "#2a3f5f"
            },
            "type": "carpet"
           }
          ],
          "choropleth": [
           {
            "colorbar": {
             "outlinewidth": 0,
             "ticks": ""
            },
            "type": "choropleth"
           }
          ],
          "contour": [
           {
            "colorbar": {
             "outlinewidth": 0,
             "ticks": ""
            },
            "colorscale": [
             [
              0,
              "#0d0887"
             ],
             [
              0.1111111111111111,
              "#46039f"
             ],
             [
              0.2222222222222222,
              "#7201a8"
             ],
             [
              0.3333333333333333,
              "#9c179e"
             ],
             [
              0.4444444444444444,
              "#bd3786"
             ],
             [
              0.5555555555555556,
              "#d8576b"
             ],
             [
              0.6666666666666666,
              "#ed7953"
             ],
             [
              0.7777777777777778,
              "#fb9f3a"
             ],
             [
              0.8888888888888888,
              "#fdca26"
             ],
             [
              1,
              "#f0f921"
             ]
            ],
            "type": "contour"
           }
          ],
          "contourcarpet": [
           {
            "colorbar": {
             "outlinewidth": 0,
             "ticks": ""
            },
            "type": "contourcarpet"
           }
          ],
          "heatmap": [
           {
            "colorbar": {
             "outlinewidth": 0,
             "ticks": ""
            },
            "colorscale": [
             [
              0,
              "#0d0887"
             ],
             [
              0.1111111111111111,
              "#46039f"
             ],
             [
              0.2222222222222222,
              "#7201a8"
             ],
             [
              0.3333333333333333,
              "#9c179e"
             ],
             [
              0.4444444444444444,
              "#bd3786"
             ],
             [
              0.5555555555555556,
              "#d8576b"
             ],
             [
              0.6666666666666666,
              "#ed7953"
             ],
             [
              0.7777777777777778,
              "#fb9f3a"
             ],
             [
              0.8888888888888888,
              "#fdca26"
             ],
             [
              1,
              "#f0f921"
             ]
            ],
            "type": "heatmap"
           }
          ],
          "histogram": [
           {
            "marker": {
             "pattern": {
              "fillmode": "overlay",
              "size": 10,
              "solidity": 0.2
             }
            },
            "type": "histogram"
           }
          ],
          "histogram2d": [
           {
            "colorbar": {
             "outlinewidth": 0,
             "ticks": ""
            },
            "colorscale": [
             [
              0,
              "#0d0887"
             ],
             [
              0.1111111111111111,
              "#46039f"
             ],
             [
              0.2222222222222222,
              "#7201a8"
             ],
             [
              0.3333333333333333,
              "#9c179e"
             ],
             [
              0.4444444444444444,
              "#bd3786"
             ],
             [
              0.5555555555555556,
              "#d8576b"
             ],
             [
              0.6666666666666666,
              "#ed7953"
             ],
             [
              0.7777777777777778,
              "#fb9f3a"
             ],
             [
              0.8888888888888888,
              "#fdca26"
             ],
             [
              1,
              "#f0f921"
             ]
            ],
            "type": "histogram2d"
           }
          ],
          "histogram2dcontour": [
           {
            "colorbar": {
             "outlinewidth": 0,
             "ticks": ""
            },
            "colorscale": [
             [
              0,
              "#0d0887"
             ],
             [
              0.1111111111111111,
              "#46039f"
             ],
             [
              0.2222222222222222,
              "#7201a8"
             ],
             [
              0.3333333333333333,
              "#9c179e"
             ],
             [
              0.4444444444444444,
              "#bd3786"
             ],
             [
              0.5555555555555556,
              "#d8576b"
             ],
             [
              0.6666666666666666,
              "#ed7953"
             ],
             [
              0.7777777777777778,
              "#fb9f3a"
             ],
             [
              0.8888888888888888,
              "#fdca26"
             ],
             [
              1,
              "#f0f921"
             ]
            ],
            "type": "histogram2dcontour"
           }
          ],
          "mesh3d": [
           {
            "colorbar": {
             "outlinewidth": 0,
             "ticks": ""
            },
            "type": "mesh3d"
           }
          ],
          "parcoords": [
           {
            "line": {
             "colorbar": {
              "outlinewidth": 0,
              "ticks": ""
             }
            },
            "type": "parcoords"
           }
          ],
          "pie": [
           {
            "automargin": true,
            "type": "pie"
           }
          ],
          "scatter": [
           {
            "fillpattern": {
             "fillmode": "overlay",
             "size": 10,
             "solidity": 0.2
            },
            "type": "scatter"
           }
          ],
          "scatter3d": [
           {
            "line": {
             "colorbar": {
              "outlinewidth": 0,
              "ticks": ""
             }
            },
            "marker": {
             "colorbar": {
              "outlinewidth": 0,
              "ticks": ""
             }
            },
            "type": "scatter3d"
           }
          ],
          "scattercarpet": [
           {
            "marker": {
             "colorbar": {
              "outlinewidth": 0,
              "ticks": ""
             }
            },
            "type": "scattercarpet"
           }
          ],
          "scattergeo": [
           {
            "marker": {
             "colorbar": {
              "outlinewidth": 0,
              "ticks": ""
             }
            },
            "type": "scattergeo"
           }
          ],
          "scattergl": [
           {
            "marker": {
             "colorbar": {
              "outlinewidth": 0,
              "ticks": ""
             }
            },
            "type": "scattergl"
           }
          ],
          "scattermap": [
           {
            "marker": {
             "colorbar": {
              "outlinewidth": 0,
              "ticks": ""
             }
            },
            "type": "scattermap"
           }
          ],
          "scattermapbox": [
           {
            "marker": {
             "colorbar": {
              "outlinewidth": 0,
              "ticks": ""
             }
            },
            "type": "scattermapbox"
           }
          ],
          "scatterpolar": [
           {
            "marker": {
             "colorbar": {
              "outlinewidth": 0,
              "ticks": ""
             }
            },
            "type": "scatterpolar"
           }
          ],
          "scatterpolargl": [
           {
            "marker": {
             "colorbar": {
              "outlinewidth": 0,
              "ticks": ""
             }
            },
            "type": "scatterpolargl"
           }
          ],
          "scatterternary": [
           {
            "marker": {
             "colorbar": {
              "outlinewidth": 0,
              "ticks": ""
             }
            },
            "type": "scatterternary"
           }
          ],
          "surface": [
           {
            "colorbar": {
             "outlinewidth": 0,
             "ticks": ""
            },
            "colorscale": [
             [
              0,
              "#0d0887"
             ],
             [
              0.1111111111111111,
              "#46039f"
             ],
             [
              0.2222222222222222,
              "#7201a8"
             ],
             [
              0.3333333333333333,
              "#9c179e"
             ],
             [
              0.4444444444444444,
              "#bd3786"
             ],
             [
              0.5555555555555556,
              "#d8576b"
             ],
             [
              0.6666666666666666,
              "#ed7953"
             ],
             [
              0.7777777777777778,
              "#fb9f3a"
             ],
             [
              0.8888888888888888,
              "#fdca26"
             ],
             [
              1,
              "#f0f921"
             ]
            ],
            "type": "surface"
           }
          ],
          "table": [
           {
            "cells": {
             "fill": {
              "color": "#EBF0F8"
             },
             "line": {
              "color": "white"
             }
            },
            "header": {
             "fill": {
              "color": "#C8D4E3"
             },
             "line": {
              "color": "white"
             }
            },
            "type": "table"
           }
          ]
         },
         "layout": {
          "annotationdefaults": {
           "arrowcolor": "#2a3f5f",
           "arrowhead": 0,
           "arrowwidth": 1
          },
          "autotypenumbers": "strict",
          "coloraxis": {
           "colorbar": {
            "outlinewidth": 0,
            "ticks": ""
           }
          },
          "colorscale": {
           "diverging": [
            [
             0,
             "#8e0152"
            ],
            [
             0.1,
             "#c51b7d"
            ],
            [
             0.2,
             "#de77ae"
            ],
            [
             0.3,
             "#f1b6da"
            ],
            [
             0.4,
             "#fde0ef"
            ],
            [
             0.5,
             "#f7f7f7"
            ],
            [
             0.6,
             "#e6f5d0"
            ],
            [
             0.7,
             "#b8e186"
            ],
            [
             0.8,
             "#7fbc41"
            ],
            [
             0.9,
             "#4d9221"
            ],
            [
             1,
             "#276419"
            ]
           ],
           "sequential": [
            [
             0,
             "#0d0887"
            ],
            [
             0.1111111111111111,
             "#46039f"
            ],
            [
             0.2222222222222222,
             "#7201a8"
            ],
            [
             0.3333333333333333,
             "#9c179e"
            ],
            [
             0.4444444444444444,
             "#bd3786"
            ],
            [
             0.5555555555555556,
             "#d8576b"
            ],
            [
             0.6666666666666666,
             "#ed7953"
            ],
            [
             0.7777777777777778,
             "#fb9f3a"
            ],
            [
             0.8888888888888888,
             "#fdca26"
            ],
            [
             1,
             "#f0f921"
            ]
           ],
           "sequentialminus": [
            [
             0,
             "#0d0887"
            ],
            [
             0.1111111111111111,
             "#46039f"
            ],
            [
             0.2222222222222222,
             "#7201a8"
            ],
            [
             0.3333333333333333,
             "#9c179e"
            ],
            [
             0.4444444444444444,
             "#bd3786"
            ],
            [
             0.5555555555555556,
             "#d8576b"
            ],
            [
             0.6666666666666666,
             "#ed7953"
            ],
            [
             0.7777777777777778,
             "#fb9f3a"
            ],
            [
             0.8888888888888888,
             "#fdca26"
            ],
            [
             1,
             "#f0f921"
            ]
           ]
          },
          "colorway": [
           "#636efa",
           "#EF553B",
           "#00cc96",
           "#ab63fa",
           "#FFA15A",
           "#19d3f3",
           "#FF6692",
           "#B6E880",
           "#FF97FF",
           "#FECB52"
          ],
          "font": {
           "color": "#2a3f5f"
          },
          "geo": {
           "bgcolor": "white",
           "lakecolor": "white",
           "landcolor": "#E5ECF6",
           "showlakes": true,
           "showland": true,
           "subunitcolor": "white"
          },
          "hoverlabel": {
           "align": "left"
          },
          "hovermode": "closest",
          "mapbox": {
           "style": "light"
          },
          "paper_bgcolor": "white",
          "plot_bgcolor": "#E5ECF6",
          "polar": {
           "angularaxis": {
            "gridcolor": "white",
            "linecolor": "white",
            "ticks": ""
           },
           "bgcolor": "#E5ECF6",
           "radialaxis": {
            "gridcolor": "white",
            "linecolor": "white",
            "ticks": ""
           }
          },
          "scene": {
           "xaxis": {
            "backgroundcolor": "#E5ECF6",
            "gridcolor": "white",
            "gridwidth": 2,
            "linecolor": "white",
            "showbackground": true,
            "ticks": "",
            "zerolinecolor": "white"
           },
           "yaxis": {
            "backgroundcolor": "#E5ECF6",
            "gridcolor": "white",
            "gridwidth": 2,
            "linecolor": "white",
            "showbackground": true,
            "ticks": "",
            "zerolinecolor": "white"
           },
           "zaxis": {
            "backgroundcolor": "#E5ECF6",
            "gridcolor": "white",
            "gridwidth": 2,
            "linecolor": "white",
            "showbackground": true,
            "ticks": "",
            "zerolinecolor": "white"
           }
          },
          "shapedefaults": {
           "line": {
            "color": "#2a3f5f"
           }
          },
          "ternary": {
           "aaxis": {
            "gridcolor": "white",
            "linecolor": "white",
            "ticks": ""
           },
           "baxis": {
            "gridcolor": "white",
            "linecolor": "white",
            "ticks": ""
           },
           "bgcolor": "#E5ECF6",
           "caxis": {
            "gridcolor": "white",
            "linecolor": "white",
            "ticks": ""
           }
          },
          "title": {
           "x": 0.05
          },
          "xaxis": {
           "automargin": true,
           "gridcolor": "white",
           "linecolor": "white",
           "ticks": "",
           "title": {
            "standoff": 15
           },
           "zerolinecolor": "white",
           "zerolinewidth": 2
          },
          "yaxis": {
           "automargin": true,
           "gridcolor": "white",
           "linecolor": "white",
           "ticks": "",
           "title": {
            "standoff": 15
           },
           "zerolinecolor": "white",
           "zerolinewidth": 2
          }
         }
        },
        "title": {
         "text": "Count of Rides by Windspeed (Evening Peak)"
        },
        "width": 500,
        "xaxis": {
         "anchor": "y",
         "domain": [
          0,
          1
         ],
         "title": {
          "text": "Windspeed"
         }
        },
        "yaxis": {
         "anchor": "x",
         "domain": [
          0,
          1
         ],
         "title": {
          "text": "Count of Riders"
         }
        }
       }
      }
     },
     "metadata": {},
     "output_type": "display_data"
    }
   ],
   "source": [
    "### WINDSPEEDS HISTOGRAMS (very dangerous windspeeds during these hours, would benefit from a warning/speed reduction)\n",
    "\n",
    "# MORNING HISTOGRAM (windspeeds are up to danagerous levels)\n",
    "morningwinds = morningpeak.groupby('dteday').agg({'cnt':'mean','not_norm_windspeeds':'mean'}).reset_index()\n",
    "morninghist = px.histogram(morningwinds,'not_norm_windspeeds','cnt',title='Count of Rides by Windspeed (Morning Peak)',nbins=24,height=400,width=500)\n",
    "\n",
    "morninghist.update_layout(xaxis_title='Windspeed',yaxis_title='Count of Riders')\n",
    "\n",
    "# EVENING HISTOGRAM (windspeed averages go up to even 40 mph)\n",
    "eveningwinds = eveningpeak.groupby('dteday').agg({'cnt':'mean','not_norm_windspeeds':'mean'}).reset_index()\n",
    "eveninghist = px.histogram(eveningwinds,'not_norm_windspeeds','cnt',title='Count of Rides by Windspeed (Evening Peak)',nbins=24,height=400,width=500)\n",
    "\n",
    "eveninghist.update_layout(xaxis_title='Windspeed',yaxis_title='Count of Riders')\n",
    "\n",
    "\n",
    "morninghist.show()\n",
    "morninghist.write_image('morninghist.png')\n",
    "eveninghist.show()\n",
    "eveninghist.write_image('eveninghist.png')"
   ]
  },
  {
   "cell_type": "code",
   "execution_count": null,
   "id": "01d83ac3",
   "metadata": {},
   "outputs": [
    {
     "data": {
      "application/vnd.plotly.v1+json": {
       "config": {
        "plotlyServerURL": "https://plot.ly"
       },
       "data": [
        {
         "domain": {
          "x": [
           0,
           1
          ],
          "y": [
           0,
           1
          ]
         },
         "hovertemplate": "label=%{label}<br>value=%{value}<extra></extra>",
         "labels": [
          "casual",
          "registered"
         ],
         "legendgroup": "",
         "name": "",
         "showlegend": true,
         "type": "pie",
         "values": {
          "bdata": "W2uttdY6MUAZY4wxRul2QA==",
          "dtype": "f8"
         }
        }
       ],
       "layout": {
        "height": 400,
        "legend": {
         "tracegroupgap": 0
        },
        "template": {
         "data": {
          "bar": [
           {
            "error_x": {
             "color": "#2a3f5f"
            },
            "error_y": {
             "color": "#2a3f5f"
            },
            "marker": {
             "line": {
              "color": "#E5ECF6",
              "width": 0.5
             },
             "pattern": {
              "fillmode": "overlay",
              "size": 10,
              "solidity": 0.2
             }
            },
            "type": "bar"
           }
          ],
          "barpolar": [
           {
            "marker": {
             "line": {
              "color": "#E5ECF6",
              "width": 0.5
             },
             "pattern": {
              "fillmode": "overlay",
              "size": 10,
              "solidity": 0.2
             }
            },
            "type": "barpolar"
           }
          ],
          "carpet": [
           {
            "aaxis": {
             "endlinecolor": "#2a3f5f",
             "gridcolor": "white",
             "linecolor": "white",
             "minorgridcolor": "white",
             "startlinecolor": "#2a3f5f"
            },
            "baxis": {
             "endlinecolor": "#2a3f5f",
             "gridcolor": "white",
             "linecolor": "white",
             "minorgridcolor": "white",
             "startlinecolor": "#2a3f5f"
            },
            "type": "carpet"
           }
          ],
          "choropleth": [
           {
            "colorbar": {
             "outlinewidth": 0,
             "ticks": ""
            },
            "type": "choropleth"
           }
          ],
          "contour": [
           {
            "colorbar": {
             "outlinewidth": 0,
             "ticks": ""
            },
            "colorscale": [
             [
              0,
              "#0d0887"
             ],
             [
              0.1111111111111111,
              "#46039f"
             ],
             [
              0.2222222222222222,
              "#7201a8"
             ],
             [
              0.3333333333333333,
              "#9c179e"
             ],
             [
              0.4444444444444444,
              "#bd3786"
             ],
             [
              0.5555555555555556,
              "#d8576b"
             ],
             [
              0.6666666666666666,
              "#ed7953"
             ],
             [
              0.7777777777777778,
              "#fb9f3a"
             ],
             [
              0.8888888888888888,
              "#fdca26"
             ],
             [
              1,
              "#f0f921"
             ]
            ],
            "type": "contour"
           }
          ],
          "contourcarpet": [
           {
            "colorbar": {
             "outlinewidth": 0,
             "ticks": ""
            },
            "type": "contourcarpet"
           }
          ],
          "heatmap": [
           {
            "colorbar": {
             "outlinewidth": 0,
             "ticks": ""
            },
            "colorscale": [
             [
              0,
              "#0d0887"
             ],
             [
              0.1111111111111111,
              "#46039f"
             ],
             [
              0.2222222222222222,
              "#7201a8"
             ],
             [
              0.3333333333333333,
              "#9c179e"
             ],
             [
              0.4444444444444444,
              "#bd3786"
             ],
             [
              0.5555555555555556,
              "#d8576b"
             ],
             [
              0.6666666666666666,
              "#ed7953"
             ],
             [
              0.7777777777777778,
              "#fb9f3a"
             ],
             [
              0.8888888888888888,
              "#fdca26"
             ],
             [
              1,
              "#f0f921"
             ]
            ],
            "type": "heatmap"
           }
          ],
          "histogram": [
           {
            "marker": {
             "pattern": {
              "fillmode": "overlay",
              "size": 10,
              "solidity": 0.2
             }
            },
            "type": "histogram"
           }
          ],
          "histogram2d": [
           {
            "colorbar": {
             "outlinewidth": 0,
             "ticks": ""
            },
            "colorscale": [
             [
              0,
              "#0d0887"
             ],
             [
              0.1111111111111111,
              "#46039f"
             ],
             [
              0.2222222222222222,
              "#7201a8"
             ],
             [
              0.3333333333333333,
              "#9c179e"
             ],
             [
              0.4444444444444444,
              "#bd3786"
             ],
             [
              0.5555555555555556,
              "#d8576b"
             ],
             [
              0.6666666666666666,
              "#ed7953"
             ],
             [
              0.7777777777777778,
              "#fb9f3a"
             ],
             [
              0.8888888888888888,
              "#fdca26"
             ],
             [
              1,
              "#f0f921"
             ]
            ],
            "type": "histogram2d"
           }
          ],
          "histogram2dcontour": [
           {
            "colorbar": {
             "outlinewidth": 0,
             "ticks": ""
            },
            "colorscale": [
             [
              0,
              "#0d0887"
             ],
             [
              0.1111111111111111,
              "#46039f"
             ],
             [
              0.2222222222222222,
              "#7201a8"
             ],
             [
              0.3333333333333333,
              "#9c179e"
             ],
             [
              0.4444444444444444,
              "#bd3786"
             ],
             [
              0.5555555555555556,
              "#d8576b"
             ],
             [
              0.6666666666666666,
              "#ed7953"
             ],
             [
              0.7777777777777778,
              "#fb9f3a"
             ],
             [
              0.8888888888888888,
              "#fdca26"
             ],
             [
              1,
              "#f0f921"
             ]
            ],
            "type": "histogram2dcontour"
           }
          ],
          "mesh3d": [
           {
            "colorbar": {
             "outlinewidth": 0,
             "ticks": ""
            },
            "type": "mesh3d"
           }
          ],
          "parcoords": [
           {
            "line": {
             "colorbar": {
              "outlinewidth": 0,
              "ticks": ""
             }
            },
            "type": "parcoords"
           }
          ],
          "pie": [
           {
            "automargin": true,
            "type": "pie"
           }
          ],
          "scatter": [
           {
            "fillpattern": {
             "fillmode": "overlay",
             "size": 10,
             "solidity": 0.2
            },
            "type": "scatter"
           }
          ],
          "scatter3d": [
           {
            "line": {
             "colorbar": {
              "outlinewidth": 0,
              "ticks": ""
             }
            },
            "marker": {
             "colorbar": {
              "outlinewidth": 0,
              "ticks": ""
             }
            },
            "type": "scatter3d"
           }
          ],
          "scattercarpet": [
           {
            "marker": {
             "colorbar": {
              "outlinewidth": 0,
              "ticks": ""
             }
            },
            "type": "scattercarpet"
           }
          ],
          "scattergeo": [
           {
            "marker": {
             "colorbar": {
              "outlinewidth": 0,
              "ticks": ""
             }
            },
            "type": "scattergeo"
           }
          ],
          "scattergl": [
           {
            "marker": {
             "colorbar": {
              "outlinewidth": 0,
              "ticks": ""
             }
            },
            "type": "scattergl"
           }
          ],
          "scattermap": [
           {
            "marker": {
             "colorbar": {
              "outlinewidth": 0,
              "ticks": ""
             }
            },
            "type": "scattermap"
           }
          ],
          "scattermapbox": [
           {
            "marker": {
             "colorbar": {
              "outlinewidth": 0,
              "ticks": ""
             }
            },
            "type": "scattermapbox"
           }
          ],
          "scatterpolar": [
           {
            "marker": {
             "colorbar": {
              "outlinewidth": 0,
              "ticks": ""
             }
            },
            "type": "scatterpolar"
           }
          ],
          "scatterpolargl": [
           {
            "marker": {
             "colorbar": {
              "outlinewidth": 0,
              "ticks": ""
             }
            },
            "type": "scatterpolargl"
           }
          ],
          "scatterternary": [
           {
            "marker": {
             "colorbar": {
              "outlinewidth": 0,
              "ticks": ""
             }
            },
            "type": "scatterternary"
           }
          ],
          "surface": [
           {
            "colorbar": {
             "outlinewidth": 0,
             "ticks": ""
            },
            "colorscale": [
             [
              0,
              "#0d0887"
             ],
             [
              0.1111111111111111,
              "#46039f"
             ],
             [
              0.2222222222222222,
              "#7201a8"
             ],
             [
              0.3333333333333333,
              "#9c179e"
             ],
             [
              0.4444444444444444,
              "#bd3786"
             ],
             [
              0.5555555555555556,
              "#d8576b"
             ],
             [
              0.6666666666666666,
              "#ed7953"
             ],
             [
              0.7777777777777778,
              "#fb9f3a"
             ],
             [
              0.8888888888888888,
              "#fdca26"
             ],
             [
              1,
              "#f0f921"
             ]
            ],
            "type": "surface"
           }
          ],
          "table": [
           {
            "cells": {
             "fill": {
              "color": "#EBF0F8"
             },
             "line": {
              "color": "white"
             }
            },
            "header": {
             "fill": {
              "color": "#C8D4E3"
             },
             "line": {
              "color": "white"
             }
            },
            "type": "table"
           }
          ]
         },
         "layout": {
          "annotationdefaults": {
           "arrowcolor": "#2a3f5f",
           "arrowhead": 0,
           "arrowwidth": 1
          },
          "autotypenumbers": "strict",
          "coloraxis": {
           "colorbar": {
            "outlinewidth": 0,
            "ticks": ""
           }
          },
          "colorscale": {
           "diverging": [
            [
             0,
             "#8e0152"
            ],
            [
             0.1,
             "#c51b7d"
            ],
            [
             0.2,
             "#de77ae"
            ],
            [
             0.3,
             "#f1b6da"
            ],
            [
             0.4,
             "#fde0ef"
            ],
            [
             0.5,
             "#f7f7f7"
            ],
            [
             0.6,
             "#e6f5d0"
            ],
            [
             0.7,
             "#b8e186"
            ],
            [
             0.8,
             "#7fbc41"
            ],
            [
             0.9,
             "#4d9221"
            ],
            [
             1,
             "#276419"
            ]
           ],
           "sequential": [
            [
             0,
             "#0d0887"
            ],
            [
             0.1111111111111111,
             "#46039f"
            ],
            [
             0.2222222222222222,
             "#7201a8"
            ],
            [
             0.3333333333333333,
             "#9c179e"
            ],
            [
             0.4444444444444444,
             "#bd3786"
            ],
            [
             0.5555555555555556,
             "#d8576b"
            ],
            [
             0.6666666666666666,
             "#ed7953"
            ],
            [
             0.7777777777777778,
             "#fb9f3a"
            ],
            [
             0.8888888888888888,
             "#fdca26"
            ],
            [
             1,
             "#f0f921"
            ]
           ],
           "sequentialminus": [
            [
             0,
             "#0d0887"
            ],
            [
             0.1111111111111111,
             "#46039f"
            ],
            [
             0.2222222222222222,
             "#7201a8"
            ],
            [
             0.3333333333333333,
             "#9c179e"
            ],
            [
             0.4444444444444444,
             "#bd3786"
            ],
            [
             0.5555555555555556,
             "#d8576b"
            ],
            [
             0.6666666666666666,
             "#ed7953"
            ],
            [
             0.7777777777777778,
             "#fb9f3a"
            ],
            [
             0.8888888888888888,
             "#fdca26"
            ],
            [
             1,
             "#f0f921"
            ]
           ]
          },
          "colorway": [
           "#636efa",
           "#EF553B",
           "#00cc96",
           "#ab63fa",
           "#FFA15A",
           "#19d3f3",
           "#FF6692",
           "#B6E880",
           "#FF97FF",
           "#FECB52"
          ],
          "font": {
           "color": "#2a3f5f"
          },
          "geo": {
           "bgcolor": "white",
           "lakecolor": "white",
           "landcolor": "#E5ECF6",
           "showlakes": true,
           "showland": true,
           "subunitcolor": "white"
          },
          "hoverlabel": {
           "align": "left"
          },
          "hovermode": "closest",
          "mapbox": {
           "style": "light"
          },
          "paper_bgcolor": "white",
          "plot_bgcolor": "#E5ECF6",
          "polar": {
           "angularaxis": {
            "gridcolor": "white",
            "linecolor": "white",
            "ticks": ""
           },
           "bgcolor": "#E5ECF6",
           "radialaxis": {
            "gridcolor": "white",
            "linecolor": "white",
            "ticks": ""
           }
          },
          "scene": {
           "xaxis": {
            "backgroundcolor": "#E5ECF6",
            "gridcolor": "white",
            "gridwidth": 2,
            "linecolor": "white",
            "showbackground": true,
            "ticks": "",
            "zerolinecolor": "white"
           },
           "yaxis": {
            "backgroundcolor": "#E5ECF6",
            "gridcolor": "white",
            "gridwidth": 2,
            "linecolor": "white",
            "showbackground": true,
            "ticks": "",
            "zerolinecolor": "white"
           },
           "zaxis": {
            "backgroundcolor": "#E5ECF6",
            "gridcolor": "white",
            "gridwidth": 2,
            "linecolor": "white",
            "showbackground": true,
            "ticks": "",
            "zerolinecolor": "white"
           }
          },
          "shapedefaults": {
           "line": {
            "color": "#2a3f5f"
           }
          },
          "ternary": {
           "aaxis": {
            "gridcolor": "white",
            "linecolor": "white",
            "ticks": ""
           },
           "baxis": {
            "gridcolor": "white",
            "linecolor": "white",
            "ticks": ""
           },
           "bgcolor": "#E5ECF6",
           "caxis": {
            "gridcolor": "white",
            "linecolor": "white",
            "ticks": ""
           }
          },
          "title": {
           "x": 0.05
          },
          "xaxis": {
           "automargin": true,
           "gridcolor": "white",
           "linecolor": "white",
           "ticks": "",
           "title": {
            "standoff": 15
           },
           "zerolinecolor": "white",
           "zerolinewidth": 2
          },
          "yaxis": {
           "automargin": true,
           "gridcolor": "white",
           "linecolor": "white",
           "ticks": "",
           "title": {
            "standoff": 15
           },
           "zerolinecolor": "white",
           "zerolinewidth": 2
          }
         }
        },
        "title": {
         "text": "Composition of Registered vs Casual Riders (Morning Peak)"
        },
        "width": 550
       }
      }
     },
     "metadata": {},
     "output_type": "display_data"
    }
   ],
   "source": [
    "# morning peak pie\n",
    "morningcountindex = morningpeak[['dteday','casual','registered','cnt']].reset_index()\n",
    "morningsums = morningcountindex[['casual','registered']].mean()\n",
    "\n",
    "morningpie = px.pie(morningsums,names=['casual','registered'],values=morningsums,title='Composition of Registered vs Casual Riders (Morning Peak)',height=400, width=550)\n",
    "\n",
    "# evening peak pie (a higher percentage of casual bike riders in the evening compared to night but still both smaller percentages vs all day pie)\n",
    "\n",
    "eveningcountindex = eveningpeak[['dteday','casual','registered','cnt']].reset_index()\n",
    "eveningsums = eveningcountindex[['casual','registered']].mean()\n",
    "\n",
    "eveningpie = px.pie(eveningsums,names=['casual','registered'],values=eveningsums,title='Composition of Registered vs Casual Riders (Evening Peak)',height=400, width=550)\n",
    "\n",
    "morningpie.show()\n",
    "morningpie.write_image('morningpie.png')\n",
    "eveningpie.show()\n",
    "eveningpie.write_image('eveningpie.png')"
   ]
  },
  {
   "cell_type": "code",
   "execution_count": null,
   "id": "2d76b33b",
   "metadata": {},
   "outputs": [
    {
     "data": {
      "application/vnd.plotly.v1+json": {
       "config": {
        "plotlyServerURL": "https://plot.ly"
       },
       "data": [
        {
         "hovertemplate": "season=%{x}<br>cnt=%{text}<extra></extra>",
         "legendgroup": "",
         "marker": {
          "color": [
           "RoyalBlue",
           "RoyalBlue",
           "ForestGreen",
           "FireBrick"
          ],
          "pattern": {
           "shape": ""
          }
         },
         "name": "",
         "orientation": "v",
         "showlegend": false,
         "text": {
          "bdata": "AAAAAFCN+EAAAAAAcIP4QAAAAADQh/1AAAAAAEC37EA=",
          "dtype": "f8"
         },
         "textposition": "outside",
         "type": "bar",
         "x": [
          "fall",
          "spring",
          "summer",
          "winter"
         ],
         "xaxis": "x",
         "y": {
          "bdata": "1YgBADeIAQB92AEAuuUAAA==",
          "dtype": "i4"
         },
         "yaxis": "y"
        }
       ],
       "layout": {
        "barmode": "relative",
        "font": {
         "size": 12
        },
        "height": 500,
        "legend": {
         "tracegroupgap": 0
        },
        "template": {
         "data": {
          "bar": [
           {
            "error_x": {
             "color": "#2a3f5f"
            },
            "error_y": {
             "color": "#2a3f5f"
            },
            "marker": {
             "line": {
              "color": "#E5ECF6",
              "width": 0.5
             },
             "pattern": {
              "fillmode": "overlay",
              "size": 10,
              "solidity": 0.2
             }
            },
            "type": "bar"
           }
          ],
          "barpolar": [
           {
            "marker": {
             "line": {
              "color": "#E5ECF6",
              "width": 0.5
             },
             "pattern": {
              "fillmode": "overlay",
              "size": 10,
              "solidity": 0.2
             }
            },
            "type": "barpolar"
           }
          ],
          "carpet": [
           {
            "aaxis": {
             "endlinecolor": "#2a3f5f",
             "gridcolor": "white",
             "linecolor": "white",
             "minorgridcolor": "white",
             "startlinecolor": "#2a3f5f"
            },
            "baxis": {
             "endlinecolor": "#2a3f5f",
             "gridcolor": "white",
             "linecolor": "white",
             "minorgridcolor": "white",
             "startlinecolor": "#2a3f5f"
            },
            "type": "carpet"
           }
          ],
          "choropleth": [
           {
            "colorbar": {
             "outlinewidth": 0,
             "ticks": ""
            },
            "type": "choropleth"
           }
          ],
          "contour": [
           {
            "colorbar": {
             "outlinewidth": 0,
             "ticks": ""
            },
            "colorscale": [
             [
              0,
              "#0d0887"
             ],
             [
              0.1111111111111111,
              "#46039f"
             ],
             [
              0.2222222222222222,
              "#7201a8"
             ],
             [
              0.3333333333333333,
              "#9c179e"
             ],
             [
              0.4444444444444444,
              "#bd3786"
             ],
             [
              0.5555555555555556,
              "#d8576b"
             ],
             [
              0.6666666666666666,
              "#ed7953"
             ],
             [
              0.7777777777777778,
              "#fb9f3a"
             ],
             [
              0.8888888888888888,
              "#fdca26"
             ],
             [
              1,
              "#f0f921"
             ]
            ],
            "type": "contour"
           }
          ],
          "contourcarpet": [
           {
            "colorbar": {
             "outlinewidth": 0,
             "ticks": ""
            },
            "type": "contourcarpet"
           }
          ],
          "heatmap": [
           {
            "colorbar": {
             "outlinewidth": 0,
             "ticks": ""
            },
            "colorscale": [
             [
              0,
              "#0d0887"
             ],
             [
              0.1111111111111111,
              "#46039f"
             ],
             [
              0.2222222222222222,
              "#7201a8"
             ],
             [
              0.3333333333333333,
              "#9c179e"
             ],
             [
              0.4444444444444444,
              "#bd3786"
             ],
             [
              0.5555555555555556,
              "#d8576b"
             ],
             [
              0.6666666666666666,
              "#ed7953"
             ],
             [
              0.7777777777777778,
              "#fb9f3a"
             ],
             [
              0.8888888888888888,
              "#fdca26"
             ],
             [
              1,
              "#f0f921"
             ]
            ],
            "type": "heatmap"
           }
          ],
          "histogram": [
           {
            "marker": {
             "pattern": {
              "fillmode": "overlay",
              "size": 10,
              "solidity": 0.2
             }
            },
            "type": "histogram"
           }
          ],
          "histogram2d": [
           {
            "colorbar": {
             "outlinewidth": 0,
             "ticks": ""
            },
            "colorscale": [
             [
              0,
              "#0d0887"
             ],
             [
              0.1111111111111111,
              "#46039f"
             ],
             [
              0.2222222222222222,
              "#7201a8"
             ],
             [
              0.3333333333333333,
              "#9c179e"
             ],
             [
              0.4444444444444444,
              "#bd3786"
             ],
             [
              0.5555555555555556,
              "#d8576b"
             ],
             [
              0.6666666666666666,
              "#ed7953"
             ],
             [
              0.7777777777777778,
              "#fb9f3a"
             ],
             [
              0.8888888888888888,
              "#fdca26"
             ],
             [
              1,
              "#f0f921"
             ]
            ],
            "type": "histogram2d"
           }
          ],
          "histogram2dcontour": [
           {
            "colorbar": {
             "outlinewidth": 0,
             "ticks": ""
            },
            "colorscale": [
             [
              0,
              "#0d0887"
             ],
             [
              0.1111111111111111,
              "#46039f"
             ],
             [
              0.2222222222222222,
              "#7201a8"
             ],
             [
              0.3333333333333333,
              "#9c179e"
             ],
             [
              0.4444444444444444,
              "#bd3786"
             ],
             [
              0.5555555555555556,
              "#d8576b"
             ],
             [
              0.6666666666666666,
              "#ed7953"
             ],
             [
              0.7777777777777778,
              "#fb9f3a"
             ],
             [
              0.8888888888888888,
              "#fdca26"
             ],
             [
              1,
              "#f0f921"
             ]
            ],
            "type": "histogram2dcontour"
           }
          ],
          "mesh3d": [
           {
            "colorbar": {
             "outlinewidth": 0,
             "ticks": ""
            },
            "type": "mesh3d"
           }
          ],
          "parcoords": [
           {
            "line": {
             "colorbar": {
              "outlinewidth": 0,
              "ticks": ""
             }
            },
            "type": "parcoords"
           }
          ],
          "pie": [
           {
            "automargin": true,
            "type": "pie"
           }
          ],
          "scatter": [
           {
            "fillpattern": {
             "fillmode": "overlay",
             "size": 10,
             "solidity": 0.2
            },
            "type": "scatter"
           }
          ],
          "scatter3d": [
           {
            "line": {
             "colorbar": {
              "outlinewidth": 0,
              "ticks": ""
             }
            },
            "marker": {
             "colorbar": {
              "outlinewidth": 0,
              "ticks": ""
             }
            },
            "type": "scatter3d"
           }
          ],
          "scattercarpet": [
           {
            "marker": {
             "colorbar": {
              "outlinewidth": 0,
              "ticks": ""
             }
            },
            "type": "scattercarpet"
           }
          ],
          "scattergeo": [
           {
            "marker": {
             "colorbar": {
              "outlinewidth": 0,
              "ticks": ""
             }
            },
            "type": "scattergeo"
           }
          ],
          "scattergl": [
           {
            "marker": {
             "colorbar": {
              "outlinewidth": 0,
              "ticks": ""
             }
            },
            "type": "scattergl"
           }
          ],
          "scattermap": [
           {
            "marker": {
             "colorbar": {
              "outlinewidth": 0,
              "ticks": ""
             }
            },
            "type": "scattermap"
           }
          ],
          "scattermapbox": [
           {
            "marker": {
             "colorbar": {
              "outlinewidth": 0,
              "ticks": ""
             }
            },
            "type": "scattermapbox"
           }
          ],
          "scatterpolar": [
           {
            "marker": {
             "colorbar": {
              "outlinewidth": 0,
              "ticks": ""
             }
            },
            "type": "scatterpolar"
           }
          ],
          "scatterpolargl": [
           {
            "marker": {
             "colorbar": {
              "outlinewidth": 0,
              "ticks": ""
             }
            },
            "type": "scatterpolargl"
           }
          ],
          "scatterternary": [
           {
            "marker": {
             "colorbar": {
              "outlinewidth": 0,
              "ticks": ""
             }
            },
            "type": "scatterternary"
           }
          ],
          "surface": [
           {
            "colorbar": {
             "outlinewidth": 0,
             "ticks": ""
            },
            "colorscale": [
             [
              0,
              "#0d0887"
             ],
             [
              0.1111111111111111,
              "#46039f"
             ],
             [
              0.2222222222222222,
              "#7201a8"
             ],
             [
              0.3333333333333333,
              "#9c179e"
             ],
             [
              0.4444444444444444,
              "#bd3786"
             ],
             [
              0.5555555555555556,
              "#d8576b"
             ],
             [
              0.6666666666666666,
              "#ed7953"
             ],
             [
              0.7777777777777778,
              "#fb9f3a"
             ],
             [
              0.8888888888888888,
              "#fdca26"
             ],
             [
              1,
              "#f0f921"
             ]
            ],
            "type": "surface"
           }
          ],
          "table": [
           {
            "cells": {
             "fill": {
              "color": "#EBF0F8"
             },
             "line": {
              "color": "white"
             }
            },
            "header": {
             "fill": {
              "color": "#C8D4E3"
             },
             "line": {
              "color": "white"
             }
            },
            "type": "table"
           }
          ]
         },
         "layout": {
          "annotationdefaults": {
           "arrowcolor": "#2a3f5f",
           "arrowhead": 0,
           "arrowwidth": 1
          },
          "autotypenumbers": "strict",
          "coloraxis": {
           "colorbar": {
            "outlinewidth": 0,
            "ticks": ""
           }
          },
          "colorscale": {
           "diverging": [
            [
             0,
             "#8e0152"
            ],
            [
             0.1,
             "#c51b7d"
            ],
            [
             0.2,
             "#de77ae"
            ],
            [
             0.3,
             "#f1b6da"
            ],
            [
             0.4,
             "#fde0ef"
            ],
            [
             0.5,
             "#f7f7f7"
            ],
            [
             0.6,
             "#e6f5d0"
            ],
            [
             0.7,
             "#b8e186"
            ],
            [
             0.8,
             "#7fbc41"
            ],
            [
             0.9,
             "#4d9221"
            ],
            [
             1,
             "#276419"
            ]
           ],
           "sequential": [
            [
             0,
             "#0d0887"
            ],
            [
             0.1111111111111111,
             "#46039f"
            ],
            [
             0.2222222222222222,
             "#7201a8"
            ],
            [
             0.3333333333333333,
             "#9c179e"
            ],
            [
             0.4444444444444444,
             "#bd3786"
            ],
            [
             0.5555555555555556,
             "#d8576b"
            ],
            [
             0.6666666666666666,
             "#ed7953"
            ],
            [
             0.7777777777777778,
             "#fb9f3a"
            ],
            [
             0.8888888888888888,
             "#fdca26"
            ],
            [
             1,
             "#f0f921"
            ]
           ],
           "sequentialminus": [
            [
             0,
             "#0d0887"
            ],
            [
             0.1111111111111111,
             "#46039f"
            ],
            [
             0.2222222222222222,
             "#7201a8"
            ],
            [
             0.3333333333333333,
             "#9c179e"
            ],
            [
             0.4444444444444444,
             "#bd3786"
            ],
            [
             0.5555555555555556,
             "#d8576b"
            ],
            [
             0.6666666666666666,
             "#ed7953"
            ],
            [
             0.7777777777777778,
             "#fb9f3a"
            ],
            [
             0.8888888888888888,
             "#fdca26"
            ],
            [
             1,
             "#f0f921"
            ]
           ]
          },
          "colorway": [
           "#636efa",
           "#EF553B",
           "#00cc96",
           "#ab63fa",
           "#FFA15A",
           "#19d3f3",
           "#FF6692",
           "#B6E880",
           "#FF97FF",
           "#FECB52"
          ],
          "font": {
           "color": "#2a3f5f"
          },
          "geo": {
           "bgcolor": "white",
           "lakecolor": "white",
           "landcolor": "#E5ECF6",
           "showlakes": true,
           "showland": true,
           "subunitcolor": "white"
          },
          "hoverlabel": {
           "align": "left"
          },
          "hovermode": "closest",
          "mapbox": {
           "style": "light"
          },
          "paper_bgcolor": "white",
          "plot_bgcolor": "#E5ECF6",
          "polar": {
           "angularaxis": {
            "gridcolor": "white",
            "linecolor": "white",
            "ticks": ""
           },
           "bgcolor": "#E5ECF6",
           "radialaxis": {
            "gridcolor": "white",
            "linecolor": "white",
            "ticks": ""
           }
          },
          "scene": {
           "xaxis": {
            "backgroundcolor": "#E5ECF6",
            "gridcolor": "white",
            "gridwidth": 2,
            "linecolor": "white",
            "showbackground": true,
            "ticks": "",
            "zerolinecolor": "white"
           },
           "yaxis": {
            "backgroundcolor": "#E5ECF6",
            "gridcolor": "white",
            "gridwidth": 2,
            "linecolor": "white",
            "showbackground": true,
            "ticks": "",
            "zerolinecolor": "white"
           },
           "zaxis": {
            "backgroundcolor": "#E5ECF6",
            "gridcolor": "white",
            "gridwidth": 2,
            "linecolor": "white",
            "showbackground": true,
            "ticks": "",
            "zerolinecolor": "white"
           }
          },
          "shapedefaults": {
           "line": {
            "color": "#2a3f5f"
           }
          },
          "ternary": {
           "aaxis": {
            "gridcolor": "white",
            "linecolor": "white",
            "ticks": ""
           },
           "baxis": {
            "gridcolor": "white",
            "linecolor": "white",
            "ticks": ""
           },
           "bgcolor": "#E5ECF6",
           "caxis": {
            "gridcolor": "white",
            "linecolor": "white",
            "ticks": ""
           }
          },
          "title": {
           "x": 0.05
          },
          "xaxis": {
           "automargin": true,
           "gridcolor": "white",
           "linecolor": "white",
           "ticks": "",
           "title": {
            "standoff": 15
           },
           "zerolinecolor": "white",
           "zerolinewidth": 2
          },
          "yaxis": {
           "automargin": true,
           "gridcolor": "white",
           "linecolor": "white",
           "ticks": "",
           "title": {
            "standoff": 15
           },
           "zerolinecolor": "white",
           "zerolinewidth": 2
          }
         }
        },
        "title": {
         "text": "Count of Total Rides by Season (Morning Peak)"
        },
        "width": 450,
        "xaxis": {
         "anchor": "y",
         "domain": [
          0,
          1
         ],
         "title": {
          "text": "Season"
         }
        },
        "yaxis": {
         "anchor": "x",
         "domain": [
          0,
          1
         ],
         "title": {
          "text": "Total Count of Rides"
         }
        }
       }
      }
     },
     "metadata": {},
     "output_type": "display_data"
    },
    {
     "data": {
      "application/vnd.plotly.v1+json": {
       "config": {
        "plotlyServerURL": "https://plot.ly"
       },
       "data": [
        {
         "hovertemplate": "season=%{x}<br>cnt=%{text}<extra></extra>",
         "legendgroup": "",
         "marker": {
          "color": [
           "RoyalBlue",
           "RoyalBlue",
           "ForestGreen",
           "FireBrick"
          ],
          "pattern": {
           "shape": ""
          }
         },
         "name": "",
         "orientation": "v",
         "showlegend": false,
         "text": {
          "bdata": "AAAAABDP/kAAAAAAwFYBQQAAAAAYZwRBAAAAAFCM8UA=",
          "dtype": "f8"
         },
         "textposition": "outside",
         "type": "bar",
         "x": [
          "fall",
          "spring",
          "summer",
          "winter"
         ],
         "xaxis": "x",
         "y": {
          "bdata": "8ewBANgqAgDjjAIAxRgBAA==",
          "dtype": "i4"
         },
         "yaxis": "y"
        }
       ],
       "layout": {
        "barmode": "relative",
        "font": {
         "size": 12
        },
        "height": 500,
        "legend": {
         "tracegroupgap": 0
        },
        "template": {
         "data": {
          "bar": [
           {
            "error_x": {
             "color": "#2a3f5f"
            },
            "error_y": {
             "color": "#2a3f5f"
            },
            "marker": {
             "line": {
              "color": "#E5ECF6",
              "width": 0.5
             },
             "pattern": {
              "fillmode": "overlay",
              "size": 10,
              "solidity": 0.2
             }
            },
            "type": "bar"
           }
          ],
          "barpolar": [
           {
            "marker": {
             "line": {
              "color": "#E5ECF6",
              "width": 0.5
             },
             "pattern": {
              "fillmode": "overlay",
              "size": 10,
              "solidity": 0.2
             }
            },
            "type": "barpolar"
           }
          ],
          "carpet": [
           {
            "aaxis": {
             "endlinecolor": "#2a3f5f",
             "gridcolor": "white",
             "linecolor": "white",
             "minorgridcolor": "white",
             "startlinecolor": "#2a3f5f"
            },
            "baxis": {
             "endlinecolor": "#2a3f5f",
             "gridcolor": "white",
             "linecolor": "white",
             "minorgridcolor": "white",
             "startlinecolor": "#2a3f5f"
            },
            "type": "carpet"
           }
          ],
          "choropleth": [
           {
            "colorbar": {
             "outlinewidth": 0,
             "ticks": ""
            },
            "type": "choropleth"
           }
          ],
          "contour": [
           {
            "colorbar": {
             "outlinewidth": 0,
             "ticks": ""
            },
            "colorscale": [
             [
              0,
              "#0d0887"
             ],
             [
              0.1111111111111111,
              "#46039f"
             ],
             [
              0.2222222222222222,
              "#7201a8"
             ],
             [
              0.3333333333333333,
              "#9c179e"
             ],
             [
              0.4444444444444444,
              "#bd3786"
             ],
             [
              0.5555555555555556,
              "#d8576b"
             ],
             [
              0.6666666666666666,
              "#ed7953"
             ],
             [
              0.7777777777777778,
              "#fb9f3a"
             ],
             [
              0.8888888888888888,
              "#fdca26"
             ],
             [
              1,
              "#f0f921"
             ]
            ],
            "type": "contour"
           }
          ],
          "contourcarpet": [
           {
            "colorbar": {
             "outlinewidth": 0,
             "ticks": ""
            },
            "type": "contourcarpet"
           }
          ],
          "heatmap": [
           {
            "colorbar": {
             "outlinewidth": 0,
             "ticks": ""
            },
            "colorscale": [
             [
              0,
              "#0d0887"
             ],
             [
              0.1111111111111111,
              "#46039f"
             ],
             [
              0.2222222222222222,
              "#7201a8"
             ],
             [
              0.3333333333333333,
              "#9c179e"
             ],
             [
              0.4444444444444444,
              "#bd3786"
             ],
             [
              0.5555555555555556,
              "#d8576b"
             ],
             [
              0.6666666666666666,
              "#ed7953"
             ],
             [
              0.7777777777777778,
              "#fb9f3a"
             ],
             [
              0.8888888888888888,
              "#fdca26"
             ],
             [
              1,
              "#f0f921"
             ]
            ],
            "type": "heatmap"
           }
          ],
          "histogram": [
           {
            "marker": {
             "pattern": {
              "fillmode": "overlay",
              "size": 10,
              "solidity": 0.2
             }
            },
            "type": "histogram"
           }
          ],
          "histogram2d": [
           {
            "colorbar": {
             "outlinewidth": 0,
             "ticks": ""
            },
            "colorscale": [
             [
              0,
              "#0d0887"
             ],
             [
              0.1111111111111111,
              "#46039f"
             ],
             [
              0.2222222222222222,
              "#7201a8"
             ],
             [
              0.3333333333333333,
              "#9c179e"
             ],
             [
              0.4444444444444444,
              "#bd3786"
             ],
             [
              0.5555555555555556,
              "#d8576b"
             ],
             [
              0.6666666666666666,
              "#ed7953"
             ],
             [
              0.7777777777777778,
              "#fb9f3a"
             ],
             [
              0.8888888888888888,
              "#fdca26"
             ],
             [
              1,
              "#f0f921"
             ]
            ],
            "type": "histogram2d"
           }
          ],
          "histogram2dcontour": [
           {
            "colorbar": {
             "outlinewidth": 0,
             "ticks": ""
            },
            "colorscale": [
             [
              0,
              "#0d0887"
             ],
             [
              0.1111111111111111,
              "#46039f"
             ],
             [
              0.2222222222222222,
              "#7201a8"
             ],
             [
              0.3333333333333333,
              "#9c179e"
             ],
             [
              0.4444444444444444,
              "#bd3786"
             ],
             [
              0.5555555555555556,
              "#d8576b"
             ],
             [
              0.6666666666666666,
              "#ed7953"
             ],
             [
              0.7777777777777778,
              "#fb9f3a"
             ],
             [
              0.8888888888888888,
              "#fdca26"
             ],
             [
              1,
              "#f0f921"
             ]
            ],
            "type": "histogram2dcontour"
           }
          ],
          "mesh3d": [
           {
            "colorbar": {
             "outlinewidth": 0,
             "ticks": ""
            },
            "type": "mesh3d"
           }
          ],
          "parcoords": [
           {
            "line": {
             "colorbar": {
              "outlinewidth": 0,
              "ticks": ""
             }
            },
            "type": "parcoords"
           }
          ],
          "pie": [
           {
            "automargin": true,
            "type": "pie"
           }
          ],
          "scatter": [
           {
            "fillpattern": {
             "fillmode": "overlay",
             "size": 10,
             "solidity": 0.2
            },
            "type": "scatter"
           }
          ],
          "scatter3d": [
           {
            "line": {
             "colorbar": {
              "outlinewidth": 0,
              "ticks": ""
             }
            },
            "marker": {
             "colorbar": {
              "outlinewidth": 0,
              "ticks": ""
             }
            },
            "type": "scatter3d"
           }
          ],
          "scattercarpet": [
           {
            "marker": {
             "colorbar": {
              "outlinewidth": 0,
              "ticks": ""
             }
            },
            "type": "scattercarpet"
           }
          ],
          "scattergeo": [
           {
            "marker": {
             "colorbar": {
              "outlinewidth": 0,
              "ticks": ""
             }
            },
            "type": "scattergeo"
           }
          ],
          "scattergl": [
           {
            "marker": {
             "colorbar": {
              "outlinewidth": 0,
              "ticks": ""
             }
            },
            "type": "scattergl"
           }
          ],
          "scattermap": [
           {
            "marker": {
             "colorbar": {
              "outlinewidth": 0,
              "ticks": ""
             }
            },
            "type": "scattermap"
           }
          ],
          "scattermapbox": [
           {
            "marker": {
             "colorbar": {
              "outlinewidth": 0,
              "ticks": ""
             }
            },
            "type": "scattermapbox"
           }
          ],
          "scatterpolar": [
           {
            "marker": {
             "colorbar": {
              "outlinewidth": 0,
              "ticks": ""
             }
            },
            "type": "scatterpolar"
           }
          ],
          "scatterpolargl": [
           {
            "marker": {
             "colorbar": {
              "outlinewidth": 0,
              "ticks": ""
             }
            },
            "type": "scatterpolargl"
           }
          ],
          "scatterternary": [
           {
            "marker": {
             "colorbar": {
              "outlinewidth": 0,
              "ticks": ""
             }
            },
            "type": "scatterternary"
           }
          ],
          "surface": [
           {
            "colorbar": {
             "outlinewidth": 0,
             "ticks": ""
            },
            "colorscale": [
             [
              0,
              "#0d0887"
             ],
             [
              0.1111111111111111,
              "#46039f"
             ],
             [
              0.2222222222222222,
              "#7201a8"
             ],
             [
              0.3333333333333333,
              "#9c179e"
             ],
             [
              0.4444444444444444,
              "#bd3786"
             ],
             [
              0.5555555555555556,
              "#d8576b"
             ],
             [
              0.6666666666666666,
              "#ed7953"
             ],
             [
              0.7777777777777778,
              "#fb9f3a"
             ],
             [
              0.8888888888888888,
              "#fdca26"
             ],
             [
              1,
              "#f0f921"
             ]
            ],
            "type": "surface"
           }
          ],
          "table": [
           {
            "cells": {
             "fill": {
              "color": "#EBF0F8"
             },
             "line": {
              "color": "white"
             }
            },
            "header": {
             "fill": {
              "color": "#C8D4E3"
             },
             "line": {
              "color": "white"
             }
            },
            "type": "table"
           }
          ]
         },
         "layout": {
          "annotationdefaults": {
           "arrowcolor": "#2a3f5f",
           "arrowhead": 0,
           "arrowwidth": 1
          },
          "autotypenumbers": "strict",
          "coloraxis": {
           "colorbar": {
            "outlinewidth": 0,
            "ticks": ""
           }
          },
          "colorscale": {
           "diverging": [
            [
             0,
             "#8e0152"
            ],
            [
             0.1,
             "#c51b7d"
            ],
            [
             0.2,
             "#de77ae"
            ],
            [
             0.3,
             "#f1b6da"
            ],
            [
             0.4,
             "#fde0ef"
            ],
            [
             0.5,
             "#f7f7f7"
            ],
            [
             0.6,
             "#e6f5d0"
            ],
            [
             0.7,
             "#b8e186"
            ],
            [
             0.8,
             "#7fbc41"
            ],
            [
             0.9,
             "#4d9221"
            ],
            [
             1,
             "#276419"
            ]
           ],
           "sequential": [
            [
             0,
             "#0d0887"
            ],
            [
             0.1111111111111111,
             "#46039f"
            ],
            [
             0.2222222222222222,
             "#7201a8"
            ],
            [
             0.3333333333333333,
             "#9c179e"
            ],
            [
             0.4444444444444444,
             "#bd3786"
            ],
            [
             0.5555555555555556,
             "#d8576b"
            ],
            [
             0.6666666666666666,
             "#ed7953"
            ],
            [
             0.7777777777777778,
             "#fb9f3a"
            ],
            [
             0.8888888888888888,
             "#fdca26"
            ],
            [
             1,
             "#f0f921"
            ]
           ],
           "sequentialminus": [
            [
             0,
             "#0d0887"
            ],
            [
             0.1111111111111111,
             "#46039f"
            ],
            [
             0.2222222222222222,
             "#7201a8"
            ],
            [
             0.3333333333333333,
             "#9c179e"
            ],
            [
             0.4444444444444444,
             "#bd3786"
            ],
            [
             0.5555555555555556,
             "#d8576b"
            ],
            [
             0.6666666666666666,
             "#ed7953"
            ],
            [
             0.7777777777777778,
             "#fb9f3a"
            ],
            [
             0.8888888888888888,
             "#fdca26"
            ],
            [
             1,
             "#f0f921"
            ]
           ]
          },
          "colorway": [
           "#636efa",
           "#EF553B",
           "#00cc96",
           "#ab63fa",
           "#FFA15A",
           "#19d3f3",
           "#FF6692",
           "#B6E880",
           "#FF97FF",
           "#FECB52"
          ],
          "font": {
           "color": "#2a3f5f"
          },
          "geo": {
           "bgcolor": "white",
           "lakecolor": "white",
           "landcolor": "#E5ECF6",
           "showlakes": true,
           "showland": true,
           "subunitcolor": "white"
          },
          "hoverlabel": {
           "align": "left"
          },
          "hovermode": "closest",
          "mapbox": {
           "style": "light"
          },
          "paper_bgcolor": "white",
          "plot_bgcolor": "#E5ECF6",
          "polar": {
           "angularaxis": {
            "gridcolor": "white",
            "linecolor": "white",
            "ticks": ""
           },
           "bgcolor": "#E5ECF6",
           "radialaxis": {
            "gridcolor": "white",
            "linecolor": "white",
            "ticks": ""
           }
          },
          "scene": {
           "xaxis": {
            "backgroundcolor": "#E5ECF6",
            "gridcolor": "white",
            "gridwidth": 2,
            "linecolor": "white",
            "showbackground": true,
            "ticks": "",
            "zerolinecolor": "white"
           },
           "yaxis": {
            "backgroundcolor": "#E5ECF6",
            "gridcolor": "white",
            "gridwidth": 2,
            "linecolor": "white",
            "showbackground": true,
            "ticks": "",
            "zerolinecolor": "white"
           },
           "zaxis": {
            "backgroundcolor": "#E5ECF6",
            "gridcolor": "white",
            "gridwidth": 2,
            "linecolor": "white",
            "showbackground": true,
            "ticks": "",
            "zerolinecolor": "white"
           }
          },
          "shapedefaults": {
           "line": {
            "color": "#2a3f5f"
           }
          },
          "ternary": {
           "aaxis": {
            "gridcolor": "white",
            "linecolor": "white",
            "ticks": ""
           },
           "baxis": {
            "gridcolor": "white",
            "linecolor": "white",
            "ticks": ""
           },
           "bgcolor": "#E5ECF6",
           "caxis": {
            "gridcolor": "white",
            "linecolor": "white",
            "ticks": ""
           }
          },
          "title": {
           "x": 0.05
          },
          "xaxis": {
           "automargin": true,
           "gridcolor": "white",
           "linecolor": "white",
           "ticks": "",
           "title": {
            "standoff": 15
           },
           "zerolinecolor": "white",
           "zerolinewidth": 2
          },
          "yaxis": {
           "automargin": true,
           "gridcolor": "white",
           "linecolor": "white",
           "ticks": "",
           "title": {
            "standoff": 15
           },
           "zerolinecolor": "white",
           "zerolinewidth": 2
          }
         }
        },
        "title": {
         "text": "Count of Total Rides by Season (Evening Peak)"
        },
        "width": 450,
        "xaxis": {
         "anchor": "y",
         "domain": [
          0,
          1
         ],
         "title": {
          "text": "Season"
         }
        },
        "yaxis": {
         "anchor": "x",
         "domain": [
          0,
          1
         ],
         "title": {
          "text": "Total Count of Rides"
         }
        }
       }
      }
     },
     "metadata": {},
     "output_type": "display_data"
    }
   ],
   "source": [
    "### SEASONAL BAR GRAPHS\n",
    "\n",
    "# MORNING BAR GRAPH (during mornings, summer bikes most frequently used, fall second)\n",
    "morningbar = morningpeak.groupby('season')['cnt'].sum().reset_index()\n",
    "\n",
    "morningseasonality = px.bar(morningbar,'season','cnt',text='cnt',title='Count of Total Rides by Season (Morning Peak)',width=450,height = 500)\n",
    "morningseasonality.update_layout(xaxis_title='Season', yaxis_title='Total Count of Rides', font=dict(size=12))\n",
    "morningseasonality.update_traces(marker_color = ['RoyalBlue', 'RoyalBlue', 'ForestGreen', 'FireBrick'],textposition='outside')\n",
    "\n",
    "# EVENING BAR GRAPH (during evenings, summer bikes are more frequently used, spring second)\n",
    "eveningbar = eveningpeak.groupby('season')['cnt'].sum().reset_index()\n",
    "\n",
    "eveningseasonality = px.bar(eveningbar,'season','cnt',text='cnt',title='Count of Total Rides by Season (Evening Peak)',width=450,height = 500)\n",
    "eveningseasonality.update_layout(xaxis_title='Season', yaxis_title='Total Count of Rides', font=dict(size=12))\n",
    "eveningseasonality.update_traces(marker_color = ['RoyalBlue', 'RoyalBlue', 'ForestGreen', 'FireBrick'],textposition='outside')\n",
    "\n",
    "morningseasonality.show()\n",
    "morningseasonality.write_image('morningseasonality.png')\n",
    "eveningseasonality.show()\n",
    "eveningseasonality.write_image('eveningseasonality.png')"
   ]
  },
  {
   "cell_type": "code",
   "execution_count": null,
   "id": "8fbd9b3f",
   "metadata": {},
   "outputs": [
    {
     "data": {
      "application/vnd.plotly.v1+json": {
       "config": {
        "plotlyServerURL": "https://plot.ly"
       },
       "data": [
        {
         "bingroup": "x",
         "histfunc": "sum",
         "hovertemplate": "not_norm_windspeeds=%{x}<br>sum of cnt=%{y}<extra></extra>",
         "legendgroup": "",
         "marker": {
          "color": "#636efa",
          "pattern": {
           "shape": ""
          }
         },
         "name": "",
         "nbinsx": 24,
         "orientation": "v",
         "showlegend": false,
         "type": "histogram",
         "x": {
          "bdata": "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",
          "dtype": "f8"
         },
         "xaxis": "x",
         "y": {
          "bdata": "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",
          "dtype": "f8"
         },
         "yaxis": "y"
        }
       ],
       "layout": {
        "barmode": "relative",
        "font": {
         "size": 12
        },
        "height": 500,
        "legend": {
         "tracegroupgap": 0
        },
        "template": {
         "data": {
          "bar": [
           {
            "error_x": {
             "color": "#2a3f5f"
            },
            "error_y": {
             "color": "#2a3f5f"
            },
            "marker": {
             "line": {
              "color": "#E5ECF6",
              "width": 0.5
             },
             "pattern": {
              "fillmode": "overlay",
              "size": 10,
              "solidity": 0.2
             }
            },
            "type": "bar"
           }
          ],
          "barpolar": [
           {
            "marker": {
             "line": {
              "color": "#E5ECF6",
              "width": 0.5
             },
             "pattern": {
              "fillmode": "overlay",
              "size": 10,
              "solidity": 0.2
             }
            },
            "type": "barpolar"
           }
          ],
          "carpet": [
           {
            "aaxis": {
             "endlinecolor": "#2a3f5f",
             "gridcolor": "white",
             "linecolor": "white",
             "minorgridcolor": "white",
             "startlinecolor": "#2a3f5f"
            },
            "baxis": {
             "endlinecolor": "#2a3f5f",
             "gridcolor": "white",
             "linecolor": "white",
             "minorgridcolor": "white",
             "startlinecolor": "#2a3f5f"
            },
            "type": "carpet"
           }
          ],
          "choropleth": [
           {
            "colorbar": {
             "outlinewidth": 0,
             "ticks": ""
            },
            "type": "choropleth"
           }
          ],
          "contour": [
           {
            "colorbar": {
             "outlinewidth": 0,
             "ticks": ""
            },
            "colorscale": [
             [
              0,
              "#0d0887"
             ],
             [
              0.1111111111111111,
              "#46039f"
             ],
             [
              0.2222222222222222,
              "#7201a8"
             ],
             [
              0.3333333333333333,
              "#9c179e"
             ],
             [
              0.4444444444444444,
              "#bd3786"
             ],
             [
              0.5555555555555556,
              "#d8576b"
             ],
             [
              0.6666666666666666,
              "#ed7953"
             ],
             [
              0.7777777777777778,
              "#fb9f3a"
             ],
             [
              0.8888888888888888,
              "#fdca26"
             ],
             [
              1,
              "#f0f921"
             ]
            ],
            "type": "contour"
           }
          ],
          "contourcarpet": [
           {
            "colorbar": {
             "outlinewidth": 0,
             "ticks": ""
            },
            "type": "contourcarpet"
           }
          ],
          "heatmap": [
           {
            "colorbar": {
             "outlinewidth": 0,
             "ticks": ""
            },
            "colorscale": [
             [
              0,
              "#0d0887"
             ],
             [
              0.1111111111111111,
              "#46039f"
             ],
             [
              0.2222222222222222,
              "#7201a8"
             ],
             [
              0.3333333333333333,
              "#9c179e"
             ],
             [
              0.4444444444444444,
              "#bd3786"
             ],
             [
              0.5555555555555556,
              "#d8576b"
             ],
             [
              0.6666666666666666,
              "#ed7953"
             ],
             [
              0.7777777777777778,
              "#fb9f3a"
             ],
             [
              0.8888888888888888,
              "#fdca26"
             ],
             [
              1,
              "#f0f921"
             ]
            ],
            "type": "heatmap"
           }
          ],
          "histogram": [
           {
            "marker": {
             "pattern": {
              "fillmode": "overlay",
              "size": 10,
              "solidity": 0.2
             }
            },
            "type": "histogram"
           }
          ],
          "histogram2d": [
           {
            "colorbar": {
             "outlinewidth": 0,
             "ticks": ""
            },
            "colorscale": [
             [
              0,
              "#0d0887"
             ],
             [
              0.1111111111111111,
              "#46039f"
             ],
             [
              0.2222222222222222,
              "#7201a8"
             ],
             [
              0.3333333333333333,
              "#9c179e"
             ],
             [
              0.4444444444444444,
              "#bd3786"
             ],
             [
              0.5555555555555556,
              "#d8576b"
             ],
             [
              0.6666666666666666,
              "#ed7953"
             ],
             [
              0.7777777777777778,
              "#fb9f3a"
             ],
             [
              0.8888888888888888,
              "#fdca26"
             ],
             [
              1,
              "#f0f921"
             ]
            ],
            "type": "histogram2d"
           }
          ],
          "histogram2dcontour": [
           {
            "colorbar": {
             "outlinewidth": 0,
             "ticks": ""
            },
            "colorscale": [
             [
              0,
              "#0d0887"
             ],
             [
              0.1111111111111111,
              "#46039f"
             ],
             [
              0.2222222222222222,
              "#7201a8"
             ],
             [
              0.3333333333333333,
              "#9c179e"
             ],
             [
              0.4444444444444444,
              "#bd3786"
             ],
             [
              0.5555555555555556,
              "#d8576b"
             ],
             [
              0.6666666666666666,
              "#ed7953"
             ],
             [
              0.7777777777777778,
              "#fb9f3a"
             ],
             [
              0.8888888888888888,
              "#fdca26"
             ],
             [
              1,
              "#f0f921"
             ]
            ],
            "type": "histogram2dcontour"
           }
          ],
          "mesh3d": [
           {
            "colorbar": {
             "outlinewidth": 0,
             "ticks": ""
            },
            "type": "mesh3d"
           }
          ],
          "parcoords": [
           {
            "line": {
             "colorbar": {
              "outlinewidth": 0,
              "ticks": ""
             }
            },
            "type": "parcoords"
           }
          ],
          "pie": [
           {
            "automargin": true,
            "type": "pie"
           }
          ],
          "scatter": [
           {
            "fillpattern": {
             "fillmode": "overlay",
             "size": 10,
             "solidity": 0.2
            },
            "type": "scatter"
           }
          ],
          "scatter3d": [
           {
            "line": {
             "colorbar": {
              "outlinewidth": 0,
              "ticks": ""
             }
            },
            "marker": {
             "colorbar": {
              "outlinewidth": 0,
              "ticks": ""
             }
            },
            "type": "scatter3d"
           }
          ],
          "scattercarpet": [
           {
            "marker": {
             "colorbar": {
              "outlinewidth": 0,
              "ticks": ""
             }
            },
            "type": "scattercarpet"
           }
          ],
          "scattergeo": [
           {
            "marker": {
             "colorbar": {
              "outlinewidth": 0,
              "ticks": ""
             }
            },
            "type": "scattergeo"
           }
          ],
          "scattergl": [
           {
            "marker": {
             "colorbar": {
              "outlinewidth": 0,
              "ticks": ""
             }
            },
            "type": "scattergl"
           }
          ],
          "scattermap": [
           {
            "marker": {
             "colorbar": {
              "outlinewidth": 0,
              "ticks": ""
             }
            },
            "type": "scattermap"
           }
          ],
          "scattermapbox": [
           {
            "marker": {
             "colorbar": {
              "outlinewidth": 0,
              "ticks": ""
             }
            },
            "type": "scattermapbox"
           }
          ],
          "scatterpolar": [
           {
            "marker": {
             "colorbar": {
              "outlinewidth": 0,
              "ticks": ""
             }
            },
            "type": "scatterpolar"
           }
          ],
          "scatterpolargl": [
           {
            "marker": {
             "colorbar": {
              "outlinewidth": 0,
              "ticks": ""
             }
            },
            "type": "scatterpolargl"
           }
          ],
          "scatterternary": [
           {
            "marker": {
             "colorbar": {
              "outlinewidth": 0,
              "ticks": ""
             }
            },
            "type": "scatterternary"
           }
          ],
          "surface": [
           {
            "colorbar": {
             "outlinewidth": 0,
             "ticks": ""
            },
            "colorscale": [
             [
              0,
              "#0d0887"
             ],
             [
              0.1111111111111111,
              "#46039f"
             ],
             [
              0.2222222222222222,
              "#7201a8"
             ],
             [
              0.3333333333333333,
              "#9c179e"
             ],
             [
              0.4444444444444444,
              "#bd3786"
             ],
             [
              0.5555555555555556,
              "#d8576b"
             ],
             [
              0.6666666666666666,
              "#ed7953"
             ],
             [
              0.7777777777777778,
              "#fb9f3a"
             ],
             [
              0.8888888888888888,
              "#fdca26"
             ],
             [
              1,
              "#f0f921"
             ]
            ],
            "type": "surface"
           }
          ],
          "table": [
           {
            "cells": {
             "fill": {
              "color": "#EBF0F8"
             },
             "line": {
              "color": "white"
             }
            },
            "header": {
             "fill": {
              "color": "#C8D4E3"
             },
             "line": {
              "color": "white"
             }
            },
            "type": "table"
           }
          ]
         },
         "layout": {
          "annotationdefaults": {
           "arrowcolor": "#2a3f5f",
           "arrowhead": 0,
           "arrowwidth": 1
          },
          "autotypenumbers": "strict",
          "coloraxis": {
           "colorbar": {
            "outlinewidth": 0,
            "ticks": ""
           }
          },
          "colorscale": {
           "diverging": [
            [
             0,
             "#8e0152"
            ],
            [
             0.1,
             "#c51b7d"
            ],
            [
             0.2,
             "#de77ae"
            ],
            [
             0.3,
             "#f1b6da"
            ],
            [
             0.4,
             "#fde0ef"
            ],
            [
             0.5,
             "#f7f7f7"
            ],
            [
             0.6,
             "#e6f5d0"
            ],
            [
             0.7,
             "#b8e186"
            ],
            [
             0.8,
             "#7fbc41"
            ],
            [
             0.9,
             "#4d9221"
            ],
            [
             1,
             "#276419"
            ]
           ],
           "sequential": [
            [
             0,
             "#0d0887"
            ],
            [
             0.1111111111111111,
             "#46039f"
            ],
            [
             0.2222222222222222,
             "#7201a8"
            ],
            [
             0.3333333333333333,
             "#9c179e"
            ],
            [
             0.4444444444444444,
             "#bd3786"
            ],
            [
             0.5555555555555556,
             "#d8576b"
            ],
            [
             0.6666666666666666,
             "#ed7953"
            ],
            [
             0.7777777777777778,
             "#fb9f3a"
            ],
            [
             0.8888888888888888,
             "#fdca26"
            ],
            [
             1,
             "#f0f921"
            ]
           ],
           "sequentialminus": [
            [
             0,
             "#0d0887"
            ],
            [
             0.1111111111111111,
             "#46039f"
            ],
            [
             0.2222222222222222,
             "#7201a8"
            ],
            [
             0.3333333333333333,
             "#9c179e"
            ],
            [
             0.4444444444444444,
             "#bd3786"
            ],
            [
             0.5555555555555556,
             "#d8576b"
            ],
            [
             0.6666666666666666,
             "#ed7953"
            ],
            [
             0.7777777777777778,
             "#fb9f3a"
            ],
            [
             0.8888888888888888,
             "#fdca26"
            ],
            [
             1,
             "#f0f921"
            ]
           ]
          },
          "colorway": [
           "#636efa",
           "#EF553B",
           "#00cc96",
           "#ab63fa",
           "#FFA15A",
           "#19d3f3",
           "#FF6692",
           "#B6E880",
           "#FF97FF",
           "#FECB52"
          ],
          "font": {
           "color": "#2a3f5f"
          },
          "geo": {
           "bgcolor": "white",
           "lakecolor": "white",
           "landcolor": "#E5ECF6",
           "showlakes": true,
           "showland": true,
           "subunitcolor": "white"
          },
          "hoverlabel": {
           "align": "left"
          },
          "hovermode": "closest",
          "mapbox": {
           "style": "light"
          },
          "paper_bgcolor": "white",
          "plot_bgcolor": "#E5ECF6",
          "polar": {
           "angularaxis": {
            "gridcolor": "white",
            "linecolor": "white",
            "ticks": ""
           },
           "bgcolor": "#E5ECF6",
           "radialaxis": {
            "gridcolor": "white",
            "linecolor": "white",
            "ticks": ""
           }
          },
          "scene": {
           "xaxis": {
            "backgroundcolor": "#E5ECF6",
            "gridcolor": "white",
            "gridwidth": 2,
            "linecolor": "white",
            "showbackground": true,
            "ticks": "",
            "zerolinecolor": "white"
           },
           "yaxis": {
            "backgroundcolor": "#E5ECF6",
            "gridcolor": "white",
            "gridwidth": 2,
            "linecolor": "white",
            "showbackground": true,
            "ticks": "",
            "zerolinecolor": "white"
           },
           "zaxis": {
            "backgroundcolor": "#E5ECF6",
            "gridcolor": "white",
            "gridwidth": 2,
            "linecolor": "white",
            "showbackground": true,
            "ticks": "",
            "zerolinecolor": "white"
           }
          },
          "shapedefaults": {
           "line": {
            "color": "#2a3f5f"
           }
          },
          "ternary": {
           "aaxis": {
            "gridcolor": "white",
            "linecolor": "white",
            "ticks": ""
           },
           "baxis": {
            "gridcolor": "white",
            "linecolor": "white",
            "ticks": ""
           },
           "bgcolor": "#E5ECF6",
           "caxis": {
            "gridcolor": "white",
            "linecolor": "white",
            "ticks": ""
           }
          },
          "title": {
           "x": 0.05
          },
          "xaxis": {
           "automargin": true,
           "gridcolor": "white",
           "linecolor": "white",
           "ticks": "",
           "title": {
            "standoff": 15
           },
           "zerolinecolor": "white",
           "zerolinewidth": 2
          },
          "yaxis": {
           "automargin": true,
           "gridcolor": "white",
           "linecolor": "white",
           "ticks": "",
           "title": {
            "standoff": 15
           },
           "zerolinecolor": "white",
           "zerolinewidth": 2
          }
         }
        },
        "title": {
         "text": "Count of Rides by Windspeed Per Day"
        },
        "width": 600,
        "xaxis": {
         "anchor": "y",
         "domain": [
          0,
          1
         ],
         "title": {
          "text": "Average Windspeed During Day"
         }
        },
        "yaxis": {
         "anchor": "x",
         "domain": [
          0,
          1
         ],
         "title": {
          "text": "Average Count of Riders"
         }
        }
       }
      }
     },
     "metadata": {},
     "output_type": "display_data"
    }
   ],
   "source": [
    "#tabular format for workingdays based on each day\n",
    "#workingdays.groupby('dteday').agg({'cnt':['min','max','mean'],'temp':['mean'],'hum':['mean'],'not_norm_windspeeds':['max','mean']})\n",
    "\n",
    "\n",
    "#workingdays['not_norm_windspeeds'].mean()\n",
    "#--potential opportunity to provide safety enhancements for windspeeds far above the mean (like 10 more)\n",
    "\n",
    "\n",
    "#SHOWS SPREAD OF WINDSPEED, many values above 20, mean is 12 (a lot of values of 0)\n",
    "#workingdays['not_norm_windspeeds'].plot(kind='hist')\n",
    "\n",
    "#workingdays['z_score_windspeed'] = stats.zscore(workingdays['not_norm_windspeeds'])\n",
    "#workingdays.plot(kind='hist',x='z_score_windspeed',y='cnt')\n",
    "\n",
    "#sns.kdeplot(workingdays['windspeed'])\n",
    "\n",
    "#workingdays['windspeed'].sample(100).plot(kind='kde')\n",
    "\n",
    "#SHOWS SPREAD OF WINDSPEED FOR ALL DAYS, many values above 20, mean is 12 (a lot of values of 0)\n",
    "workingdensity = workingdays.groupby('dteday').agg({'cnt':'mean','not_norm_windspeeds':'mean'}).reset_index()\n",
    "\n",
    "density = px.histogram(workingdensity,'not_norm_windspeeds','cnt',title='Count of Rides by Windspeed Per Day',nbins=24,height=500,width=600)\n",
    "density.update_layout(xaxis_title='Average Windspeed During Day',yaxis_title='Average Count of Riders',font=dict(size=12))\n",
    "\n"
   ]
  },
  {
   "cell_type": "code",
   "execution_count": null,
   "id": "15a6f1a4",
   "metadata": {},
   "outputs": [
    {
     "data": {
      "text/html": [
       "<div>\n",
       "<style scoped>\n",
       "    .dataframe tbody tr th:only-of-type {\n",
       "        vertical-align: middle;\n",
       "    }\n",
       "\n",
       "    .dataframe tbody tr th {\n",
       "        vertical-align: top;\n",
       "    }\n",
       "\n",
       "    .dataframe thead th {\n",
       "        text-align: right;\n",
       "    }\n",
       "</style>\n",
       "<table border=\"1\" class=\"dataframe\">\n",
       "  <thead>\n",
       "    <tr style=\"text-align: right;\">\n",
       "      <th></th>\n",
       "      <th>dteday</th>\n",
       "      <th>instant</th>\n",
       "      <th>season</th>\n",
       "      <th>yr</th>\n",
       "      <th>mnth</th>\n",
       "      <th>hr</th>\n",
       "      <th>holiday</th>\n",
       "      <th>weekday</th>\n",
       "      <th>workingday</th>\n",
       "      <th>weathersit</th>\n",
       "      <th>temp</th>\n",
       "      <th>atemp</th>\n",
       "      <th>hum</th>\n",
       "      <th>windspeed</th>\n",
       "      <th>casual</th>\n",
       "      <th>registered</th>\n",
       "      <th>cnt</th>\n",
       "      <th>not_norm_windspeeds</th>\n",
       "    </tr>\n",
       "  </thead>\n",
       "  <tbody>\n",
       "    <tr>\n",
       "      <th>1</th>\n",
       "      <td>2011-01-02</td>\n",
       "      <td>23</td>\n",
       "      <td>23</td>\n",
       "      <td>23</td>\n",
       "      <td>23</td>\n",
       "      <td>23</td>\n",
       "      <td>23</td>\n",
       "      <td>23</td>\n",
       "      <td>23</td>\n",
       "      <td>23</td>\n",
       "      <td>23</td>\n",
       "      <td>23</td>\n",
       "      <td>23</td>\n",
       "      <td>23</td>\n",
       "      <td>23</td>\n",
       "      <td>23</td>\n",
       "      <td>23</td>\n",
       "      <td>23</td>\n",
       "    </tr>\n",
       "    <tr>\n",
       "      <th>2</th>\n",
       "      <td>2011-01-03</td>\n",
       "      <td>22</td>\n",
       "      <td>22</td>\n",
       "      <td>22</td>\n",
       "      <td>22</td>\n",
       "      <td>22</td>\n",
       "      <td>22</td>\n",
       "      <td>22</td>\n",
       "      <td>22</td>\n",
       "      <td>22</td>\n",
       "      <td>22</td>\n",
       "      <td>22</td>\n",
       "      <td>22</td>\n",
       "      <td>22</td>\n",
       "      <td>22</td>\n",
       "      <td>22</td>\n",
       "      <td>22</td>\n",
       "      <td>22</td>\n",
       "    </tr>\n",
       "    <tr>\n",
       "      <th>3</th>\n",
       "      <td>2011-01-04</td>\n",
       "      <td>23</td>\n",
       "      <td>23</td>\n",
       "      <td>23</td>\n",
       "      <td>23</td>\n",
       "      <td>23</td>\n",
       "      <td>23</td>\n",
       "      <td>23</td>\n",
       "      <td>23</td>\n",
       "      <td>23</td>\n",
       "      <td>23</td>\n",
       "      <td>23</td>\n",
       "      <td>23</td>\n",
       "      <td>23</td>\n",
       "      <td>23</td>\n",
       "      <td>23</td>\n",
       "      <td>23</td>\n",
       "      <td>23</td>\n",
       "    </tr>\n",
       "    <tr>\n",
       "      <th>4</th>\n",
       "      <td>2011-01-05</td>\n",
       "      <td>23</td>\n",
       "      <td>23</td>\n",
       "      <td>23</td>\n",
       "      <td>23</td>\n",
       "      <td>23</td>\n",
       "      <td>23</td>\n",
       "      <td>23</td>\n",
       "      <td>23</td>\n",
       "      <td>23</td>\n",
       "      <td>23</td>\n",
       "      <td>23</td>\n",
       "      <td>23</td>\n",
       "      <td>23</td>\n",
       "      <td>23</td>\n",
       "      <td>23</td>\n",
       "      <td>23</td>\n",
       "      <td>23</td>\n",
       "    </tr>\n",
       "    <tr>\n",
       "      <th>5</th>\n",
       "      <td>2011-01-06</td>\n",
       "      <td>23</td>\n",
       "      <td>23</td>\n",
       "      <td>23</td>\n",
       "      <td>23</td>\n",
       "      <td>23</td>\n",
       "      <td>23</td>\n",
       "      <td>23</td>\n",
       "      <td>23</td>\n",
       "      <td>23</td>\n",
       "      <td>23</td>\n",
       "      <td>23</td>\n",
       "      <td>23</td>\n",
       "      <td>23</td>\n",
       "      <td>23</td>\n",
       "      <td>23</td>\n",
       "      <td>23</td>\n",
       "      <td>23</td>\n",
       "    </tr>\n",
       "    <tr>\n",
       "      <th>...</th>\n",
       "      <td>...</td>\n",
       "      <td>...</td>\n",
       "      <td>...</td>\n",
       "      <td>...</td>\n",
       "      <td>...</td>\n",
       "      <td>...</td>\n",
       "      <td>...</td>\n",
       "      <td>...</td>\n",
       "      <td>...</td>\n",
       "      <td>...</td>\n",
       "      <td>...</td>\n",
       "      <td>...</td>\n",
       "      <td>...</td>\n",
       "      <td>...</td>\n",
       "      <td>...</td>\n",
       "      <td>...</td>\n",
       "      <td>...</td>\n",
       "      <td>...</td>\n",
       "    </tr>\n",
       "    <tr>\n",
       "      <th>668</th>\n",
       "      <td>2012-10-30</td>\n",
       "      <td>11</td>\n",
       "      <td>11</td>\n",
       "      <td>11</td>\n",
       "      <td>11</td>\n",
       "      <td>11</td>\n",
       "      <td>11</td>\n",
       "      <td>11</td>\n",
       "      <td>11</td>\n",
       "      <td>11</td>\n",
       "      <td>11</td>\n",
       "      <td>11</td>\n",
       "      <td>11</td>\n",
       "      <td>11</td>\n",
       "      <td>11</td>\n",
       "      <td>11</td>\n",
       "      <td>11</td>\n",
       "      <td>11</td>\n",
       "    </tr>\n",
       "    <tr>\n",
       "      <th>677</th>\n",
       "      <td>2012-11-08</td>\n",
       "      <td>23</td>\n",
       "      <td>23</td>\n",
       "      <td>23</td>\n",
       "      <td>23</td>\n",
       "      <td>23</td>\n",
       "      <td>23</td>\n",
       "      <td>23</td>\n",
       "      <td>23</td>\n",
       "      <td>23</td>\n",
       "      <td>23</td>\n",
       "      <td>23</td>\n",
       "      <td>23</td>\n",
       "      <td>23</td>\n",
       "      <td>23</td>\n",
       "      <td>23</td>\n",
       "      <td>23</td>\n",
       "      <td>23</td>\n",
       "    </tr>\n",
       "    <tr>\n",
       "      <th>698</th>\n",
       "      <td>2012-11-29</td>\n",
       "      <td>23</td>\n",
       "      <td>23</td>\n",
       "      <td>23</td>\n",
       "      <td>23</td>\n",
       "      <td>23</td>\n",
       "      <td>23</td>\n",
       "      <td>23</td>\n",
       "      <td>23</td>\n",
       "      <td>23</td>\n",
       "      <td>23</td>\n",
       "      <td>23</td>\n",
       "      <td>23</td>\n",
       "      <td>23</td>\n",
       "      <td>23</td>\n",
       "      <td>23</td>\n",
       "      <td>23</td>\n",
       "      <td>23</td>\n",
       "    </tr>\n",
       "    <tr>\n",
       "      <th>723</th>\n",
       "      <td>2012-12-24</td>\n",
       "      <td>23</td>\n",
       "      <td>23</td>\n",
       "      <td>23</td>\n",
       "      <td>23</td>\n",
       "      <td>23</td>\n",
       "      <td>23</td>\n",
       "      <td>23</td>\n",
       "      <td>23</td>\n",
       "      <td>23</td>\n",
       "      <td>23</td>\n",
       "      <td>23</td>\n",
       "      <td>23</td>\n",
       "      <td>23</td>\n",
       "      <td>23</td>\n",
       "      <td>23</td>\n",
       "      <td>23</td>\n",
       "      <td>23</td>\n",
       "    </tr>\n",
       "    <tr>\n",
       "      <th>724</th>\n",
       "      <td>2012-12-25</td>\n",
       "      <td>23</td>\n",
       "      <td>23</td>\n",
       "      <td>23</td>\n",
       "      <td>23</td>\n",
       "      <td>23</td>\n",
       "      <td>23</td>\n",
       "      <td>23</td>\n",
       "      <td>23</td>\n",
       "      <td>23</td>\n",
       "      <td>23</td>\n",
       "      <td>23</td>\n",
       "      <td>23</td>\n",
       "      <td>23</td>\n",
       "      <td>23</td>\n",
       "      <td>23</td>\n",
       "      <td>23</td>\n",
       "      <td>23</td>\n",
       "    </tr>\n",
       "  </tbody>\n",
       "</table>\n",
       "<p>76 rows × 18 columns</p>\n",
       "</div>"
      ],
      "text/plain": [
       "        dteday  instant  season  yr  mnth  hr  holiday  weekday  workingday  \\\n",
       "1   2011-01-02       23      23  23    23  23       23       23          23   \n",
       "2   2011-01-03       22      22  22    22  22       22       22          22   \n",
       "3   2011-01-04       23      23  23    23  23       23       23          23   \n",
       "4   2011-01-05       23      23  23    23  23       23       23          23   \n",
       "5   2011-01-06       23      23  23    23  23       23       23          23   \n",
       "..         ...      ...     ...  ..   ...  ..      ...      ...         ...   \n",
       "668 2012-10-30       11      11  11    11  11       11       11          11   \n",
       "677 2012-11-08       23      23  23    23  23       23       23          23   \n",
       "698 2012-11-29       23      23  23    23  23       23       23          23   \n",
       "723 2012-12-24       23      23  23    23  23       23       23          23   \n",
       "724 2012-12-25       23      23  23    23  23       23       23          23   \n",
       "\n",
       "     weathersit  temp  atemp  hum  windspeed  casual  registered  cnt  \\\n",
       "1            23    23     23   23         23      23          23   23   \n",
       "2            22    22     22   22         22      22          22   22   \n",
       "3            23    23     23   23         23      23          23   23   \n",
       "4            23    23     23   23         23      23          23   23   \n",
       "5            23    23     23   23         23      23          23   23   \n",
       "..          ...   ...    ...  ...        ...     ...         ...  ...   \n",
       "668          11    11     11   11         11      11          11   11   \n",
       "677          23    23     23   23         23      23          23   23   \n",
       "698          23    23     23   23         23      23          23   23   \n",
       "723          23    23     23   23         23      23          23   23   \n",
       "724          23    23     23   23         23      23          23   23   \n",
       "\n",
       "     not_norm_windspeeds  \n",
       "1                     23  \n",
       "2                     22  \n",
       "3                     23  \n",
       "4                     23  \n",
       "5                     23  \n",
       "..                   ...  \n",
       "668                   11  \n",
       "677                   23  \n",
       "698                   23  \n",
       "723                   23  \n",
       "724                   23  \n",
       "\n",
       "[76 rows x 18 columns]"
      ]
     },
     "execution_count": 105,
     "metadata": {},
     "output_type": "execute_result"
    }
   ],
   "source": [
    "len(workingdensity)\n",
    "df['dteday'].value_counts(ascending=True)\n",
    "\n",
    "check = df.groupby('dteday').count().reset_index()\n",
    "morecheck = check['instant'] < 24\n",
    "check[morecheck]\n",
    "\n",
    "# after further investigation, most of these dates are hurricanes (irene & sandy) or blizzard affecting bike routes"
   ]
  },
  {
   "cell_type": "code",
   "execution_count": null,
   "id": "ec4e6a15",
   "metadata": {},
   "outputs": [],
   "source": [
    "timebin=[]\n",
    "for i in range (len(workingdensity)):\n",
    "    count = workingdensity.iloc[i]['cnt']\n",
    "    #270 is above the 80th quantile\n",
    "    if count >= 270:\n",
    "        timebin.append('Peak Day')\n",
    "    elif 100 < count < 270:\n",
    "        timebin.append('Not Peak')\n",
    "    elif count < 100:\n",
    "        timebin.append('Maintenance')\n",
    "workingdensity['timebin'] = timebin\n",
    "\n",
    "# PEAK DAY IS DEFINED AS AVERAGE COUNT OF BIKERS ON A DAY GREATER THAN THE 80TH QUANTILE\n",
    "\n"
   ]
  },
  {
   "cell_type": "code",
   "execution_count": null,
   "id": "e89b2cc4",
   "metadata": {},
   "outputs": [
    {
     "data": {
      "application/vnd.plotly.v1+json": {
       "config": {
        "plotlyServerURL": "https://plot.ly"
       },
       "data": [
        {
         "bingroup": "x",
         "histfunc": "sum",
         "hovertemplate": "not_norm_windspeeds=%{x}<br>sum of cnt=%{y}<extra></extra>",
         "legendgroup": "",
         "marker": {
          "color": "#636efa",
          "pattern": {
           "shape": ""
          }
         },
         "name": "",
         "nbinsx": 24,
         "orientation": "v",
         "showlegend": false,
         "type": "histogram",
         "x": {
          "bdata": "fT81XrqBH0B7pSxDHCsfQP/Xpp7y1RpABlxql0lVMkDxzx+tRKsRQC3880crFSRAzczMzMwKNUCVQ4ts578vQJEPejaraiBASHL5D+m/LkAdEA7jW1UiQNyyVscEKydA2qz6XG3VIkCtH4gZBwAiQJm+xEXbKipAOfvwGXYVM0DM7snDQhUsQAisHFpkqxRAL26jAbwVJUBLo9yQWYAnQJsIG55e1StAHYK9nOz/NkBfTva8CAAxQBMXbXuoqidAVebTUJDVI0ClUW7ILCA0QLEJQ/e/SjdAGlHaG3w1MkCNBvAWSAAnQPXb14Fz6iBADb4wmSpAKEBf4qJtD1UkQDOitDf4qiNA0ETY8PSqFUA/NV66SQAmQGM4sZrBqh5AYXl90+EqJkB7XgSgZJUiQLF1lka5VSxA9wZfmEwVJkDJdr6fGhUzQDTH3+M5gCRAcdG2h6qVJEA0ETY8vSomQEQfGZgC6yJAzj58hl1VIUDME/VvhOosQM4+fIZdVSFAkHif0NhUH0BDz2bV56odQLRZ9bna6iRAvw6cM6JAIkDxrSK2zqomQKl/I5TRvyZAKFlhDSoAI0As+cWSXwAvQAtJUyrOaiFAbC4kTamAE0CNTRi6/9USQFjvXXDzqxZA8Rl2BchVE0C9nOx5EUAhQMt/SL99lSlAp5vEILAqHkBVC//80aoUQLSjSxJelSZAsQlD97+qL0DxHKS6kyopQGGeqH8jACdA5fIf0m9VMUCbwfL6pqsYQGuXSefWqiFA57FTmU8rFkAgQfFjzNUbQLmyMZxYVSRA6Nms+lzVLEA4Qhm9LasfQCijt2WtqiRAssIaVAgVI0CxCUP3v6ovQHKKjuTyXzBAM1he33QAIkDlZM+LAAAmQKWYlmvkVRhAuUOwl5PVEUAX/vmjlYAfQP8h/fZ1gBxAeFV6gAErKUAfYMCldlUoQBf++aOVgC9AXGqXSedqKEDoj1ai2SobQJVDi2znvy9A//mjlWjWFUDTco28mVYZQB/PQao7gRNAw/UoXI+qIEB7OdnzIsAhQKQm57FTVSdA",
          "dtype": "f8"
         },
         "xaxis": "x",
         "y": {
          "bdata": "q6qqqqrkcUCrqqqqqsZ1QKuqqqqqonFAq6qqqqpscUCrqqqqqhhxQAAAAAAA/HJAVVVVVVUdcUCrqqqqqk5yQFVVVVVVVXNAq6qqqqo6c0CrqqqqquRzQFVVVVVVoXFAVVVVVVWJcUAAAAAAANpxQAAAAAAAHHNAVVVVVVU5ckBVVVVVVTtyQFVVVVVVX3JAAAAAAACEc0BVVVVVVSV0QKuqqqqqWnFAVVVVVVVTc0CrqqqqqixzQAAAAAAA9nNAAAAAAADGcUBVVVVVVadxQFVVVVVVYXNAAAAAAAAac0AAAAAAAOpxQAAAAAAAWHFAVVVVVVUbcUCrqqqqqupyQAAAAAAAZHNAVVVVVVWHc0BVVVVVVclxQAAAAAAArHFAAAAAAAAqcUAAAAAAACRyQFVVVVVVxXNAq6qqqqpIdUAAAAAAAN5xQKuqqqqq+nFAq6qqqqqAckCrqqqqqspyQFVVVVVVvXNAq6qqqqrockBVVVVVVa9yQFVVVVVVQ3JAq6qqqqrwckCrqqqqqp5zQFVVVVVV+XJAq6qqqqrscUCrqqqqqqpxQAAAAAAAInNAAAAAAADOc0BVVVVVVZ1yQFVVVVVVAXFAq6qqqqo+ckCrqqqqqjRzQKuqqqqqOHRAq6qqqqq+c0BVVVVVVQNyQFVVVVVVVXJAVVVVVVULdEAAAAAAABZ0QAAAAAAAJHNAAAAAAADgcUBVVVVVVYVyQKuqqqqqinNAq6qqqqqYc0AAAAAAADp0QKuqqqqqfnRAq6qqqqpSdEBVVVVVVdt0QFVVVVVV43FAq6qqqqrEc0Crqqqqqhp0QKuqqqqqRHVAVVVVVVVdc0BVVVVVVaFzQFVVVVVVI3RAq6qqqqpAc0BVVVVVVU9zQKuqqqqqpnFAAAAAAAC4c0BVVVVVVRVzQFVVVVVVPXVAVVVVVVUHdECrqqqqqrZzQKuqqqqq9nJAq6qqqqqec0AAAAAAAG5zQAAAAAAAjnNAVVVVVVVhckBVVVVVVXFzQKuqqqqqCHRAAAAAAAAqc0CrqqqqqmJzQAAAAAAANHFA",
          "dtype": "f8"
         },
         "yaxis": "y"
        }
       ],
       "layout": {
        "barmode": "relative",
        "font": {
         "size": 12
        },
        "height": 500,
        "legend": {
         "tracegroupgap": 0
        },
        "template": {
         "data": {
          "bar": [
           {
            "error_x": {
             "color": "#2a3f5f"
            },
            "error_y": {
             "color": "#2a3f5f"
            },
            "marker": {
             "line": {
              "color": "#E5ECF6",
              "width": 0.5
             },
             "pattern": {
              "fillmode": "overlay",
              "size": 10,
              "solidity": 0.2
             }
            },
            "type": "bar"
           }
          ],
          "barpolar": [
           {
            "marker": {
             "line": {
              "color": "#E5ECF6",
              "width": 0.5
             },
             "pattern": {
              "fillmode": "overlay",
              "size": 10,
              "solidity": 0.2
             }
            },
            "type": "barpolar"
           }
          ],
          "carpet": [
           {
            "aaxis": {
             "endlinecolor": "#2a3f5f",
             "gridcolor": "white",
             "linecolor": "white",
             "minorgridcolor": "white",
             "startlinecolor": "#2a3f5f"
            },
            "baxis": {
             "endlinecolor": "#2a3f5f",
             "gridcolor": "white",
             "linecolor": "white",
             "minorgridcolor": "white",
             "startlinecolor": "#2a3f5f"
            },
            "type": "carpet"
           }
          ],
          "choropleth": [
           {
            "colorbar": {
             "outlinewidth": 0,
             "ticks": ""
            },
            "type": "choropleth"
           }
          ],
          "contour": [
           {
            "colorbar": {
             "outlinewidth": 0,
             "ticks": ""
            },
            "colorscale": [
             [
              0,
              "#0d0887"
             ],
             [
              0.1111111111111111,
              "#46039f"
             ],
             [
              0.2222222222222222,
              "#7201a8"
             ],
             [
              0.3333333333333333,
              "#9c179e"
             ],
             [
              0.4444444444444444,
              "#bd3786"
             ],
             [
              0.5555555555555556,
              "#d8576b"
             ],
             [
              0.6666666666666666,
              "#ed7953"
             ],
             [
              0.7777777777777778,
              "#fb9f3a"
             ],
             [
              0.8888888888888888,
              "#fdca26"
             ],
             [
              1,
              "#f0f921"
             ]
            ],
            "type": "contour"
           }
          ],
          "contourcarpet": [
           {
            "colorbar": {
             "outlinewidth": 0,
             "ticks": ""
            },
            "type": "contourcarpet"
           }
          ],
          "heatmap": [
           {
            "colorbar": {
             "outlinewidth": 0,
             "ticks": ""
            },
            "colorscale": [
             [
              0,
              "#0d0887"
             ],
             [
              0.1111111111111111,
              "#46039f"
             ],
             [
              0.2222222222222222,
              "#7201a8"
             ],
             [
              0.3333333333333333,
              "#9c179e"
             ],
             [
              0.4444444444444444,
              "#bd3786"
             ],
             [
              0.5555555555555556,
              "#d8576b"
             ],
             [
              0.6666666666666666,
              "#ed7953"
             ],
             [
              0.7777777777777778,
              "#fb9f3a"
             ],
             [
              0.8888888888888888,
              "#fdca26"
             ],
             [
              1,
              "#f0f921"
             ]
            ],
            "type": "heatmap"
           }
          ],
          "histogram": [
           {
            "marker": {
             "pattern": {
              "fillmode": "overlay",
              "size": 10,
              "solidity": 0.2
             }
            },
            "type": "histogram"
           }
          ],
          "histogram2d": [
           {
            "colorbar": {
             "outlinewidth": 0,
             "ticks": ""
            },
            "colorscale": [
             [
              0,
              "#0d0887"
             ],
             [
              0.1111111111111111,
              "#46039f"
             ],
             [
              0.2222222222222222,
              "#7201a8"
             ],
             [
              0.3333333333333333,
              "#9c179e"
             ],
             [
              0.4444444444444444,
              "#bd3786"
             ],
             [
              0.5555555555555556,
              "#d8576b"
             ],
             [
              0.6666666666666666,
              "#ed7953"
             ],
             [
              0.7777777777777778,
              "#fb9f3a"
             ],
             [
              0.8888888888888888,
              "#fdca26"
             ],
             [
              1,
              "#f0f921"
             ]
            ],
            "type": "histogram2d"
           }
          ],
          "histogram2dcontour": [
           {
            "colorbar": {
             "outlinewidth": 0,
             "ticks": ""
            },
            "colorscale": [
             [
              0,
              "#0d0887"
             ],
             [
              0.1111111111111111,
              "#46039f"
             ],
             [
              0.2222222222222222,
              "#7201a8"
             ],
             [
              0.3333333333333333,
              "#9c179e"
             ],
             [
              0.4444444444444444,
              "#bd3786"
             ],
             [
              0.5555555555555556,
              "#d8576b"
             ],
             [
              0.6666666666666666,
              "#ed7953"
             ],
             [
              0.7777777777777778,
              "#fb9f3a"
             ],
             [
              0.8888888888888888,
              "#fdca26"
             ],
             [
              1,
              "#f0f921"
             ]
            ],
            "type": "histogram2dcontour"
           }
          ],
          "mesh3d": [
           {
            "colorbar": {
             "outlinewidth": 0,
             "ticks": ""
            },
            "type": "mesh3d"
           }
          ],
          "parcoords": [
           {
            "line": {
             "colorbar": {
              "outlinewidth": 0,
              "ticks": ""
             }
            },
            "type": "parcoords"
           }
          ],
          "pie": [
           {
            "automargin": true,
            "type": "pie"
           }
          ],
          "scatter": [
           {
            "fillpattern": {
             "fillmode": "overlay",
             "size": 10,
             "solidity": 0.2
            },
            "type": "scatter"
           }
          ],
          "scatter3d": [
           {
            "line": {
             "colorbar": {
              "outlinewidth": 0,
              "ticks": ""
             }
            },
            "marker": {
             "colorbar": {
              "outlinewidth": 0,
              "ticks": ""
             }
            },
            "type": "scatter3d"
           }
          ],
          "scattercarpet": [
           {
            "marker": {
             "colorbar": {
              "outlinewidth": 0,
              "ticks": ""
             }
            },
            "type": "scattercarpet"
           }
          ],
          "scattergeo": [
           {
            "marker": {
             "colorbar": {
              "outlinewidth": 0,
              "ticks": ""
             }
            },
            "type": "scattergeo"
           }
          ],
          "scattergl": [
           {
            "marker": {
             "colorbar": {
              "outlinewidth": 0,
              "ticks": ""
             }
            },
            "type": "scattergl"
           }
          ],
          "scattermap": [
           {
            "marker": {
             "colorbar": {
              "outlinewidth": 0,
              "ticks": ""
             }
            },
            "type": "scattermap"
           }
          ],
          "scattermapbox": [
           {
            "marker": {
             "colorbar": {
              "outlinewidth": 0,
              "ticks": ""
             }
            },
            "type": "scattermapbox"
           }
          ],
          "scatterpolar": [
           {
            "marker": {
             "colorbar": {
              "outlinewidth": 0,
              "ticks": ""
             }
            },
            "type": "scatterpolar"
           }
          ],
          "scatterpolargl": [
           {
            "marker": {
             "colorbar": {
              "outlinewidth": 0,
              "ticks": ""
             }
            },
            "type": "scatterpolargl"
           }
          ],
          "scatterternary": [
           {
            "marker": {
             "colorbar": {
              "outlinewidth": 0,
              "ticks": ""
             }
            },
            "type": "scatterternary"
           }
          ],
          "surface": [
           {
            "colorbar": {
             "outlinewidth": 0,
             "ticks": ""
            },
            "colorscale": [
             [
              0,
              "#0d0887"
             ],
             [
              0.1111111111111111,
              "#46039f"
             ],
             [
              0.2222222222222222,
              "#7201a8"
             ],
             [
              0.3333333333333333,
              "#9c179e"
             ],
             [
              0.4444444444444444,
              "#bd3786"
             ],
             [
              0.5555555555555556,
              "#d8576b"
             ],
             [
              0.6666666666666666,
              "#ed7953"
             ],
             [
              0.7777777777777778,
              "#fb9f3a"
             ],
             [
              0.8888888888888888,
              "#fdca26"
             ],
             [
              1,
              "#f0f921"
             ]
            ],
            "type": "surface"
           }
          ],
          "table": [
           {
            "cells": {
             "fill": {
              "color": "#EBF0F8"
             },
             "line": {
              "color": "white"
             }
            },
            "header": {
             "fill": {
              "color": "#C8D4E3"
             },
             "line": {
              "color": "white"
             }
            },
            "type": "table"
           }
          ]
         },
         "layout": {
          "annotationdefaults": {
           "arrowcolor": "#2a3f5f",
           "arrowhead": 0,
           "arrowwidth": 1
          },
          "autotypenumbers": "strict",
          "coloraxis": {
           "colorbar": {
            "outlinewidth": 0,
            "ticks": ""
           }
          },
          "colorscale": {
           "diverging": [
            [
             0,
             "#8e0152"
            ],
            [
             0.1,
             "#c51b7d"
            ],
            [
             0.2,
             "#de77ae"
            ],
            [
             0.3,
             "#f1b6da"
            ],
            [
             0.4,
             "#fde0ef"
            ],
            [
             0.5,
             "#f7f7f7"
            ],
            [
             0.6,
             "#e6f5d0"
            ],
            [
             0.7,
             "#b8e186"
            ],
            [
             0.8,
             "#7fbc41"
            ],
            [
             0.9,
             "#4d9221"
            ],
            [
             1,
             "#276419"
            ]
           ],
           "sequential": [
            [
             0,
             "#0d0887"
            ],
            [
             0.1111111111111111,
             "#46039f"
            ],
            [
             0.2222222222222222,
             "#7201a8"
            ],
            [
             0.3333333333333333,
             "#9c179e"
            ],
            [
             0.4444444444444444,
             "#bd3786"
            ],
            [
             0.5555555555555556,
             "#d8576b"
            ],
            [
             0.6666666666666666,
             "#ed7953"
            ],
            [
             0.7777777777777778,
             "#fb9f3a"
            ],
            [
             0.8888888888888888,
             "#fdca26"
            ],
            [
             1,
             "#f0f921"
            ]
           ],
           "sequentialminus": [
            [
             0,
             "#0d0887"
            ],
            [
             0.1111111111111111,
             "#46039f"
            ],
            [
             0.2222222222222222,
             "#7201a8"
            ],
            [
             0.3333333333333333,
             "#9c179e"
            ],
            [
             0.4444444444444444,
             "#bd3786"
            ],
            [
             0.5555555555555556,
             "#d8576b"
            ],
            [
             0.6666666666666666,
             "#ed7953"
            ],
            [
             0.7777777777777778,
             "#fb9f3a"
            ],
            [
             0.8888888888888888,
             "#fdca26"
            ],
            [
             1,
             "#f0f921"
            ]
           ]
          },
          "colorway": [
           "#636efa",
           "#EF553B",
           "#00cc96",
           "#ab63fa",
           "#FFA15A",
           "#19d3f3",
           "#FF6692",
           "#B6E880",
           "#FF97FF",
           "#FECB52"
          ],
          "font": {
           "color": "#2a3f5f"
          },
          "geo": {
           "bgcolor": "white",
           "lakecolor": "white",
           "landcolor": "#E5ECF6",
           "showlakes": true,
           "showland": true,
           "subunitcolor": "white"
          },
          "hoverlabel": {
           "align": "left"
          },
          "hovermode": "closest",
          "mapbox": {
           "style": "light"
          },
          "paper_bgcolor": "white",
          "plot_bgcolor": "#E5ECF6",
          "polar": {
           "angularaxis": {
            "gridcolor": "white",
            "linecolor": "white",
            "ticks": ""
           },
           "bgcolor": "#E5ECF6",
           "radialaxis": {
            "gridcolor": "white",
            "linecolor": "white",
            "ticks": ""
           }
          },
          "scene": {
           "xaxis": {
            "backgroundcolor": "#E5ECF6",
            "gridcolor": "white",
            "gridwidth": 2,
            "linecolor": "white",
            "showbackground": true,
            "ticks": "",
            "zerolinecolor": "white"
           },
           "yaxis": {
            "backgroundcolor": "#E5ECF6",
            "gridcolor": "white",
            "gridwidth": 2,
            "linecolor": "white",
            "showbackground": true,
            "ticks": "",
            "zerolinecolor": "white"
           },
           "zaxis": {
            "backgroundcolor": "#E5ECF6",
            "gridcolor": "white",
            "gridwidth": 2,
            "linecolor": "white",
            "showbackground": true,
            "ticks": "",
            "zerolinecolor": "white"
           }
          },
          "shapedefaults": {
           "line": {
            "color": "#2a3f5f"
           }
          },
          "ternary": {
           "aaxis": {
            "gridcolor": "white",
            "linecolor": "white",
            "ticks": ""
           },
           "baxis": {
            "gridcolor": "white",
            "linecolor": "white",
            "ticks": ""
           },
           "bgcolor": "#E5ECF6",
           "caxis": {
            "gridcolor": "white",
            "linecolor": "white",
            "ticks": ""
           }
          },
          "title": {
           "x": 0.05
          },
          "xaxis": {
           "automargin": true,
           "gridcolor": "white",
           "linecolor": "white",
           "ticks": "",
           "title": {
            "standoff": 15
           },
           "zerolinecolor": "white",
           "zerolinewidth": 2
          },
          "yaxis": {
           "automargin": true,
           "gridcolor": "white",
           "linecolor": "white",
           "ticks": "",
           "title": {
            "standoff": 15
           },
           "zerolinecolor": "white",
           "zerolinewidth": 2
          }
         }
        },
        "title": {
         "text": "Count of Rides by Windspeed During Peak Days"
        },
        "width": 600,
        "xaxis": {
         "anchor": "y",
         "domain": [
          0,
          1
         ],
         "title": {
          "text": "Average Windspeed"
         }
        },
        "yaxis": {
         "anchor": "x",
         "domain": [
          0,
          1
         ],
         "title": {
          "text": "Average Count of Riders"
         }
        }
       }
      }
     },
     "metadata": {},
     "output_type": "display_data"
    }
   ],
   "source": [
    "peak = workingdensity[workingdensity['timebin'] == 'Peak Day']\n",
    "\n",
    "peakgram = px.histogram(peak,'not_norm_windspeeds','cnt',title='Count of Rides by Windspeed During Peak Days',nbins=24,height=500,width=600)\n",
    "peakgram.update_layout(xaxis_title='Average Windspeed',yaxis_title='Average Count of Riders',font=dict(size=12))\n"
   ]
  },
  {
   "cell_type": "code",
   "execution_count": null,
   "id": "a258d618",
   "metadata": {},
   "outputs": [
    {
     "name": "stdout",
     "output_type": "stream",
     "text": [
      "total count sum 2292410\n",
      "total casual sum 303285\n",
      "total registered sum 1989125\n"
     ]
    },
    {
     "data": {
      "application/vnd.plotly.v1+json": {
       "config": {
        "plotlyServerURL": "https://plot.ly"
       },
       "data": [
        {
         "domain": {
          "x": [
           0,
           1
          ],
          "y": [
           0,
           1
          ]
         },
         "hovertemplate": "label=%{label}<br>value=%{value}<extra></extra>",
         "labels": [
          "casual",
          "registered"
         ],
         "legendgroup": "",
         "name": "",
         "showlegend": true,
         "type": "pie",
         "values": {
          "bdata": "taAEAAVaHgA=",
          "dtype": "i4"
         }
        }
       ],
       "layout": {
        "font": {
         "size": 15
        },
        "height": 400,
        "legend": {
         "tracegroupgap": 0
        },
        "template": {
         "data": {
          "bar": [
           {
            "error_x": {
             "color": "#2a3f5f"
            },
            "error_y": {
             "color": "#2a3f5f"
            },
            "marker": {
             "line": {
              "color": "#E5ECF6",
              "width": 0.5
             },
             "pattern": {
              "fillmode": "overlay",
              "size": 10,
              "solidity": 0.2
             }
            },
            "type": "bar"
           }
          ],
          "barpolar": [
           {
            "marker": {
             "line": {
              "color": "#E5ECF6",
              "width": 0.5
             },
             "pattern": {
              "fillmode": "overlay",
              "size": 10,
              "solidity": 0.2
             }
            },
            "type": "barpolar"
           }
          ],
          "carpet": [
           {
            "aaxis": {
             "endlinecolor": "#2a3f5f",
             "gridcolor": "white",
             "linecolor": "white",
             "minorgridcolor": "white",
             "startlinecolor": "#2a3f5f"
            },
            "baxis": {
             "endlinecolor": "#2a3f5f",
             "gridcolor": "white",
             "linecolor": "white",
             "minorgridcolor": "white",
             "startlinecolor": "#2a3f5f"
            },
            "type": "carpet"
           }
          ],
          "choropleth": [
           {
            "colorbar": {
             "outlinewidth": 0,
             "ticks": ""
            },
            "type": "choropleth"
           }
          ],
          "contour": [
           {
            "colorbar": {
             "outlinewidth": 0,
             "ticks": ""
            },
            "colorscale": [
             [
              0,
              "#0d0887"
             ],
             [
              0.1111111111111111,
              "#46039f"
             ],
             [
              0.2222222222222222,
              "#7201a8"
             ],
             [
              0.3333333333333333,
              "#9c179e"
             ],
             [
              0.4444444444444444,
              "#bd3786"
             ],
             [
              0.5555555555555556,
              "#d8576b"
             ],
             [
              0.6666666666666666,
              "#ed7953"
             ],
             [
              0.7777777777777778,
              "#fb9f3a"
             ],
             [
              0.8888888888888888,
              "#fdca26"
             ],
             [
              1,
              "#f0f921"
             ]
            ],
            "type": "contour"
           }
          ],
          "contourcarpet": [
           {
            "colorbar": {
             "outlinewidth": 0,
             "ticks": ""
            },
            "type": "contourcarpet"
           }
          ],
          "heatmap": [
           {
            "colorbar": {
             "outlinewidth": 0,
             "ticks": ""
            },
            "colorscale": [
             [
              0,
              "#0d0887"
             ],
             [
              0.1111111111111111,
              "#46039f"
             ],
             [
              0.2222222222222222,
              "#7201a8"
             ],
             [
              0.3333333333333333,
              "#9c179e"
             ],
             [
              0.4444444444444444,
              "#bd3786"
             ],
             [
              0.5555555555555556,
              "#d8576b"
             ],
             [
              0.6666666666666666,
              "#ed7953"
             ],
             [
              0.7777777777777778,
              "#fb9f3a"
             ],
             [
              0.8888888888888888,
              "#fdca26"
             ],
             [
              1,
              "#f0f921"
             ]
            ],
            "type": "heatmap"
           }
          ],
          "histogram": [
           {
            "marker": {
             "pattern": {
              "fillmode": "overlay",
              "size": 10,
              "solidity": 0.2
             }
            },
            "type": "histogram"
           }
          ],
          "histogram2d": [
           {
            "colorbar": {
             "outlinewidth": 0,
             "ticks": ""
            },
            "colorscale": [
             [
              0,
              "#0d0887"
             ],
             [
              0.1111111111111111,
              "#46039f"
             ],
             [
              0.2222222222222222,
              "#7201a8"
             ],
             [
              0.3333333333333333,
              "#9c179e"
             ],
             [
              0.4444444444444444,
              "#bd3786"
             ],
             [
              0.5555555555555556,
              "#d8576b"
             ],
             [
              0.6666666666666666,
              "#ed7953"
             ],
             [
              0.7777777777777778,
              "#fb9f3a"
             ],
             [
              0.8888888888888888,
              "#fdca26"
             ],
             [
              1,
              "#f0f921"
             ]
            ],
            "type": "histogram2d"
           }
          ],
          "histogram2dcontour": [
           {
            "colorbar": {
             "outlinewidth": 0,
             "ticks": ""
            },
            "colorscale": [
             [
              0,
              "#0d0887"
             ],
             [
              0.1111111111111111,
              "#46039f"
             ],
             [
              0.2222222222222222,
              "#7201a8"
             ],
             [
              0.3333333333333333,
              "#9c179e"
             ],
             [
              0.4444444444444444,
              "#bd3786"
             ],
             [
              0.5555555555555556,
              "#d8576b"
             ],
             [
              0.6666666666666666,
              "#ed7953"
             ],
             [
              0.7777777777777778,
              "#fb9f3a"
             ],
             [
              0.8888888888888888,
              "#fdca26"
             ],
             [
              1,
              "#f0f921"
             ]
            ],
            "type": "histogram2dcontour"
           }
          ],
          "mesh3d": [
           {
            "colorbar": {
             "outlinewidth": 0,
             "ticks": ""
            },
            "type": "mesh3d"
           }
          ],
          "parcoords": [
           {
            "line": {
             "colorbar": {
              "outlinewidth": 0,
              "ticks": ""
             }
            },
            "type": "parcoords"
           }
          ],
          "pie": [
           {
            "automargin": true,
            "type": "pie"
           }
          ],
          "scatter": [
           {
            "fillpattern": {
             "fillmode": "overlay",
             "size": 10,
             "solidity": 0.2
            },
            "type": "scatter"
           }
          ],
          "scatter3d": [
           {
            "line": {
             "colorbar": {
              "outlinewidth": 0,
              "ticks": ""
             }
            },
            "marker": {
             "colorbar": {
              "outlinewidth": 0,
              "ticks": ""
             }
            },
            "type": "scatter3d"
           }
          ],
          "scattercarpet": [
           {
            "marker": {
             "colorbar": {
              "outlinewidth": 0,
              "ticks": ""
             }
            },
            "type": "scattercarpet"
           }
          ],
          "scattergeo": [
           {
            "marker": {
             "colorbar": {
              "outlinewidth": 0,
              "ticks": ""
             }
            },
            "type": "scattergeo"
           }
          ],
          "scattergl": [
           {
            "marker": {
             "colorbar": {
              "outlinewidth": 0,
              "ticks": ""
             }
            },
            "type": "scattergl"
           }
          ],
          "scattermap": [
           {
            "marker": {
             "colorbar": {
              "outlinewidth": 0,
              "ticks": ""
             }
            },
            "type": "scattermap"
           }
          ],
          "scattermapbox": [
           {
            "marker": {
             "colorbar": {
              "outlinewidth": 0,
              "ticks": ""
             }
            },
            "type": "scattermapbox"
           }
          ],
          "scatterpolar": [
           {
            "marker": {
             "colorbar": {
              "outlinewidth": 0,
              "ticks": ""
             }
            },
            "type": "scatterpolar"
           }
          ],
          "scatterpolargl": [
           {
            "marker": {
             "colorbar": {
              "outlinewidth": 0,
              "ticks": ""
             }
            },
            "type": "scatterpolargl"
           }
          ],
          "scatterternary": [
           {
            "marker": {
             "colorbar": {
              "outlinewidth": 0,
              "ticks": ""
             }
            },
            "type": "scatterternary"
           }
          ],
          "surface": [
           {
            "colorbar": {
             "outlinewidth": 0,
             "ticks": ""
            },
            "colorscale": [
             [
              0,
              "#0d0887"
             ],
             [
              0.1111111111111111,
              "#46039f"
             ],
             [
              0.2222222222222222,
              "#7201a8"
             ],
             [
              0.3333333333333333,
              "#9c179e"
             ],
             [
              0.4444444444444444,
              "#bd3786"
             ],
             [
              0.5555555555555556,
              "#d8576b"
             ],
             [
              0.6666666666666666,
              "#ed7953"
             ],
             [
              0.7777777777777778,
              "#fb9f3a"
             ],
             [
              0.8888888888888888,
              "#fdca26"
             ],
             [
              1,
              "#f0f921"
             ]
            ],
            "type": "surface"
           }
          ],
          "table": [
           {
            "cells": {
             "fill": {
              "color": "#EBF0F8"
             },
             "line": {
              "color": "white"
             }
            },
            "header": {
             "fill": {
              "color": "#C8D4E3"
             },
             "line": {
              "color": "white"
             }
            },
            "type": "table"
           }
          ]
         },
         "layout": {
          "annotationdefaults": {
           "arrowcolor": "#2a3f5f",
           "arrowhead": 0,
           "arrowwidth": 1
          },
          "autotypenumbers": "strict",
          "coloraxis": {
           "colorbar": {
            "outlinewidth": 0,
            "ticks": ""
           }
          },
          "colorscale": {
           "diverging": [
            [
             0,
             "#8e0152"
            ],
            [
             0.1,
             "#c51b7d"
            ],
            [
             0.2,
             "#de77ae"
            ],
            [
             0.3,
             "#f1b6da"
            ],
            [
             0.4,
             "#fde0ef"
            ],
            [
             0.5,
             "#f7f7f7"
            ],
            [
             0.6,
             "#e6f5d0"
            ],
            [
             0.7,
             "#b8e186"
            ],
            [
             0.8,
             "#7fbc41"
            ],
            [
             0.9,
             "#4d9221"
            ],
            [
             1,
             "#276419"
            ]
           ],
           "sequential": [
            [
             0,
             "#0d0887"
            ],
            [
             0.1111111111111111,
             "#46039f"
            ],
            [
             0.2222222222222222,
             "#7201a8"
            ],
            [
             0.3333333333333333,
             "#9c179e"
            ],
            [
             0.4444444444444444,
             "#bd3786"
            ],
            [
             0.5555555555555556,
             "#d8576b"
            ],
            [
             0.6666666666666666,
             "#ed7953"
            ],
            [
             0.7777777777777778,
             "#fb9f3a"
            ],
            [
             0.8888888888888888,
             "#fdca26"
            ],
            [
             1,
             "#f0f921"
            ]
           ],
           "sequentialminus": [
            [
             0,
             "#0d0887"
            ],
            [
             0.1111111111111111,
             "#46039f"
            ],
            [
             0.2222222222222222,
             "#7201a8"
            ],
            [
             0.3333333333333333,
             "#9c179e"
            ],
            [
             0.4444444444444444,
             "#bd3786"
            ],
            [
             0.5555555555555556,
             "#d8576b"
            ],
            [
             0.6666666666666666,
             "#ed7953"
            ],
            [
             0.7777777777777778,
             "#fb9f3a"
            ],
            [
             0.8888888888888888,
             "#fdca26"
            ],
            [
             1,
             "#f0f921"
            ]
           ]
          },
          "colorway": [
           "#636efa",
           "#EF553B",
           "#00cc96",
           "#ab63fa",
           "#FFA15A",
           "#19d3f3",
           "#FF6692",
           "#B6E880",
           "#FF97FF",
           "#FECB52"
          ],
          "font": {
           "color": "#2a3f5f"
          },
          "geo": {
           "bgcolor": "white",
           "lakecolor": "white",
           "landcolor": "#E5ECF6",
           "showlakes": true,
           "showland": true,
           "subunitcolor": "white"
          },
          "hoverlabel": {
           "align": "left"
          },
          "hovermode": "closest",
          "mapbox": {
           "style": "light"
          },
          "paper_bgcolor": "white",
          "plot_bgcolor": "#E5ECF6",
          "polar": {
           "angularaxis": {
            "gridcolor": "white",
            "linecolor": "white",
            "ticks": ""
           },
           "bgcolor": "#E5ECF6",
           "radialaxis": {
            "gridcolor": "white",
            "linecolor": "white",
            "ticks": ""
           }
          },
          "scene": {
           "xaxis": {
            "backgroundcolor": "#E5ECF6",
            "gridcolor": "white",
            "gridwidth": 2,
            "linecolor": "white",
            "showbackground": true,
            "ticks": "",
            "zerolinecolor": "white"
           },
           "yaxis": {
            "backgroundcolor": "#E5ECF6",
            "gridcolor": "white",
            "gridwidth": 2,
            "linecolor": "white",
            "showbackground": true,
            "ticks": "",
            "zerolinecolor": "white"
           },
           "zaxis": {
            "backgroundcolor": "#E5ECF6",
            "gridcolor": "white",
            "gridwidth": 2,
            "linecolor": "white",
            "showbackground": true,
            "ticks": "",
            "zerolinecolor": "white"
           }
          },
          "shapedefaults": {
           "line": {
            "color": "#2a3f5f"
           }
          },
          "ternary": {
           "aaxis": {
            "gridcolor": "white",
            "linecolor": "white",
            "ticks": ""
           },
           "baxis": {
            "gridcolor": "white",
            "linecolor": "white",
            "ticks": ""
           },
           "bgcolor": "#E5ECF6",
           "caxis": {
            "gridcolor": "white",
            "linecolor": "white",
            "ticks": ""
           }
          },
          "title": {
           "x": 0.05
          },
          "xaxis": {
           "automargin": true,
           "gridcolor": "white",
           "linecolor": "white",
           "ticks": "",
           "title": {
            "standoff": 15
           },
           "zerolinecolor": "white",
           "zerolinewidth": 2
          },
          "yaxis": {
           "automargin": true,
           "gridcolor": "white",
           "linecolor": "white",
           "ticks": "",
           "title": {
            "standoff": 15
           },
           "zerolinecolor": "white",
           "zerolinewidth": 2
          }
         }
        },
        "title": {
         "text": "Percentage of Casual vs Registered"
        },
        "width": 500
       }
      }
     },
     "metadata": {},
     "output_type": "display_data"
    }
   ],
   "source": [
    "#a lot more registered users than casual, same goes for original dataframe\n",
    "workingdays[['registered','casual']].sum()\n",
    "\n",
    "print('total count sum',workingdays['cnt'].sum())\n",
    "print('total casual sum',workingdays['casual'].sum())\n",
    "print('total registered sum',workingdays['registered'].sum())\n",
    "#--unsure to use if to not potentially bias registered users\n",
    "\n",
    "\n",
    "piedata = workingdays[['casual','registered']].sum().reset_index\n",
    "workingpie = px.pie(workingdays,values=workingdays[['casual','registered']].sum(),names=['casual','registered'],title='Percentage of Casual vs Registered',height=400, width=500)\n",
    "workingpie.update_layout(font=dict(size=15))\n",
    "\n",
    "#workingdays.groupby('weekday').agg('ocasual')\n",
    "#--thursday on average have the highest usage for bike share but not by much\n",
    "\n",
    "#workingdays.groupby('season')['casual'].sum()\n"
   ]
  }
 ],
 "metadata": {
  "kernelspec": {
   "display_name": "base",
   "language": "python",
   "name": "python3"
  },
  "language_info": {
   "codemirror_mode": {
    "name": "ipython",
    "version": 3
   },
   "file_extension": ".py",
   "mimetype": "text/x-python",
   "name": "python",
   "nbconvert_exporter": "python",
   "pygments_lexer": "ipython3",
   "version": "3.12.9"
  }
 },
 "nbformat": 4,
 "nbformat_minor": 5
}
