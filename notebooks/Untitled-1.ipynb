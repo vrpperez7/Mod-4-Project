{
 "cells": [
  {
   "cell_type": "code",
   "execution_count": 2,
   "id": "2f6b7af3",
   "metadata": {},
   "outputs": [],
   "source": [
    "import pandas as pd\n",
    "import numpy as np"
   ]
  },
  {
   "cell_type": "code",
   "execution_count": 3,
   "id": "24f068d0",
   "metadata": {},
   "outputs": [
    {
     "name": "stdout",
     "output_type": "stream",
     "text": [
      "<class 'pandas.core.frame.DataFrame'>\n",
      "RangeIndex: 17379 entries, 0 to 17378\n",
      "Data columns (total 17 columns):\n",
      " #   Column      Non-Null Count  Dtype  \n",
      "---  ------      --------------  -----  \n",
      " 0   instant     17379 non-null  int64  \n",
      " 1   dteday      17379 non-null  object \n",
      " 2   season      17379 non-null  int64  \n",
      " 3   yr          17379 non-null  int64  \n",
      " 4   mnth        17379 non-null  int64  \n",
      " 5   hr          17379 non-null  int64  \n",
      " 6   holiday     17379 non-null  int64  \n",
      " 7   weekday     17379 non-null  int64  \n",
      " 8   workingday  17379 non-null  int64  \n",
      " 9   weathersit  17379 non-null  int64  \n",
      " 10  temp        17379 non-null  float64\n",
      " 11  atemp       17379 non-null  float64\n",
      " 12  hum         17379 non-null  float64\n",
      " 13  windspeed   17379 non-null  float64\n",
      " 14  casual      17379 non-null  int64  \n",
      " 15  registered  17379 non-null  int64  \n",
      " 16  cnt         17379 non-null  int64  \n",
      "dtypes: float64(4), int64(12), object(1)\n",
      "memory usage: 2.3+ MB\n"
     ]
    }
   ],
   "source": [
    "#reading csv file into pandas dataframe and naming df\n",
    "df = pd.read_csv(\"/Users/beans/Desktop/Mod-4-Project/data/hour.csv\")\n",
    "\n",
    "#understanding values within df\n",
    "df.info()"
   ]
  },
  {
   "cell_type": "code",
   "execution_count": null,
   "id": "5cc26aa6",
   "metadata": {},
   "outputs": [
    {
     "name": "stdout",
     "output_type": "stream",
     "text": [
      "season\n",
      "fall       841613\n",
      "spring     918589\n",
      "summer    1061129\n",
      "winter     471348\n",
      "Name: cnt, dtype: int64\n",
      "season\n",
      "summer    4496\n",
      "spring    4409\n",
      "winter    4242\n",
      "fall      4232\n",
      "Name: count, dtype: int64\n",
      "season\n",
      "fall      0.170819\n",
      "spring    0.203410\n",
      "summer    0.171593\n",
      "winter    0.215107\n",
      "Name: windspeed, dtype: float64\n"
     ]
    },
    {
     "data": {
      "text/plain": [
       "season\n",
       "fall      11.444848\n",
       "spring    13.628488\n",
       "summer    11.496714\n",
       "winter    14.412186\n",
       "Name: not_norm_windspeeds, dtype: float64"
      ]
     },
     "execution_count": 29,
     "metadata": {},
     "output_type": "execute_result"
    }
   ],
   "source": [
    "#making season column more legibile by associating numbers with season\n",
    "#shown by readme when downloaded dataset\n",
    "df['season'] = df['season'].replace(1,'winter')\n",
    "df['season'] = df['season'].replace(2,'spring')\n",
    "df['season'] = df['season'].replace(3,'summer')\n",
    "df['season'] = df['season'].replace(4,'fall')\n",
    "\n",
    "\n",
    "### VERY SIMPLE EDA\n",
    "\n",
    "print(df.groupby('season')['cnt'].sum())\n",
    "#--we can see that winter has the least count for rides, and summer the most\n",
    "#--INTEREST OF Product Manager (PM): When/where demand is strong or fragile (strong in summer, weak in winter); user behavior patterns; which hypotheses to prioritize next quarter.\n",
    "\n",
    "print(df['season'].value_counts())\n",
    "#--summer does have the highest counts of records (4496), with fall being the least (4232)\n",
    "#--if data is responsbly distributed by season\n",
    "\n",
    "\n",
    "#curious to see the average windspeed between winter and summer, maybe its the deciding factor\n",
    "print(df.groupby('season')['windspeed'].mean())\n",
    "#--average windspeeds of winter is comparable to spring, which has the second highest count for rides, maybe not such a big deal\n",
    "\n",
    "#checking our normal windspeeds to see if a drastic diff between seasons (readme says windspeed column was divided by 67)\n",
    "df['not_norm_windspeeds'] = df['windspeed'] * 67\n",
    "df.groupby('season')['not_norm_windspeeds'].mean()\n",
    "#--windspeeds change are so miniscule, would have to statistically prove if significant\n",
    "\n"
   ]
  }
 ],
 "metadata": {
  "kernelspec": {
   "display_name": "base",
   "language": "python",
   "name": "python3"
  },
  "language_info": {
   "codemirror_mode": {
    "name": "ipython",
    "version": 3
   },
   "file_extension": ".py",
   "mimetype": "text/x-python",
   "name": "python",
   "nbconvert_exporter": "python",
   "pygments_lexer": "ipython3",
   "version": "3.12.9"
  }
 },
 "nbformat": 4,
 "nbformat_minor": 5
}
