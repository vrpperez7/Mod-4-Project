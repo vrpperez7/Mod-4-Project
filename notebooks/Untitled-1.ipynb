{
 "cells": [
  {
   "cell_type": "code",
   "execution_count": 277,
   "id": "2f6b7af3",
   "metadata": {},
   "outputs": [],
   "source": [
    "import pandas as pd\n",
    "import numpy as np\n",
    "import scipy.stats as stats\n",
    "import seaborn as sns\n",
    "import plotly_express as px\n"
   ]
  },
  {
   "cell_type": "code",
   "execution_count": 262,
   "id": "24f068d0",
   "metadata": {},
   "outputs": [
    {
     "name": "stdout",
     "output_type": "stream",
     "text": [
      "<class 'pandas.core.frame.DataFrame'>\n",
      "RangeIndex: 17379 entries, 0 to 17378\n",
      "Data columns (total 17 columns):\n",
      " #   Column      Non-Null Count  Dtype         \n",
      "---  ------      --------------  -----         \n",
      " 0   instant     17379 non-null  int64         \n",
      " 1   dteday      17379 non-null  datetime64[ns]\n",
      " 2   season      17379 non-null  int64         \n",
      " 3   yr          17379 non-null  int64         \n",
      " 4   mnth        17379 non-null  int64         \n",
      " 5   hr          17379 non-null  int64         \n",
      " 6   holiday     17379 non-null  int64         \n",
      " 7   weekday     17379 non-null  int64         \n",
      " 8   workingday  17379 non-null  int64         \n",
      " 9   weathersit  17379 non-null  int64         \n",
      " 10  temp        17379 non-null  float64       \n",
      " 11  atemp       17379 non-null  float64       \n",
      " 12  hum         17379 non-null  float64       \n",
      " 13  windspeed   17379 non-null  float64       \n",
      " 14  casual      17379 non-null  int64         \n",
      " 15  registered  17379 non-null  int64         \n",
      " 16  cnt         17379 non-null  int64         \n",
      "dtypes: datetime64[ns](1), float64(4), int64(12)\n",
      "memory usage: 2.3 MB\n"
     ]
    }
   ],
   "source": [
    "#reading csv file into pandas dataframe and naming df\n",
    "df = pd.read_csv(\"/Users/beans/Desktop/Mod-4-Project/data/hour.csv\")\n",
    "\n",
    "#understanding values within df\n",
    "\n",
    "\n",
    "df['dteday'] = pd.to_datetime(df['dteday'])\n",
    "\n",
    "df.info()"
   ]
  },
  {
   "cell_type": "code",
   "execution_count": 263,
   "id": "5cc26aa6",
   "metadata": {},
   "outputs": [
    {
     "name": "stdout",
     "output_type": "stream",
     "text": [
      "<class 'pandas.core.frame.DataFrame'>\n",
      "RangeIndex: 17379 entries, 0 to 17378\n",
      "Data columns (total 18 columns):\n",
      " #   Column               Non-Null Count  Dtype         \n",
      "---  ------               --------------  -----         \n",
      " 0   instant              17379 non-null  int64         \n",
      " 1   dteday               17379 non-null  datetime64[ns]\n",
      " 2   season               17379 non-null  object        \n",
      " 3   yr                   17379 non-null  int64         \n",
      " 4   mnth                 17379 non-null  int64         \n",
      " 5   hr                   17379 non-null  int64         \n",
      " 6   holiday              17379 non-null  int64         \n",
      " 7   weekday              17379 non-null  int64         \n",
      " 8   workingday           17379 non-null  int64         \n",
      " 9   weathersit           17379 non-null  int64         \n",
      " 10  temp                 17379 non-null  float64       \n",
      " 11  atemp                17379 non-null  float64       \n",
      " 12  hum                  17379 non-null  float64       \n",
      " 13  windspeed            17379 non-null  float64       \n",
      " 14  casual               17379 non-null  int64         \n",
      " 15  registered           17379 non-null  int64         \n",
      " 16  cnt                  17379 non-null  int64         \n",
      " 17  not_norm_windspeeds  17379 non-null  float64       \n",
      "dtypes: datetime64[ns](1), float64(5), int64(11), object(1)\n",
      "memory usage: 2.4+ MB\n"
     ]
    }
   ],
   "source": [
    "#making season column more legibile by associating numbers with season\n",
    "#shown by readme when downloaded dataset\n",
    "df['season'] = df['season'].replace(1,'winter')\n",
    "df['season'] = df['season'].replace(2,'spring')\n",
    "df['season'] = df['season'].replace(3,'summer')\n",
    "df['season'] = df['season'].replace(4,'fall')\n",
    "\n",
    "\n",
    "### VERY SIMPLE EDA for season and windspeeds column\n",
    "\n",
    "df.groupby('season')['cnt'].sum()\n",
    "#--we can see that winter has the least count for rides, and summer the most\n",
    "#--INTEREST OF Product Manager (PM): When/where demand is strong or fragile (strong in summer, weak in winter); user behavior patterns; which hypotheses to prioritize next quarter.\n",
    "\n",
    "df['season'].value_counts()\n",
    "#--summer does have the highest counts of records (4496), with fall being the least (4232)\n",
    "#--if data is responsbly distributed by season\n",
    "\n",
    "\n",
    "#curious to see the average windspeed between winter and summer, maybe its the deciding factor\n",
    "df.groupby('season')['windspeed'].mean()\n",
    "#--average windspeeds of winter is comparable to spring, which has the second highest count for rides, maybe not such a big deal\n",
    "\n",
    "#checking our normal windspeeds to see if a drastic diff between seasons (readme says windspeed column was divided by 67)\n",
    "df['not_norm_windspeeds'] = df['windspeed'] * 67\n",
    "df.groupby('season')['not_norm_windspeeds'].mean()\n",
    "#--windspeeds change are so miniscule, would have to statistically prove if significant (potential chi-squared test)\n",
    "\n",
    "df.info()"
   ]
  },
  {
   "cell_type": "markdown",
   "id": "bd38a0ae",
   "metadata": {},
   "source": [
    "# VERY ROUGH VISUALIZATIONS FOR EDA"
   ]
  },
  {
   "cell_type": "code",
   "execution_count": 264,
   "id": "d9a9b77b",
   "metadata": {},
   "outputs": [
    {
     "data": {
      "text/plain": [
       "<Axes: xlabel='season'>"
      ]
     },
     "execution_count": 264,
     "metadata": {},
     "output_type": "execute_result"
    },
    {
     "data": {
      "image/png": "[encoded data removed]",
      "text/plain": [
       "<Figure size 640x480 with 1 Axes>"
      ]
     },
     "metadata": {},
     "output_type": "display_data"
    }
   ],
   "source": [
    "#visual for seasonality differences in bikeshare usage\n",
    "\n",
    "df.groupby('season')['cnt'].sum().plot(kind='bar')\n"
   ]
  },
  {
   "cell_type": "code",
   "execution_count": 265,
   "id": "1306c43a",
   "metadata": {},
   "outputs": [
    {
     "data": {
      "text/plain": [
       "hr\n",
       "17    461.452055\n",
       "18    425.510989\n",
       "8     359.011004\n",
       "16    311.983562\n",
       "19    311.523352\n",
       "13    253.661180\n",
       "12    253.315934\n",
       "15    251.233196\n",
       "14    240.949246\n",
       "20    226.030220\n",
       "9     219.309491\n",
       "7     212.064649\n",
       "11    208.143054\n",
       "10    173.668501\n",
       "21    172.314560\n",
       "22    131.335165\n",
       "23     87.831044\n",
       "6      76.044138\n",
       "0      53.898072\n",
       "1      33.375691\n",
       "2      22.869930\n",
       "5      19.889819\n",
       "3      11.727403\n",
       "4       6.352941\n",
       "Name: cnt, dtype: float64"
      ]
     },
     "execution_count": 265,
     "metadata": {},
     "output_type": "execute_result"
    }
   ],
   "source": [
    "### QUICK EDA to find hour vs count (most frequent hours ppl use bikes)\n",
    "\n",
    "#EDA to find the highest average of bike usage by hour\n",
    "df.groupby('hr')['cnt'].mean().sort_values(ascending=False)\n",
    "#--shows us 17,18, and 8 has highest,\n",
    "#-- 5 hours above 300 count mean"
   ]
  },
  {
   "cell_type": "code",
   "execution_count": 394,
   "id": "1c2cbb8c",
   "metadata": {},
   "outputs": [
    {
     "data": {
      "text/plain": [
       "workingday  weekday\n",
       "0           0          444027\n",
       "            1           59605\n",
       "            2            1013\n",
       "            3            7403\n",
       "            4            3920\n",
       "            5            6494\n",
       "            6          477807\n",
       "1           1          395898\n",
       "            2          468096\n",
       "            3          465645\n",
       "            4          481475\n",
       "            5          481296\n",
       "Name: cnt, dtype: int64"
      ]
     },
     "execution_count": 394,
     "metadata": {},
     "output_type": "execute_result"
    }
   ],
   "source": [
    "hourcount = df[['hr','cnt']]\n",
    "\n",
    "\n",
    "# visual explaining count of users for bikeshare program by the hour,\n",
    "# hourcount uses all data, i went into specific working days in the next codeblock to see if that is of interest\n",
    "\n",
    "\n",
    "# we can see workindays are more frequent by double\n",
    "# does it make sense to filter dataset to only workingday and assume the reason why its double is due to ppl who go to work? \n",
    "both = ['workingday','weekday']\n",
    "\n",
    "df.groupby(both)['cnt'].sum()"
   ]
  },
  {
   "cell_type": "code",
   "execution_count": 405,
   "id": "7cd90e2a",
   "metadata": {},
   "outputs": [
    {
     "name": "stdout",
     "output_type": "stream",
     "text": [
      "192.03508579612011\n"
     ]
    },
    {
     "data": {
      "application/vnd.plotly.v1+json": {
       "config": {
        "plotlyServerURL": "https://plot.ly"
       },
       "data": [
        {
         "hovertemplate": "hr=%{x}<br>cnt=%{y}<extra></extra>",
         "legendgroup": "",
         "line": {
          "color": "#636efa",
          "dash": "solid"
         },
         "marker": {
          "symbol": "circle"
         },
         "mode": "lines",
         "name": "",
         "orientation": "v",
         "showlegend": false,
         "type": "scatter",
         "x": {
          "bdata": "AAECAwQFBgcICQoLDA0ODxAREhMUFRYX",
          "dtype": "i1"
         },
         "xaxis": "x",
         "y": {
          "bdata": "lVJKKaVkQkDYUF5DeY0wQO07Qi4YXiFAur/wqSzFE0DkzQklGrgVQD/aRvnC6ThAAAAAAACgWUA655xzzilyQGOMMcYY0H1AU0oppZQwbkD43nvvvetgQGuttdZax2NAtn6qBUUaaUApmMxBwM1oQB9yWTFQ8mZAY6CEN5oqaUBtJKO29FFyQCVoNxxTaoBA4kTlaaHDfkAdBNz6bMZ1QKRgMgcBN29AM74/UjBJZ0CKytNCd0xhQHla6I5dLVZA",
          "dtype": "f8"
         },
         "yaxis": "y"
        }
       ],
       "layout": {
        "font": {
         "size": 12
        },
        "height": 500,
        "legend": {
         "tracegroupgap": 0
        },
        "template": {
         "data": {
          "bar": [
           {
            "error_x": {
             "color": "#2a3f5f"
            },
            "error_y": {
             "color": "#2a3f5f"
            },
            "marker": {
             "line": {
              "color": "#E5ECF6",
              "width": 0.5
             },
             "pattern": {
              "fillmode": "overlay",
              "size": 10,
              "solidity": 0.2
             }
            },
            "type": "bar"
           }
          ],
          "barpolar": [
           {
            "marker": {
             "line": {
              "color": "#E5ECF6",
              "width": 0.5
             },
             "pattern": {
              "fillmode": "overlay",
              "size": 10,
              "solidity": 0.2
             }
            },
            "type": "barpolar"
           }
          ],
          "carpet": [
           {
            "aaxis": {
             "endlinecolor": "#2a3f5f",
             "gridcolor": "white",
             "linecolor": "white",
             "minorgridcolor": "white",
             "startlinecolor": "#2a3f5f"
            },
            "baxis": {
             "endlinecolor": "#2a3f5f",
             "gridcolor": "white",
             "linecolor": "white",
             "minorgridcolor": "white",
             "startlinecolor": "#2a3f5f"
            },
            "type": "carpet"
           }
          ],
          "choropleth": [
           {
            "colorbar": {
             "outlinewidth": 0,
             "ticks": ""
            },
            "type": "choropleth"
           }
          ],
          "contour": [
           {
            "colorbar": {
             "outlinewidth": 0,
             "ticks": ""
            },
            "colorscale": [
             [
              0,
              "#0d0887"
             ],
             [
              0.1111111111111111,
              "#46039f"
             ],
             [
              0.2222222222222222,
              "#7201a8"
             ],
             [
              0.3333333333333333,
              "#9c179e"
             ],
             [
              0.4444444444444444,
              "#bd3786"
             ],
             [
              0.5555555555555556,
              "#d8576b"
             ],
             [
              0.6666666666666666,
              "#ed7953"
             ],
             [
              0.7777777777777778,
              "#fb9f3a"
             ],
             [
              0.8888888888888888,
              "#fdca26"
             ],
             [
              1,
              "#f0f921"
             ]
            ],
            "type": "contour"
           }
          ],
          "contourcarpet": [
           {
            "colorbar": {
             "outlinewidth": 0,
             "ticks": ""
            },
            "type": "contourcarpet"
           }
          ],
          "heatmap": [
           {
            "colorbar": {
             "outlinewidth": 0,
             "ticks": ""
            },
            "colorscale": [
             [
              0,
              "#0d0887"
             ],
             [
              0.1111111111111111,
              "#46039f"
             ],
             [
              0.2222222222222222,
              "#7201a8"
             ],
             [
              0.3333333333333333,
              "#9c179e"
             ],
             [
              0.4444444444444444,
              "#bd3786"
             ],
             [
              0.5555555555555556,
              "#d8576b"
             ],
             [
              0.6666666666666666,
              "#ed7953"
             ],
             [
              0.7777777777777778,
              "#fb9f3a"
             ],
             [
              0.8888888888888888,
              "#fdca26"
             ],
             [
              1,
              "#f0f921"
             ]
            ],
            "type": "heatmap"
           }
          ],
          "histogram": [
           {
            "marker": {
             "pattern": {
              "fillmode": "overlay",
              "size": 10,
              "solidity": 0.2
             }
            },
            "type": "histogram"
           }
          ],
          "histogram2d": [
           {
            "colorbar": {
             "outlinewidth": 0,
             "ticks": ""
            },
            "colorscale": [
             [
              0,
              "#0d0887"
             ],
             [
              0.1111111111111111,
              "#46039f"
             ],
             [
              0.2222222222222222,
              "#7201a8"
             ],
             [
              0.3333333333333333,
              "#9c179e"
             ],
             [
              0.4444444444444444,
              "#bd3786"
             ],
             [
              0.5555555555555556,
              "#d8576b"
             ],
             [
              0.6666666666666666,
              "#ed7953"
             ],
             [
              0.7777777777777778,
              "#fb9f3a"
             ],
             [
              0.8888888888888888,
              "#fdca26"
             ],
             [
              1,
              "#f0f921"
             ]
            ],
            "type": "histogram2d"
           }
          ],
          "histogram2dcontour": [
           {
            "colorbar": {
             "outlinewidth": 0,
             "ticks": ""
            },
            "colorscale": [
             [
              0,
              "#0d0887"
             ],
             [
              0.1111111111111111,
              "#46039f"
             ],
             [
              0.2222222222222222,
              "#7201a8"
             ],
             [
              0.3333333333333333,
              "#9c179e"
             ],
             [
              0.4444444444444444,
              "#bd3786"
             ],
             [
              0.5555555555555556,
              "#d8576b"
             ],
             [
              0.6666666666666666,
              "#ed7953"
             ],
             [
              0.7777777777777778,
              "#fb9f3a"
             ],
             [
              0.8888888888888888,
              "#fdca26"
             ],
             [
              1,
              "#f0f921"
             ]
            ],
            "type": "histogram2dcontour"
           }
          ],
          "mesh3d": [
           {
            "colorbar": {
             "outlinewidth": 0,
             "ticks": ""
            },
            "type": "mesh3d"
           }
          ],
          "parcoords": [
           {
            "line": {
             "colorbar": {
              "outlinewidth": 0,
              "ticks": ""
             }
            },
            "type": "parcoords"
           }
          ],
          "pie": [
           {
            "automargin": true,
            "type": "pie"
           }
          ],
          "scatter": [
           {
            "fillpattern": {
             "fillmode": "overlay",
             "size": 10,
             "solidity": 0.2
            },
            "type": "scatter"
           }
          ],
          "scatter3d": [
           {
            "line": {
             "colorbar": {
              "outlinewidth": 0,
              "ticks": ""
             }
            },
            "marker": {
             "colorbar": {
              "outlinewidth": 0,
              "ticks": ""
             }
            },
            "type": "scatter3d"
           }
          ],
          "scattercarpet": [
           {
            "marker": {
             "colorbar": {
              "outlinewidth": 0,
              "ticks": ""
             }
            },
            "type": "scattercarpet"
           }
          ],
          "scattergeo": [
           {
            "marker": {
             "colorbar": {
              "outlinewidth": 0,
              "ticks": ""
             }
            },
            "type": "scattergeo"
           }
          ],
          "scattergl": [
           {
            "marker": {
             "colorbar": {
              "outlinewidth": 0,
              "ticks": ""
             }
            },
            "type": "scattergl"
           }
          ],
          "scattermap": [
           {
            "marker": {
             "colorbar": {
              "outlinewidth": 0,
              "ticks": ""
             }
            },
            "type": "scattermap"
           }
          ],
          "scattermapbox": [
           {
            "marker": {
             "colorbar": {
              "outlinewidth": 0,
              "ticks": ""
             }
            },
            "type": "scattermapbox"
           }
          ],
          "scatterpolar": [
           {
            "marker": {
             "colorbar": {
              "outlinewidth": 0,
              "ticks": ""
             }
            },
            "type": "scatterpolar"
           }
          ],
          "scatterpolargl": [
           {
            "marker": {
             "colorbar": {
              "outlinewidth": 0,
              "ticks": ""
             }
            },
            "type": "scatterpolargl"
           }
          ],
          "scatterternary": [
           {
            "marker": {
             "colorbar": {
              "outlinewidth": 0,
              "ticks": ""
             }
            },
            "type": "scatterternary"
           }
          ],
          "surface": [
           {
            "colorbar": {
             "outlinewidth": 0,
             "ticks": ""
            },
            "colorscale": [
             [
              0,
              "#0d0887"
             ],
             [
              0.1111111111111111,
              "#46039f"
             ],
             [
              0.2222222222222222,
              "#7201a8"
             ],
             [
              0.3333333333333333,
              "#9c179e"
             ],
             [
              0.4444444444444444,
              "#bd3786"
             ],
             [
              0.5555555555555556,
              "#d8576b"
             ],
             [
              0.6666666666666666,
              "#ed7953"
             ],
             [
              0.7777777777777778,
              "#fb9f3a"
             ],
             [
              0.8888888888888888,
              "#fdca26"
             ],
             [
              1,
              "#f0f921"
             ]
            ],
            "type": "surface"
           }
          ],
          "table": [
           {
            "cells": {
             "fill": {
              "color": "#EBF0F8"
             },
             "line": {
              "color": "white"
             }
            },
            "header": {
             "fill": {
              "color": "#C8D4E3"
             },
             "line": {
              "color": "white"
             }
            },
            "type": "table"
           }
          ]
         },
         "layout": {
          "annotationdefaults": {
           "arrowcolor": "#2a3f5f",
           "arrowhead": 0,
           "arrowwidth": 1
          },
          "autotypenumbers": "strict",
          "coloraxis": {
           "colorbar": {
            "outlinewidth": 0,
            "ticks": ""
           }
          },
          "colorscale": {
           "diverging": [
            [
             0,
             "#8e0152"
            ],
            [
             0.1,
             "#c51b7d"
            ],
            [
             0.2,
             "#de77ae"
            ],
            [
             0.3,
             "#f1b6da"
            ],
            [
             0.4,
             "#fde0ef"
            ],
            [
             0.5,
             "#f7f7f7"
            ],
            [
             0.6,
             "#e6f5d0"
            ],
            [
             0.7,
             "#b8e186"
            ],
            [
             0.8,
             "#7fbc41"
            ],
            [
             0.9,
             "#4d9221"
            ],
            [
             1,
             "#276419"
            ]
           ],
           "sequential": [
            [
             0,
             "#0d0887"
            ],
            [
             0.1111111111111111,
             "#46039f"
            ],
            [
             0.2222222222222222,
             "#7201a8"
            ],
            [
             0.3333333333333333,
             "#9c179e"
            ],
            [
             0.4444444444444444,
             "#bd3786"
            ],
            [
             0.5555555555555556,
             "#d8576b"
            ],
            [
             0.6666666666666666,
             "#ed7953"
            ],
            [
             0.7777777777777778,
             "#fb9f3a"
            ],
            [
             0.8888888888888888,
             "#fdca26"
            ],
            [
             1,
             "#f0f921"
            ]
           ],
           "sequentialminus": [
            [
             0,
             "#0d0887"
            ],
            [
             0.1111111111111111,
             "#46039f"
            ],
            [
             0.2222222222222222,
             "#7201a8"
            ],
            [
             0.3333333333333333,
             "#9c179e"
            ],
            [
             0.4444444444444444,
             "#bd3786"
            ],
            [
             0.5555555555555556,
             "#d8576b"
            ],
            [
             0.6666666666666666,
             "#ed7953"
            ],
            [
             0.7777777777777778,
             "#fb9f3a"
            ],
            [
             0.8888888888888888,
             "#fdca26"
            ],
            [
             1,
             "#f0f921"
            ]
           ]
          },
          "colorway": [
           "#636efa",
           "#EF553B",
           "#00cc96",
           "#ab63fa",
           "#FFA15A",
           "#19d3f3",
           "#FF6692",
           "#B6E880",
           "#FF97FF",
           "#FECB52"
          ],
          "font": {
           "color": "#2a3f5f"
          },
          "geo": {
           "bgcolor": "white",
           "lakecolor": "white",
           "landcolor": "#E5ECF6",
           "showlakes": true,
           "showland": true,
           "subunitcolor": "white"
          },
          "hoverlabel": {
           "align": "left"
          },
          "hovermode": "closest",
          "mapbox": {
           "style": "light"
          },
          "paper_bgcolor": "white",
          "plot_bgcolor": "#E5ECF6",
          "polar": {
           "angularaxis": {
            "gridcolor": "white",
            "linecolor": "white",
            "ticks": ""
           },
           "bgcolor": "#E5ECF6",
           "radialaxis": {
            "gridcolor": "white",
            "linecolor": "white",
            "ticks": ""
           }
          },
          "scene": {
           "xaxis": {
            "backgroundcolor": "#E5ECF6",
            "gridcolor": "white",
            "gridwidth": 2,
            "linecolor": "white",
            "showbackground": true,
            "ticks": "",
            "zerolinecolor": "white"
           },
           "yaxis": {
            "backgroundcolor": "#E5ECF6",
            "gridcolor": "white",
            "gridwidth": 2,
            "linecolor": "white",
            "showbackground": true,
            "ticks": "",
            "zerolinecolor": "white"
           },
           "zaxis": {
            "backgroundcolor": "#E5ECF6",
            "gridcolor": "white",
            "gridwidth": 2,
            "linecolor": "white",
            "showbackground": true,
            "ticks": "",
            "zerolinecolor": "white"
           }
          },
          "shapedefaults": {
           "line": {
            "color": "#2a3f5f"
           }
          },
          "ternary": {
           "aaxis": {
            "gridcolor": "white",
            "linecolor": "white",
            "ticks": ""
           },
           "baxis": {
            "gridcolor": "white",
            "linecolor": "white",
            "ticks": ""
           },
           "bgcolor": "#E5ECF6",
           "caxis": {
            "gridcolor": "white",
            "linecolor": "white",
            "ticks": ""
           }
          },
          "title": {
           "x": 0.05
          },
          "xaxis": {
           "automargin": true,
           "gridcolor": "white",
           "linecolor": "white",
           "ticks": "",
           "title": {
            "standoff": 15
           },
           "zerolinecolor": "white",
           "zerolinewidth": 2
          },
          "yaxis": {
           "automargin": true,
           "gridcolor": "white",
           "linecolor": "white",
           "ticks": "",
           "title": {
            "standoff": 15
           },
           "zerolinecolor": "white",
           "zerolinewidth": 2
          }
         }
        },
        "title": {
         "text": "Count of Average Riders per Hour"
        },
        "width": 650,
        "xaxis": {
         "anchor": "y",
         "domain": [
          0,
          1
         ],
         "title": {
          "text": "Hour"
         }
        },
        "yaxis": {
         "anchor": "x",
         "domain": [
          0,
          1
         ],
         "title": {
          "text": "Average Count of Riders"
         }
        }
       }
      }
     },
     "metadata": {},
     "output_type": "display_data"
    }
   ],
   "source": [
    "#complete workingday indexes (not weekends & not holidays)\n",
    "\n",
    "workingdays = df[df['workingday'] == 1]\n",
    "#steeper curves and higher means if we just focus on working days\n",
    "linegraph = workingdays.groupby('hr')['cnt'].mean().reset_index()\n",
    "windspeedsmean = workingdays.groupby('hr')['not_norm_windspeeds'].mean().reset_index()\n",
    "\n",
    "fulldata = pd.merge(linegraph,windspeedsmean,on='hr')\n",
    "# BEST SUITED FOR OPERATIONS TEAM, GIVES US TIMES WHEN LEAST LIKELY FOR BIKE RIDES AND CAN DO MAINTENENCE\n",
    "\n",
    "print(fulldata['cnt'].mean())\n",
    "\n",
    "lines = px.line(fulldata,x='hr',y='cnt',title='Count of Average Riders per Hour',width=650,height=500)\n",
    "lines.update_layout(xaxis_title='Hour',yaxis_title='Average Count of Riders',font=dict(size=12))\n",
    "\n"
   ]
  },
  {
   "cell_type": "code",
   "execution_count": null,
   "id": "ba66ad7d",
   "metadata": {},
   "outputs": [
    {
     "data": {
      "text/html": [
       "<div>\n",
       "<style scoped>\n",
       "    .dataframe tbody tr th:only-of-type {\n",
       "        vertical-align: middle;\n",
       "    }\n",
       "\n",
       "    .dataframe tbody tr th {\n",
       "        vertical-align: top;\n",
       "    }\n",
       "\n",
       "    .dataframe thead th {\n",
       "        text-align: right;\n",
       "    }\n",
       "</style>\n",
       "<table border=\"1\" class=\"dataframe\">\n",
       "  <thead>\n",
       "    <tr style=\"text-align: right;\">\n",
       "      <th></th>\n",
       "      <th>hr</th>\n",
       "      <th>cnt</th>\n",
       "      <th>not_norm_windspeeds</th>\n",
       "      <th>timebin</th>\n",
       "    </tr>\n",
       "  </thead>\n",
       "  <tbody>\n",
       "    <tr>\n",
       "      <th>0</th>\n",
       "      <td>0</td>\n",
       "      <td>36.786290</td>\n",
       "      <td>10.683785</td>\n",
       "      <td>Maintenance</td>\n",
       "    </tr>\n",
       "    <tr>\n",
       "      <th>1</th>\n",
       "      <td>1</td>\n",
       "      <td>16.552632</td>\n",
       "      <td>10.378924</td>\n",
       "      <td>Maintenance</td>\n",
       "    </tr>\n",
       "    <tr>\n",
       "      <th>2</th>\n",
       "      <td>2</td>\n",
       "      <td>8.683778</td>\n",
       "      <td>10.178965</td>\n",
       "      <td>Maintenance</td>\n",
       "    </tr>\n",
       "    <tr>\n",
       "      <th>3</th>\n",
       "      <td>3</td>\n",
       "      <td>4.942553</td>\n",
       "      <td>10.117456</td>\n",
       "      <td>Maintenance</td>\n",
       "    </tr>\n",
       "    <tr>\n",
       "      <th>4</th>\n",
       "      <td>4</td>\n",
       "      <td>5.429787</td>\n",
       "      <td>10.387609</td>\n",
       "      <td>Maintenance</td>\n",
       "    </tr>\n",
       "    <tr>\n",
       "      <th>5</th>\n",
       "      <td>5</td>\n",
       "      <td>24.913131</td>\n",
       "      <td>10.087290</td>\n",
       "      <td>Maintenance</td>\n",
       "    </tr>\n",
       "    <tr>\n",
       "      <th>6</th>\n",
       "      <td>6</td>\n",
       "      <td>102.500000</td>\n",
       "      <td>10.552878</td>\n",
       "      <td>Not Peak</td>\n",
       "    </tr>\n",
       "    <tr>\n",
       "      <th>7</th>\n",
       "      <td>7</td>\n",
       "      <td>290.612903</td>\n",
       "      <td>11.016394</td>\n",
       "      <td>Peak Hours</td>\n",
       "    </tr>\n",
       "    <tr>\n",
       "      <th>8</th>\n",
       "      <td>8</td>\n",
       "      <td>477.006048</td>\n",
       "      <td>11.804752</td>\n",
       "      <td>Peak Hours</td>\n",
       "    </tr>\n",
       "    <tr>\n",
       "      <th>9</th>\n",
       "      <td>9</td>\n",
       "      <td>241.518145</td>\n",
       "      <td>12.982155</td>\n",
       "      <td>Not Peak</td>\n",
       "    </tr>\n",
       "    <tr>\n",
       "      <th>10</th>\n",
       "      <td>10</td>\n",
       "      <td>135.366935</td>\n",
       "      <td>13.502310</td>\n",
       "      <td>Not Peak</td>\n",
       "    </tr>\n",
       "    <tr>\n",
       "      <th>11</th>\n",
       "      <td>11</td>\n",
       "      <td>158.229839</td>\n",
       "      <td>13.812874</td>\n",
       "      <td>Not Peak</td>\n",
       "    </tr>\n",
       "    <tr>\n",
       "      <th>12</th>\n",
       "      <td>12</td>\n",
       "      <td>200.820926</td>\n",
       "      <td>14.225650</td>\n",
       "      <td>Not Peak</td>\n",
       "    </tr>\n",
       "    <tr>\n",
       "      <th>13</th>\n",
       "      <td>13</td>\n",
       "      <td>198.429719</td>\n",
       "      <td>14.671036</td>\n",
       "      <td>Not Peak</td>\n",
       "    </tr>\n",
       "    <tr>\n",
       "      <th>14</th>\n",
       "      <td>14</td>\n",
       "      <td>183.572289</td>\n",
       "      <td>15.401887</td>\n",
       "      <td>Not Peak</td>\n",
       "    </tr>\n",
       "    <tr>\n",
       "      <th>15</th>\n",
       "      <td>15</td>\n",
       "      <td>201.331325</td>\n",
       "      <td>15.536318</td>\n",
       "      <td>Not Peak</td>\n",
       "    </tr>\n",
       "    <tr>\n",
       "      <th>16</th>\n",
       "      <td>16</td>\n",
       "      <td>293.122244</td>\n",
       "      <td>15.751713</td>\n",
       "      <td>Peak Hours</td>\n",
       "    </tr>\n",
       "    <tr>\n",
       "      <th>17</th>\n",
       "      <td>17</td>\n",
       "      <td>525.290581</td>\n",
       "      <td>15.531365</td>\n",
       "      <td>Peak Hours</td>\n",
       "    </tr>\n",
       "    <tr>\n",
       "      <th>18</th>\n",
       "      <td>18</td>\n",
       "      <td>492.226908</td>\n",
       "      <td>15.036347</td>\n",
       "      <td>Peak Hours</td>\n",
       "    </tr>\n",
       "    <tr>\n",
       "      <th>19</th>\n",
       "      <td>19</td>\n",
       "      <td>348.401606</td>\n",
       "      <td>14.259309</td>\n",
       "      <td>Peak Hours</td>\n",
       "    </tr>\n",
       "    <tr>\n",
       "      <th>20</th>\n",
       "      <td>20</td>\n",
       "      <td>249.718876</td>\n",
       "      <td>13.190982</td>\n",
       "      <td>Not Peak</td>\n",
       "    </tr>\n",
       "    <tr>\n",
       "      <th>21</th>\n",
       "      <td>21</td>\n",
       "      <td>186.287149</td>\n",
       "      <td>11.984080</td>\n",
       "      <td>Not Peak</td>\n",
       "    </tr>\n",
       "    <tr>\n",
       "      <th>22</th>\n",
       "      <td>22</td>\n",
       "      <td>138.389558</td>\n",
       "      <td>11.614840</td>\n",
       "      <td>Not Peak</td>\n",
       "    </tr>\n",
       "    <tr>\n",
       "      <th>23</th>\n",
       "      <td>23</td>\n",
       "      <td>88.708835</td>\n",
       "      <td>10.994485</td>\n",
       "      <td>Maintenance</td>\n",
       "    </tr>\n",
       "  </tbody>\n",
       "</table>\n",
       "</div>"
      ],
      "text/plain": [
       "    hr         cnt  not_norm_windspeeds      timebin\n",
       "0    0   36.786290            10.683785  Maintenance\n",
       "1    1   16.552632            10.378924  Maintenance\n",
       "2    2    8.683778            10.178965  Maintenance\n",
       "3    3    4.942553            10.117456  Maintenance\n",
       "4    4    5.429787            10.387609  Maintenance\n",
       "5    5   24.913131            10.087290  Maintenance\n",
       "6    6  102.500000            10.552878     Not Peak\n",
       "7    7  290.612903            11.016394   Peak Hours\n",
       "8    8  477.006048            11.804752   Peak Hours\n",
       "9    9  241.518145            12.982155     Not Peak\n",
       "10  10  135.366935            13.502310     Not Peak\n",
       "11  11  158.229839            13.812874     Not Peak\n",
       "12  12  200.820926            14.225650     Not Peak\n",
       "13  13  198.429719            14.671036     Not Peak\n",
       "14  14  183.572289            15.401887     Not Peak\n",
       "15  15  201.331325            15.536318     Not Peak\n",
       "16  16  293.122244            15.751713   Peak Hours\n",
       "17  17  525.290581            15.531365   Peak Hours\n",
       "18  18  492.226908            15.036347   Peak Hours\n",
       "19  19  348.401606            14.259309   Peak Hours\n",
       "20  20  249.718876            13.190982     Not Peak\n",
       "21  21  186.287149            11.984080     Not Peak\n",
       "22  22  138.389558            11.614840     Not Peak\n",
       "23  23   88.708835            10.994485  Maintenance"
      ]
     },
     "execution_count": 407,
     "metadata": {},
     "output_type": "execute_result"
    }
   ],
   "source": [
    "timebin=[]\n",
    "for i in range (len(fulldata)):\n",
    "    count = fulldata.iloc[i]['cnt']\n",
    "    if count >= 275:\n",
    "        timebin.append('Peak Hours')\n",
    "    elif 100 < count < 275:\n",
    "        timebin.append('Not Peak')\n",
    "    elif count < 100:\n",
    "        timebin.append('Maintenance')\n",
    "fulldata['timebin'] = timebin\n",
    "\n",
    "fulldata\n",
    "#during peak hours seems pretty okay for windspeeds"
   ]
  },
  {
   "cell_type": "code",
   "execution_count": 418,
   "id": "8fbd9b3f",
   "metadata": {},
   "outputs": [
    {
     "data": {
      "application/vnd.plotly.v1+json": {
       "config": {
        "plotlyServerURL": "https://plot.ly"
       },
       "data": [
        {
         "bingroup": "x",
         "histfunc": "sum",
         "hovertemplate": "not_norm_windspeeds=%{x}<br>sum of cnt=%{y}<extra></extra>",
         "legendgroup": "",
         "marker": {
          "color": "#636efa",
          "pattern": {
           "shape": ""
          }
         },
         "name": "",
         "nbinsx": 24,
         "orientation": "v",
         "showlegend": false,
         "type": "histogram",
         "x": {
          "bdata": "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",
          "dtype": "f8"
         },
         "xaxis": "x",
         "y": {
          "bdata": "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",
          "dtype": "f8"
         },
         "yaxis": "y"
        }
       ],
       "layout": {
        "barmode": "relative",
        "font": {
         "size": 12
        },
        "height": 500,
        "legend": {
         "tracegroupgap": 0
        },
        "template": {
         "data": {
          "bar": [
           {
            "error_x": {
             "color": "#2a3f5f"
            },
            "error_y": {
             "color": "#2a3f5f"
            },
            "marker": {
             "line": {
              "color": "#E5ECF6",
              "width": 0.5
             },
             "pattern": {
              "fillmode": "overlay",
              "size": 10,
              "solidity": 0.2
             }
            },
            "type": "bar"
           }
          ],
          "barpolar": [
           {
            "marker": {
             "line": {
              "color": "#E5ECF6",
              "width": 0.5
             },
             "pattern": {
              "fillmode": "overlay",
              "size": 10,
              "solidity": 0.2
             }
            },
            "type": "barpolar"
           }
          ],
          "carpet": [
           {
            "aaxis": {
             "endlinecolor": "#2a3f5f",
             "gridcolor": "white",
             "linecolor": "white",
             "minorgridcolor": "white",
             "startlinecolor": "#2a3f5f"
            },
            "baxis": {
             "endlinecolor": "#2a3f5f",
             "gridcolor": "white",
             "linecolor": "white",
             "minorgridcolor": "white",
             "startlinecolor": "#2a3f5f"
            },
            "type": "carpet"
           }
          ],
          "choropleth": [
           {
            "colorbar": {
             "outlinewidth": 0,
             "ticks": ""
            },
            "type": "choropleth"
           }
          ],
          "contour": [
           {
            "colorbar": {
             "outlinewidth": 0,
             "ticks": ""
            },
            "colorscale": [
             [
              0,
              "#0d0887"
             ],
             [
              0.1111111111111111,
              "#46039f"
             ],
             [
              0.2222222222222222,
              "#7201a8"
             ],
             [
              0.3333333333333333,
              "#9c179e"
             ],
             [
              0.4444444444444444,
              "#bd3786"
             ],
             [
              0.5555555555555556,
              "#d8576b"
             ],
             [
              0.6666666666666666,
              "#ed7953"
             ],
             [
              0.7777777777777778,
              "#fb9f3a"
             ],
             [
              0.8888888888888888,
              "#fdca26"
             ],
             [
              1,
              "#f0f921"
             ]
            ],
            "type": "contour"
           }
          ],
          "contourcarpet": [
           {
            "colorbar": {
             "outlinewidth": 0,
             "ticks": ""
            },
            "type": "contourcarpet"
           }
          ],
          "heatmap": [
           {
            "colorbar": {
             "outlinewidth": 0,
             "ticks": ""
            },
            "colorscale": [
             [
              0,
              "#0d0887"
             ],
             [
              0.1111111111111111,
              "#46039f"
             ],
             [
              0.2222222222222222,
              "#7201a8"
             ],
             [
              0.3333333333333333,
              "#9c179e"
             ],
             [
              0.4444444444444444,
              "#bd3786"
             ],
             [
              0.5555555555555556,
              "#d8576b"
             ],
             [
              0.6666666666666666,
              "#ed7953"
             ],
             [
              0.7777777777777778,
              "#fb9f3a"
             ],
             [
              0.8888888888888888,
              "#fdca26"
             ],
             [
              1,
              "#f0f921"
             ]
            ],
            "type": "heatmap"
           }
          ],
          "histogram": [
           {
            "marker": {
             "pattern": {
              "fillmode": "overlay",
              "size": 10,
              "solidity": 0.2
             }
            },
            "type": "histogram"
           }
          ],
          "histogram2d": [
           {
            "colorbar": {
             "outlinewidth": 0,
             "ticks": ""
            },
            "colorscale": [
             [
              0,
              "#0d0887"
             ],
             [
              0.1111111111111111,
              "#46039f"
             ],
             [
              0.2222222222222222,
              "#7201a8"
             ],
             [
              0.3333333333333333,
              "#9c179e"
             ],
             [
              0.4444444444444444,
              "#bd3786"
             ],
             [
              0.5555555555555556,
              "#d8576b"
             ],
             [
              0.6666666666666666,
              "#ed7953"
             ],
             [
              0.7777777777777778,
              "#fb9f3a"
             ],
             [
              0.8888888888888888,
              "#fdca26"
             ],
             [
              1,
              "#f0f921"
             ]
            ],
            "type": "histogram2d"
           }
          ],
          "histogram2dcontour": [
           {
            "colorbar": {
             "outlinewidth": 0,
             "ticks": ""
            },
            "colorscale": [
             [
              0,
              "#0d0887"
             ],
             [
              0.1111111111111111,
              "#46039f"
             ],
             [
              0.2222222222222222,
              "#7201a8"
             ],
             [
              0.3333333333333333,
              "#9c179e"
             ],
             [
              0.4444444444444444,
              "#bd3786"
             ],
             [
              0.5555555555555556,
              "#d8576b"
             ],
             [
              0.6666666666666666,
              "#ed7953"
             ],
             [
              0.7777777777777778,
              "#fb9f3a"
             ],
             [
              0.8888888888888888,
              "#fdca26"
             ],
             [
              1,
              "#f0f921"
             ]
            ],
            "type": "histogram2dcontour"
           }
          ],
          "mesh3d": [
           {
            "colorbar": {
             "outlinewidth": 0,
             "ticks": ""
            },
            "type": "mesh3d"
           }
          ],
          "parcoords": [
           {
            "line": {
             "colorbar": {
              "outlinewidth": 0,
              "ticks": ""
             }
            },
            "type": "parcoords"
           }
          ],
          "pie": [
           {
            "automargin": true,
            "type": "pie"
           }
          ],
          "scatter": [
           {
            "fillpattern": {
             "fillmode": "overlay",
             "size": 10,
             "solidity": 0.2
            },
            "type": "scatter"
           }
          ],
          "scatter3d": [
           {
            "line": {
             "colorbar": {
              "outlinewidth": 0,
              "ticks": ""
             }
            },
            "marker": {
             "colorbar": {
              "outlinewidth": 0,
              "ticks": ""
             }
            },
            "type": "scatter3d"
           }
          ],
          "scattercarpet": [
           {
            "marker": {
             "colorbar": {
              "outlinewidth": 0,
              "ticks": ""
             }
            },
            "type": "scattercarpet"
           }
          ],
          "scattergeo": [
           {
            "marker": {
             "colorbar": {
              "outlinewidth": 0,
              "ticks": ""
             }
            },
            "type": "scattergeo"
           }
          ],
          "scattergl": [
           {
            "marker": {
             "colorbar": {
              "outlinewidth": 0,
              "ticks": ""
             }
            },
            "type": "scattergl"
           }
          ],
          "scattermap": [
           {
            "marker": {
             "colorbar": {
              "outlinewidth": 0,
              "ticks": ""
             }
            },
            "type": "scattermap"
           }
          ],
          "scattermapbox": [
           {
            "marker": {
             "colorbar": {
              "outlinewidth": 0,
              "ticks": ""
             }
            },
            "type": "scattermapbox"
           }
          ],
          "scatterpolar": [
           {
            "marker": {
             "colorbar": {
              "outlinewidth": 0,
              "ticks": ""
             }
            },
            "type": "scatterpolar"
           }
          ],
          "scatterpolargl": [
           {
            "marker": {
             "colorbar": {
              "outlinewidth": 0,
              "ticks": ""
             }
            },
            "type": "scatterpolargl"
           }
          ],
          "scatterternary": [
           {
            "marker": {
             "colorbar": {
              "outlinewidth": 0,
              "ticks": ""
             }
            },
            "type": "scatterternary"
           }
          ],
          "surface": [
           {
            "colorbar": {
             "outlinewidth": 0,
             "ticks": ""
            },
            "colorscale": [
             [
              0,
              "#0d0887"
             ],
             [
              0.1111111111111111,
              "#46039f"
             ],
             [
              0.2222222222222222,
              "#7201a8"
             ],
             [
              0.3333333333333333,
              "#9c179e"
             ],
             [
              0.4444444444444444,
              "#bd3786"
             ],
             [
              0.5555555555555556,
              "#d8576b"
             ],
             [
              0.6666666666666666,
              "#ed7953"
             ],
             [
              0.7777777777777778,
              "#fb9f3a"
             ],
             [
              0.8888888888888888,
              "#fdca26"
             ],
             [
              1,
              "#f0f921"
             ]
            ],
            "type": "surface"
           }
          ],
          "table": [
           {
            "cells": {
             "fill": {
              "color": "#EBF0F8"
             },
             "line": {
              "color": "white"
             }
            },
            "header": {
             "fill": {
              "color": "#C8D4E3"
             },
             "line": {
              "color": "white"
             }
            },
            "type": "table"
           }
          ]
         },
         "layout": {
          "annotationdefaults": {
           "arrowcolor": "#2a3f5f",
           "arrowhead": 0,
           "arrowwidth": 1
          },
          "autotypenumbers": "strict",
          "coloraxis": {
           "colorbar": {
            "outlinewidth": 0,
            "ticks": ""
           }
          },
          "colorscale": {
           "diverging": [
            [
             0,
             "#8e0152"
            ],
            [
             0.1,
             "#c51b7d"
            ],
            [
             0.2,
             "#de77ae"
            ],
            [
             0.3,
             "#f1b6da"
            ],
            [
             0.4,
             "#fde0ef"
            ],
            [
             0.5,
             "#f7f7f7"
            ],
            [
             0.6,
             "#e6f5d0"
            ],
            [
             0.7,
             "#b8e186"
            ],
            [
             0.8,
             "#7fbc41"
            ],
            [
             0.9,
             "#4d9221"
            ],
            [
             1,
             "#276419"
            ]
           ],
           "sequential": [
            [
             0,
             "#0d0887"
            ],
            [
             0.1111111111111111,
             "#46039f"
            ],
            [
             0.2222222222222222,
             "#7201a8"
            ],
            [
             0.3333333333333333,
             "#9c179e"
            ],
            [
             0.4444444444444444,
             "#bd3786"
            ],
            [
             0.5555555555555556,
             "#d8576b"
            ],
            [
             0.6666666666666666,
             "#ed7953"
            ],
            [
             0.7777777777777778,
             "#fb9f3a"
            ],
            [
             0.8888888888888888,
             "#fdca26"
            ],
            [
             1,
             "#f0f921"
            ]
           ],
           "sequentialminus": [
            [
             0,
             "#0d0887"
            ],
            [
             0.1111111111111111,
             "#46039f"
            ],
            [
             0.2222222222222222,
             "#7201a8"
            ],
            [
             0.3333333333333333,
             "#9c179e"
            ],
            [
             0.4444444444444444,
             "#bd3786"
            ],
            [
             0.5555555555555556,
             "#d8576b"
            ],
            [
             0.6666666666666666,
             "#ed7953"
            ],
            [
             0.7777777777777778,
             "#fb9f3a"
            ],
            [
             0.8888888888888888,
             "#fdca26"
            ],
            [
             1,
             "#f0f921"
            ]
           ]
          },
          "colorway": [
           "#636efa",
           "#EF553B",
           "#00cc96",
           "#ab63fa",
           "#FFA15A",
           "#19d3f3",
           "#FF6692",
           "#B6E880",
           "#FF97FF",
           "#FECB52"
          ],
          "font": {
           "color": "#2a3f5f"
          },
          "geo": {
           "bgcolor": "white",
           "lakecolor": "white",
           "landcolor": "#E5ECF6",
           "showlakes": true,
           "showland": true,
           "subunitcolor": "white"
          },
          "hoverlabel": {
           "align": "left"
          },
          "hovermode": "closest",
          "mapbox": {
           "style": "light"
          },
          "paper_bgcolor": "white",
          "plot_bgcolor": "#E5ECF6",
          "polar": {
           "angularaxis": {
            "gridcolor": "white",
            "linecolor": "white",
            "ticks": ""
           },
           "bgcolor": "#E5ECF6",
           "radialaxis": {
            "gridcolor": "white",
            "linecolor": "white",
            "ticks": ""
           }
          },
          "scene": {
           "xaxis": {
            "backgroundcolor": "#E5ECF6",
            "gridcolor": "white",
            "gridwidth": 2,
            "linecolor": "white",
            "showbackground": true,
            "ticks": "",
            "zerolinecolor": "white"
           },
           "yaxis": {
            "backgroundcolor": "#E5ECF6",
            "gridcolor": "white",
            "gridwidth": 2,
            "linecolor": "white",
            "showbackground": true,
            "ticks": "",
            "zerolinecolor": "white"
           },
           "zaxis": {
            "backgroundcolor": "#E5ECF6",
            "gridcolor": "white",
            "gridwidth": 2,
            "linecolor": "white",
            "showbackground": true,
            "ticks": "",
            "zerolinecolor": "white"
           }
          },
          "shapedefaults": {
           "line": {
            "color": "#2a3f5f"
           }
          },
          "ternary": {
           "aaxis": {
            "gridcolor": "white",
            "linecolor": "white",
            "ticks": ""
           },
           "baxis": {
            "gridcolor": "white",
            "linecolor": "white",
            "ticks": ""
           },
           "bgcolor": "#E5ECF6",
           "caxis": {
            "gridcolor": "white",
            "linecolor": "white",
            "ticks": ""
           }
          },
          "title": {
           "x": 0.05
          },
          "xaxis": {
           "automargin": true,
           "gridcolor": "white",
           "linecolor": "white",
           "ticks": "",
           "title": {
            "standoff": 15
           },
           "zerolinecolor": "white",
           "zerolinewidth": 2
          },
          "yaxis": {
           "automargin": true,
           "gridcolor": "white",
           "linecolor": "white",
           "ticks": "",
           "title": {
            "standoff": 15
           },
           "zerolinecolor": "white",
           "zerolinewidth": 2
          }
         }
        },
        "title": {
         "text": "Count of Rides by Windspeed"
        },
        "width": 600,
        "xaxis": {
         "anchor": "y",
         "domain": [
          0,
          1
         ],
         "title": {
          "text": "Average Windspeed During Day"
         }
        },
        "yaxis": {
         "anchor": "x",
         "domain": [
          0,
          1
         ],
         "title": {
          "text": "Average Count of Riders"
         }
        }
       }
      }
     },
     "metadata": {},
     "output_type": "display_data"
    }
   ],
   "source": [
    "#tabular format for workingdays based on each day\n",
    "#workingdays.groupby('dteday').agg({'cnt':['min','max','mean'],'temp':['mean'],'hum':['mean'],'not_norm_windspeeds':['max','mean']})\n",
    "\n",
    "\n",
    "#workingdays['not_norm_windspeeds'].mean()\n",
    "#--potential opportunity to provide safety enhancements for windspeeds far above the mean (like 10 more)\n",
    "\n",
    "\n",
    "#SHOWS SPREAD OF WINDSPEED, many values above 20, mean is 12 (a lot of values of 0)\n",
    "#workingdays['not_norm_windspeeds'].plot(kind='hist')\n",
    "\n",
    "#workingdays['z_score_windspeed'] = stats.zscore(workingdays['not_norm_windspeeds'])\n",
    "#workingdays.plot(kind='hist',x='z_score_windspeed',y='cnt')\n",
    "\n",
    "#sns.kdeplot(workingdays['windspeed'])\n",
    "\n",
    "#workingdays['windspeed'].sample(100).plot(kind='kde')\n",
    "\n",
    "#SHOWS SPREAD OF WINDSPEED, many values above 20, mean is 12 (a lot of values of 0)\n",
    "workingdensity = workingdays.groupby('dteday').agg({'cnt':'mean','not_norm_windspeeds':'mean'}).reset_index()\n",
    "\n",
    "density = px.histogram(workingdensity,'not_norm_windspeeds','cnt',title='Count of Rides by Windspeed',nbins=24,height=500,width=600)\n",
    "density.update_layout(xaxis_title='Average Windspeed During Day',yaxis_title='Average Count of Riders',font=dict(size=12))\n",
    "\n"
   ]
  },
  {
   "cell_type": "code",
   "execution_count": 445,
   "id": "ec4e6a15",
   "metadata": {},
   "outputs": [],
   "source": [
    "timebin=[]\n",
    "for i in range (len(workingdensity)):\n",
    "    count = workingdensity.iloc[i]['cnt']\n",
    "    #270 is above the 80th quantile\n",
    "    if count >= 270:\n",
    "        timebin.append('Peak Day')\n",
    "    elif 100 < count < 270:\n",
    "        timebin.append('Not Peak')\n",
    "    elif count < 100:\n",
    "        timebin.append('Maintenance')\n",
    "workingdensity['timebin'] = timebin\n"
   ]
  },
  {
   "cell_type": "code",
   "execution_count": null,
   "id": "e89b2cc4",
   "metadata": {},
   "outputs": [
    {
     "data": {
      "application/vnd.plotly.v1+json": {
       "config": {
        "plotlyServerURL": "https://plot.ly"
       },
       "data": [
        {
         "bingroup": "x",
         "histfunc": "sum",
         "hovertemplate": "not_norm_windspeeds=%{x}<br>sum of cnt=%{y}<extra></extra>",
         "legendgroup": "",
         "marker": {
          "color": "#636efa",
          "pattern": {
           "shape": ""
          }
         },
         "name": "",
         "nbinsx": 24,
         "orientation": "v",
         "showlegend": false,
         "type": "histogram",
         "x": {
          "bdata": "fT81XrqBH0B7pSxDHCsfQP/Xpp7y1RpABlxql0lVMkDxzx+tRKsRQC3880crFSRAzczMzMwKNUCVQ4ts578vQJEPejaraiBASHL5D+m/LkAdEA7jW1UiQNyyVscEKydA2qz6XG3VIkCtH4gZBwAiQJm+xEXbKipAOfvwGXYVM0DM7snDQhUsQAisHFpkqxRAL26jAbwVJUBLo9yQWYAnQJsIG55e1StAHYK9nOz/NkBfTva8CAAxQBMXbXuoqidAVebTUJDVI0ClUW7ILCA0QLEJQ/e/SjdAGlHaG3w1MkCNBvAWSAAnQPXb14Fz6iBADb4wmSpAKEBf4qJtD1UkQDOitDf4qiNA0ETY8PSqFUA/NV66SQAmQGM4sZrBqh5AYXl90+EqJkB7XgSgZJUiQLF1lka5VSxA9wZfmEwVJkDJdr6fGhUzQDTH3+M5gCRAcdG2h6qVJEA0ETY8vSomQEQfGZgC6yJAzj58hl1VIUDME/VvhOosQM4+fIZdVSFAkHif0NhUH0BDz2bV56odQLRZ9bna6iRAvw6cM6JAIkDxrSK2zqomQKl/I5TRvyZAKFlhDSoAI0As+cWSXwAvQAtJUyrOaiFAbC4kTamAE0CNTRi6/9USQFjvXXDzqxZA8Rl2BchVE0C9nOx5EUAhQMt/SL99lSlAp5vEILAqHkBVC//80aoUQLSjSxJelSZAsQlD97+qL0DxHKS6kyopQGGeqH8jACdA5fIf0m9VMUCbwfL6pqsYQGuXSefWqiFA57FTmU8rFkAgQfFjzNUbQLmyMZxYVSRA6Nms+lzVLEA4Qhm9LasfQCijt2WtqiRAssIaVAgVI0CxCUP3v6ovQHKKjuTyXzBAM1he33QAIkDlZM+LAAAmQKWYlmvkVRhAuUOwl5PVEUAX/vmjlYAfQP8h/fZ1gBxAeFV6gAErKUAfYMCldlUoQBf++aOVgC9AXGqXSedqKEDoj1ai2SobQJVDi2znvy9A//mjlWjWFUDTco28mVYZQB/PQao7gRNAw/UoXI+qIEB7OdnzIsAhQKQm57FTVSdA",
          "dtype": "f8"
         },
         "xaxis": "x",
         "y": {
          "bdata": "q6qqqqrkcUCrqqqqqsZ1QKuqqqqqonFAq6qqqqpscUCrqqqqqhhxQAAAAAAA/HJAVVVVVVUdcUCrqqqqqk5yQFVVVVVVVXNAq6qqqqo6c0CrqqqqquRzQFVVVVVVoXFAVVVVVVWJcUAAAAAAANpxQAAAAAAAHHNAVVVVVVU5ckBVVVVVVTtyQFVVVVVVX3JAAAAAAACEc0BVVVVVVSV0QKuqqqqqWnFAVVVVVVVTc0CrqqqqqixzQAAAAAAA9nNAAAAAAADGcUBVVVVVVadxQFVVVVVVYXNAAAAAAAAac0AAAAAAAOpxQAAAAAAAWHFAVVVVVVUbcUCrqqqqqupyQAAAAAAAZHNAVVVVVVWHc0BVVVVVVclxQAAAAAAArHFAAAAAAAAqcUAAAAAAACRyQFVVVVVVxXNAq6qqqqpIdUAAAAAAAN5xQKuqqqqq+nFAq6qqqqqAckCrqqqqqspyQFVVVVVVvXNAq6qqqqrockBVVVVVVa9yQFVVVVVVQ3JAq6qqqqrwckCrqqqqqp5zQFVVVVVV+XJAq6qqqqrscUCrqqqqqqpxQAAAAAAAInNAAAAAAADOc0BVVVVVVZ1yQFVVVVVVAXFAq6qqqqo+ckCrqqqqqjRzQKuqqqqqOHRAq6qqqqq+c0BVVVVVVQNyQFVVVVVVVXJAVVVVVVULdEAAAAAAABZ0QAAAAAAAJHNAAAAAAADgcUBVVVVVVYVyQKuqqqqqinNAq6qqqqqYc0AAAAAAADp0QKuqqqqqfnRAq6qqqqpSdEBVVVVVVdt0QFVVVVVV43FAq6qqqqrEc0Crqqqqqhp0QKuqqqqqRHVAVVVVVVVdc0BVVVVVVaFzQFVVVVVVI3RAq6qqqqpAc0BVVVVVVU9zQKuqqqqqpnFAAAAAAAC4c0BVVVVVVRVzQFVVVVVVPXVAVVVVVVUHdECrqqqqqrZzQKuqqqqq9nJAq6qqqqqec0AAAAAAAG5zQAAAAAAAjnNAVVVVVVVhckBVVVVVVXFzQKuqqqqqCHRAAAAAAAAqc0CrqqqqqmJzQAAAAAAANHFA",
          "dtype": "f8"
         },
         "yaxis": "y"
        }
       ],
       "layout": {
        "barmode": "relative",
        "font": {
         "size": 12
        },
        "height": 500,
        "legend": {
         "tracegroupgap": 0
        },
        "template": {
         "data": {
          "bar": [
           {
            "error_x": {
             "color": "#2a3f5f"
            },
            "error_y": {
             "color": "#2a3f5f"
            },
            "marker": {
             "line": {
              "color": "#E5ECF6",
              "width": 0.5
             },
             "pattern": {
              "fillmode": "overlay",
              "size": 10,
              "solidity": 0.2
             }
            },
            "type": "bar"
           }
          ],
          "barpolar": [
           {
            "marker": {
             "line": {
              "color": "#E5ECF6",
              "width": 0.5
             },
             "pattern": {
              "fillmode": "overlay",
              "size": 10,
              "solidity": 0.2
             }
            },
            "type": "barpolar"
           }
          ],
          "carpet": [
           {
            "aaxis": {
             "endlinecolor": "#2a3f5f",
             "gridcolor": "white",
             "linecolor": "white",
             "minorgridcolor": "white",
             "startlinecolor": "#2a3f5f"
            },
            "baxis": {
             "endlinecolor": "#2a3f5f",
             "gridcolor": "white",
             "linecolor": "white",
             "minorgridcolor": "white",
             "startlinecolor": "#2a3f5f"
            },
            "type": "carpet"
           }
          ],
          "choropleth": [
           {
            "colorbar": {
             "outlinewidth": 0,
             "ticks": ""
            },
            "type": "choropleth"
           }
          ],
          "contour": [
           {
            "colorbar": {
             "outlinewidth": 0,
             "ticks": ""
            },
            "colorscale": [
             [
              0,
              "#0d0887"
             ],
             [
              0.1111111111111111,
              "#46039f"
             ],
             [
              0.2222222222222222,
              "#7201a8"
             ],
             [
              0.3333333333333333,
              "#9c179e"
             ],
             [
              0.4444444444444444,
              "#bd3786"
             ],
             [
              0.5555555555555556,
              "#d8576b"
             ],
             [
              0.6666666666666666,
              "#ed7953"
             ],
             [
              0.7777777777777778,
              "#fb9f3a"
             ],
             [
              0.8888888888888888,
              "#fdca26"
             ],
             [
              1,
              "#f0f921"
             ]
            ],
            "type": "contour"
           }
          ],
          "contourcarpet": [
           {
            "colorbar": {
             "outlinewidth": 0,
             "ticks": ""
            },
            "type": "contourcarpet"
           }
          ],
          "heatmap": [
           {
            "colorbar": {
             "outlinewidth": 0,
             "ticks": ""
            },
            "colorscale": [
             [
              0,
              "#0d0887"
             ],
             [
              0.1111111111111111,
              "#46039f"
             ],
             [
              0.2222222222222222,
              "#7201a8"
             ],
             [
              0.3333333333333333,
              "#9c179e"
             ],
             [
              0.4444444444444444,
              "#bd3786"
             ],
             [
              0.5555555555555556,
              "#d8576b"
             ],
             [
              0.6666666666666666,
              "#ed7953"
             ],
             [
              0.7777777777777778,
              "#fb9f3a"
             ],
             [
              0.8888888888888888,
              "#fdca26"
             ],
             [
              1,
              "#f0f921"
             ]
            ],
            "type": "heatmap"
           }
          ],
          "histogram": [
           {
            "marker": {
             "pattern": {
              "fillmode": "overlay",
              "size": 10,
              "solidity": 0.2
             }
            },
            "type": "histogram"
           }
          ],
          "histogram2d": [
           {
            "colorbar": {
             "outlinewidth": 0,
             "ticks": ""
            },
            "colorscale": [
             [
              0,
              "#0d0887"
             ],
             [
              0.1111111111111111,
              "#46039f"
             ],
             [
              0.2222222222222222,
              "#7201a8"
             ],
             [
              0.3333333333333333,
              "#9c179e"
             ],
             [
              0.4444444444444444,
              "#bd3786"
             ],
             [
              0.5555555555555556,
              "#d8576b"
             ],
             [
              0.6666666666666666,
              "#ed7953"
             ],
             [
              0.7777777777777778,
              "#fb9f3a"
             ],
             [
              0.8888888888888888,
              "#fdca26"
             ],
             [
              1,
              "#f0f921"
             ]
            ],
            "type": "histogram2d"
           }
          ],
          "histogram2dcontour": [
           {
            "colorbar": {
             "outlinewidth": 0,
             "ticks": ""
            },
            "colorscale": [
             [
              0,
              "#0d0887"
             ],
             [
              0.1111111111111111,
              "#46039f"
             ],
             [
              0.2222222222222222,
              "#7201a8"
             ],
             [
              0.3333333333333333,
              "#9c179e"
             ],
             [
              0.4444444444444444,
              "#bd3786"
             ],
             [
              0.5555555555555556,
              "#d8576b"
             ],
             [
              0.6666666666666666,
              "#ed7953"
             ],
             [
              0.7777777777777778,
              "#fb9f3a"
             ],
             [
              0.8888888888888888,
              "#fdca26"
             ],
             [
              1,
              "#f0f921"
             ]
            ],
            "type": "histogram2dcontour"
           }
          ],
          "mesh3d": [
           {
            "colorbar": {
             "outlinewidth": 0,
             "ticks": ""
            },
            "type": "mesh3d"
           }
          ],
          "parcoords": [
           {
            "line": {
             "colorbar": {
              "outlinewidth": 0,
              "ticks": ""
             }
            },
            "type": "parcoords"
           }
          ],
          "pie": [
           {
            "automargin": true,
            "type": "pie"
           }
          ],
          "scatter": [
           {
            "fillpattern": {
             "fillmode": "overlay",
             "size": 10,
             "solidity": 0.2
            },
            "type": "scatter"
           }
          ],
          "scatter3d": [
           {
            "line": {
             "colorbar": {
              "outlinewidth": 0,
              "ticks": ""
             }
            },
            "marker": {
             "colorbar": {
              "outlinewidth": 0,
              "ticks": ""
             }
            },
            "type": "scatter3d"
           }
          ],
          "scattercarpet": [
           {
            "marker": {
             "colorbar": {
              "outlinewidth": 0,
              "ticks": ""
             }
            },
            "type": "scattercarpet"
           }
          ],
          "scattergeo": [
           {
            "marker": {
             "colorbar": {
              "outlinewidth": 0,
              "ticks": ""
             }
            },
            "type": "scattergeo"
           }
          ],
          "scattergl": [
           {
            "marker": {
             "colorbar": {
              "outlinewidth": 0,
              "ticks": ""
             }
            },
            "type": "scattergl"
           }
          ],
          "scattermap": [
           {
            "marker": {
             "colorbar": {
              "outlinewidth": 0,
              "ticks": ""
             }
            },
            "type": "scattermap"
           }
          ],
          "scattermapbox": [
           {
            "marker": {
             "colorbar": {
              "outlinewidth": 0,
              "ticks": ""
             }
            },
            "type": "scattermapbox"
           }
          ],
          "scatterpolar": [
           {
            "marker": {
             "colorbar": {
              "outlinewidth": 0,
              "ticks": ""
             }
            },
            "type": "scatterpolar"
           }
          ],
          "scatterpolargl": [
           {
            "marker": {
             "colorbar": {
              "outlinewidth": 0,
              "ticks": ""
             }
            },
            "type": "scatterpolargl"
           }
          ],
          "scatterternary": [
           {
            "marker": {
             "colorbar": {
              "outlinewidth": 0,
              "ticks": ""
             }
            },
            "type": "scatterternary"
           }
          ],
          "surface": [
           {
            "colorbar": {
             "outlinewidth": 0,
             "ticks": ""
            },
            "colorscale": [
             [
              0,
              "#0d0887"
             ],
             [
              0.1111111111111111,
              "#46039f"
             ],
             [
              0.2222222222222222,
              "#7201a8"
             ],
             [
              0.3333333333333333,
              "#9c179e"
             ],
             [
              0.4444444444444444,
              "#bd3786"
             ],
             [
              0.5555555555555556,
              "#d8576b"
             ],
             [
              0.6666666666666666,
              "#ed7953"
             ],
             [
              0.7777777777777778,
              "#fb9f3a"
             ],
             [
              0.8888888888888888,
              "#fdca26"
             ],
             [
              1,
              "#f0f921"
             ]
            ],
            "type": "surface"
           }
          ],
          "table": [
           {
            "cells": {
             "fill": {
              "color": "#EBF0F8"
             },
             "line": {
              "color": "white"
             }
            },
            "header": {
             "fill": {
              "color": "#C8D4E3"
             },
             "line": {
              "color": "white"
             }
            },
            "type": "table"
           }
          ]
         },
         "layout": {
          "annotationdefaults": {
           "arrowcolor": "#2a3f5f",
           "arrowhead": 0,
           "arrowwidth": 1
          },
          "autotypenumbers": "strict",
          "coloraxis": {
           "colorbar": {
            "outlinewidth": 0,
            "ticks": ""
           }
          },
          "colorscale": {
           "diverging": [
            [
             0,
             "#8e0152"
            ],
            [
             0.1,
             "#c51b7d"
            ],
            [
             0.2,
             "#de77ae"
            ],
            [
             0.3,
             "#f1b6da"
            ],
            [
             0.4,
             "#fde0ef"
            ],
            [
             0.5,
             "#f7f7f7"
            ],
            [
             0.6,
             "#e6f5d0"
            ],
            [
             0.7,
             "#b8e186"
            ],
            [
             0.8,
             "#7fbc41"
            ],
            [
             0.9,
             "#4d9221"
            ],
            [
             1,
             "#276419"
            ]
           ],
           "sequential": [
            [
             0,
             "#0d0887"
            ],
            [
             0.1111111111111111,
             "#46039f"
            ],
            [
             0.2222222222222222,
             "#7201a8"
            ],
            [
             0.3333333333333333,
             "#9c179e"
            ],
            [
             0.4444444444444444,
             "#bd3786"
            ],
            [
             0.5555555555555556,
             "#d8576b"
            ],
            [
             0.6666666666666666,
             "#ed7953"
            ],
            [
             0.7777777777777778,
             "#fb9f3a"
            ],
            [
             0.8888888888888888,
             "#fdca26"
            ],
            [
             1,
             "#f0f921"
            ]
           ],
           "sequentialminus": [
            [
             0,
             "#0d0887"
            ],
            [
             0.1111111111111111,
             "#46039f"
            ],
            [
             0.2222222222222222,
             "#7201a8"
            ],
            [
             0.3333333333333333,
             "#9c179e"
            ],
            [
             0.4444444444444444,
             "#bd3786"
            ],
            [
             0.5555555555555556,
             "#d8576b"
            ],
            [
             0.6666666666666666,
             "#ed7953"
            ],
            [
             0.7777777777777778,
             "#fb9f3a"
            ],
            [
             0.8888888888888888,
             "#fdca26"
            ],
            [
             1,
             "#f0f921"
            ]
           ]
          },
          "colorway": [
           "#636efa",
           "#EF553B",
           "#00cc96",
           "#ab63fa",
           "#FFA15A",
           "#19d3f3",
           "#FF6692",
           "#B6E880",
           "#FF97FF",
           "#FECB52"
          ],
          "font": {
           "color": "#2a3f5f"
          },
          "geo": {
           "bgcolor": "white",
           "lakecolor": "white",
           "landcolor": "#E5ECF6",
           "showlakes": true,
           "showland": true,
           "subunitcolor": "white"
          },
          "hoverlabel": {
           "align": "left"
          },
          "hovermode": "closest",
          "mapbox": {
           "style": "light"
          },
          "paper_bgcolor": "white",
          "plot_bgcolor": "#E5ECF6",
          "polar": {
           "angularaxis": {
            "gridcolor": "white",
            "linecolor": "white",
            "ticks": ""
           },
           "bgcolor": "#E5ECF6",
           "radialaxis": {
            "gridcolor": "white",
            "linecolor": "white",
            "ticks": ""
           }
          },
          "scene": {
           "xaxis": {
            "backgroundcolor": "#E5ECF6",
            "gridcolor": "white",
            "gridwidth": 2,
            "linecolor": "white",
            "showbackground": true,
            "ticks": "",
            "zerolinecolor": "white"
           },
           "yaxis": {
            "backgroundcolor": "#E5ECF6",
            "gridcolor": "white",
            "gridwidth": 2,
            "linecolor": "white",
            "showbackground": true,
            "ticks": "",
            "zerolinecolor": "white"
           },
           "zaxis": {
            "backgroundcolor": "#E5ECF6",
            "gridcolor": "white",
            "gridwidth": 2,
            "linecolor": "white",
            "showbackground": true,
            "ticks": "",
            "zerolinecolor": "white"
           }
          },
          "shapedefaults": {
           "line": {
            "color": "#2a3f5f"
           }
          },
          "ternary": {
           "aaxis": {
            "gridcolor": "white",
            "linecolor": "white",
            "ticks": ""
           },
           "baxis": {
            "gridcolor": "white",
            "linecolor": "white",
            "ticks": ""
           },
           "bgcolor": "#E5ECF6",
           "caxis": {
            "gridcolor": "white",
            "linecolor": "white",
            "ticks": ""
           }
          },
          "title": {
           "x": 0.05
          },
          "xaxis": {
           "automargin": true,
           "gridcolor": "white",
           "linecolor": "white",
           "ticks": "",
           "title": {
            "standoff": 15
           },
           "zerolinecolor": "white",
           "zerolinewidth": 2
          },
          "yaxis": {
           "automargin": true,
           "gridcolor": "white",
           "linecolor": "white",
           "ticks": "",
           "title": {
            "standoff": 15
           },
           "zerolinecolor": "white",
           "zerolinewidth": 2
          }
         }
        },
        "title": {
         "text": "Count of Rides by Windspeed During Peak Days"
        },
        "width": 600,
        "xaxis": {
         "anchor": "y",
         "domain": [
          0,
          1
         ],
         "title": {
          "text": "Average Windspeed"
         }
        },
        "yaxis": {
         "anchor": "x",
         "domain": [
          0,
          1
         ],
         "title": {
          "text": "Average Count of Riders"
         }
        }
       }
      }
     },
     "metadata": {},
     "output_type": "display_data"
    }
   ],
   "source": [
    "peak = workingdensity[workingdensity['timebin'] == 'Peak Day']\n",
    "\n",
    "peakgram = px.histogram(peak,'not_norm_windspeeds','cnt',title='Count of Rides by Windspeed During Peak Days',nbins=24,height=500,width=600)\n",
    "peakgram.update_layout(xaxis_title='Average Windspeed',yaxis_title='Average Count of Riders',font=dict(size=12))\n"
   ]
  },
  {
   "cell_type": "code",
   "execution_count": 299,
   "id": "23a920a5",
   "metadata": {},
   "outputs": [
    {
     "data": {
      "application/vnd.plotly.v1+json": {
       "config": {
        "plotlyServerURL": "https://plot.ly"
       },
       "data": [
        {
         "hovertemplate": "season=%{x}<br>cnt=%{text}<extra></extra>",
         "legendgroup": "",
         "marker": {
          "color": [
           "RoyalBlue",
           "RoyalBlue",
           "ForestGreen",
           "FireBrick"
          ],
          "pattern": {
           "shape": ""
          }
         },
         "name": "",
         "orientation": "v",
         "showlegend": false,
         "text": {
          "bdata": "AAAAAOarIUEAAAAAqj4jQQAAAAAi3CZBAAAAAIRdFEE=",
          "dtype": "f8"
         },
         "textposition": "outside",
         "type": "bar",
         "x": [
          "fall",
          "spring",
          "summer",
          "winter"
         ],
         "xaxis": "x",
         "y": {
          "bdata": "89UIAFWfCQARbgsAYRcFAA==",
          "dtype": "i4"
         },
         "yaxis": "y"
        }
       ],
       "layout": {
        "barmode": "relative",
        "font": {
         "size": 12
        },
        "height": 500,
        "legend": {
         "tracegroupgap": 0
        },
        "template": {
         "data": {
          "bar": [
           {
            "error_x": {
             "color": "#2a3f5f"
            },
            "error_y": {
             "color": "#2a3f5f"
            },
            "marker": {
             "line": {
              "color": "#E5ECF6",
              "width": 0.5
             },
             "pattern": {
              "fillmode": "overlay",
              "size": 10,
              "solidity": 0.2
             }
            },
            "type": "bar"
           }
          ],
          "barpolar": [
           {
            "marker": {
             "line": {
              "color": "#E5ECF6",
              "width": 0.5
             },
             "pattern": {
              "fillmode": "overlay",
              "size": 10,
              "solidity": 0.2
             }
            },
            "type": "barpolar"
           }
          ],
          "carpet": [
           {
            "aaxis": {
             "endlinecolor": "#2a3f5f",
             "gridcolor": "white",
             "linecolor": "white",
             "minorgridcolor": "white",
             "startlinecolor": "#2a3f5f"
            },
            "baxis": {
             "endlinecolor": "#2a3f5f",
             "gridcolor": "white",
             "linecolor": "white",
             "minorgridcolor": "white",
             "startlinecolor": "#2a3f5f"
            },
            "type": "carpet"
           }
          ],
          "choropleth": [
           {
            "colorbar": {
             "outlinewidth": 0,
             "ticks": ""
            },
            "type": "choropleth"
           }
          ],
          "contour": [
           {
            "colorbar": {
             "outlinewidth": 0,
             "ticks": ""
            },
            "colorscale": [
             [
              0,
              "#0d0887"
             ],
             [
              0.1111111111111111,
              "#46039f"
             ],
             [
              0.2222222222222222,
              "#7201a8"
             ],
             [
              0.3333333333333333,
              "#9c179e"
             ],
             [
              0.4444444444444444,
              "#bd3786"
             ],
             [
              0.5555555555555556,
              "#d8576b"
             ],
             [
              0.6666666666666666,
              "#ed7953"
             ],
             [
              0.7777777777777778,
              "#fb9f3a"
             ],
             [
              0.8888888888888888,
              "#fdca26"
             ],
             [
              1,
              "#f0f921"
             ]
            ],
            "type": "contour"
           }
          ],
          "contourcarpet": [
           {
            "colorbar": {
             "outlinewidth": 0,
             "ticks": ""
            },
            "type": "contourcarpet"
           }
          ],
          "heatmap": [
           {
            "colorbar": {
             "outlinewidth": 0,
             "ticks": ""
            },
            "colorscale": [
             [
              0,
              "#0d0887"
             ],
             [
              0.1111111111111111,
              "#46039f"
             ],
             [
              0.2222222222222222,
              "#7201a8"
             ],
             [
              0.3333333333333333,
              "#9c179e"
             ],
             [
              0.4444444444444444,
              "#bd3786"
             ],
             [
              0.5555555555555556,
              "#d8576b"
             ],
             [
              0.6666666666666666,
              "#ed7953"
             ],
             [
              0.7777777777777778,
              "#fb9f3a"
             ],
             [
              0.8888888888888888,
              "#fdca26"
             ],
             [
              1,
              "#f0f921"
             ]
            ],
            "type": "heatmap"
           }
          ],
          "histogram": [
           {
            "marker": {
             "pattern": {
              "fillmode": "overlay",
              "size": 10,
              "solidity": 0.2
             }
            },
            "type": "histogram"
           }
          ],
          "histogram2d": [
           {
            "colorbar": {
             "outlinewidth": 0,
             "ticks": ""
            },
            "colorscale": [
             [
              0,
              "#0d0887"
             ],
             [
              0.1111111111111111,
              "#46039f"
             ],
             [
              0.2222222222222222,
              "#7201a8"
             ],
             [
              0.3333333333333333,
              "#9c179e"
             ],
             [
              0.4444444444444444,
              "#bd3786"
             ],
             [
              0.5555555555555556,
              "#d8576b"
             ],
             [
              0.6666666666666666,
              "#ed7953"
             ],
             [
              0.7777777777777778,
              "#fb9f3a"
             ],
             [
              0.8888888888888888,
              "#fdca26"
             ],
             [
              1,
              "#f0f921"
             ]
            ],
            "type": "histogram2d"
           }
          ],
          "histogram2dcontour": [
           {
            "colorbar": {
             "outlinewidth": 0,
             "ticks": ""
            },
            "colorscale": [
             [
              0,
              "#0d0887"
             ],
             [
              0.1111111111111111,
              "#46039f"
             ],
             [
              0.2222222222222222,
              "#7201a8"
             ],
             [
              0.3333333333333333,
              "#9c179e"
             ],
             [
              0.4444444444444444,
              "#bd3786"
             ],
             [
              0.5555555555555556,
              "#d8576b"
             ],
             [
              0.6666666666666666,
              "#ed7953"
             ],
             [
              0.7777777777777778,
              "#fb9f3a"
             ],
             [
              0.8888888888888888,
              "#fdca26"
             ],
             [
              1,
              "#f0f921"
             ]
            ],
            "type": "histogram2dcontour"
           }
          ],
          "mesh3d": [
           {
            "colorbar": {
             "outlinewidth": 0,
             "ticks": ""
            },
            "type": "mesh3d"
           }
          ],
          "parcoords": [
           {
            "line": {
             "colorbar": {
              "outlinewidth": 0,
              "ticks": ""
             }
            },
            "type": "parcoords"
           }
          ],
          "pie": [
           {
            "automargin": true,
            "type": "pie"
           }
          ],
          "scatter": [
           {
            "fillpattern": {
             "fillmode": "overlay",
             "size": 10,
             "solidity": 0.2
            },
            "type": "scatter"
           }
          ],
          "scatter3d": [
           {
            "line": {
             "colorbar": {
              "outlinewidth": 0,
              "ticks": ""
             }
            },
            "marker": {
             "colorbar": {
              "outlinewidth": 0,
              "ticks": ""
             }
            },
            "type": "scatter3d"
           }
          ],
          "scattercarpet": [
           {
            "marker": {
             "colorbar": {
              "outlinewidth": 0,
              "ticks": ""
             }
            },
            "type": "scattercarpet"
           }
          ],
          "scattergeo": [
           {
            "marker": {
             "colorbar": {
              "outlinewidth": 0,
              "ticks": ""
             }
            },
            "type": "scattergeo"
           }
          ],
          "scattergl": [
           {
            "marker": {
             "colorbar": {
              "outlinewidth": 0,
              "ticks": ""
             }
            },
            "type": "scattergl"
           }
          ],
          "scattermap": [
           {
            "marker": {
             "colorbar": {
              "outlinewidth": 0,
              "ticks": ""
             }
            },
            "type": "scattermap"
           }
          ],
          "scattermapbox": [
           {
            "marker": {
             "colorbar": {
              "outlinewidth": 0,
              "ticks": ""
             }
            },
            "type": "scattermapbox"
           }
          ],
          "scatterpolar": [
           {
            "marker": {
             "colorbar": {
              "outlinewidth": 0,
              "ticks": ""
             }
            },
            "type": "scatterpolar"
           }
          ],
          "scatterpolargl": [
           {
            "marker": {
             "colorbar": {
              "outlinewidth": 0,
              "ticks": ""
             }
            },
            "type": "scatterpolargl"
           }
          ],
          "scatterternary": [
           {
            "marker": {
             "colorbar": {
              "outlinewidth": 0,
              "ticks": ""
             }
            },
            "type": "scatterternary"
           }
          ],
          "surface": [
           {
            "colorbar": {
             "outlinewidth": 0,
             "ticks": ""
            },
            "colorscale": [
             [
              0,
              "#0d0887"
             ],
             [
              0.1111111111111111,
              "#46039f"
             ],
             [
              0.2222222222222222,
              "#7201a8"
             ],
             [
              0.3333333333333333,
              "#9c179e"
             ],
             [
              0.4444444444444444,
              "#bd3786"
             ],
             [
              0.5555555555555556,
              "#d8576b"
             ],
             [
              0.6666666666666666,
              "#ed7953"
             ],
             [
              0.7777777777777778,
              "#fb9f3a"
             ],
             [
              0.8888888888888888,
              "#fdca26"
             ],
             [
              1,
              "#f0f921"
             ]
            ],
            "type": "surface"
           }
          ],
          "table": [
           {
            "cells": {
             "fill": {
              "color": "#EBF0F8"
             },
             "line": {
              "color": "white"
             }
            },
            "header": {
             "fill": {
              "color": "#C8D4E3"
             },
             "line": {
              "color": "white"
             }
            },
            "type": "table"
           }
          ]
         },
         "layout": {
          "annotationdefaults": {
           "arrowcolor": "#2a3f5f",
           "arrowhead": 0,
           "arrowwidth": 1
          },
          "autotypenumbers": "strict",
          "coloraxis": {
           "colorbar": {
            "outlinewidth": 0,
            "ticks": ""
           }
          },
          "colorscale": {
           "diverging": [
            [
             0,
             "#8e0152"
            ],
            [
             0.1,
             "#c51b7d"
            ],
            [
             0.2,
             "#de77ae"
            ],
            [
             0.3,
             "#f1b6da"
            ],
            [
             0.4,
             "#fde0ef"
            ],
            [
             0.5,
             "#f7f7f7"
            ],
            [
             0.6,
             "#e6f5d0"
            ],
            [
             0.7,
             "#b8e186"
            ],
            [
             0.8,
             "#7fbc41"
            ],
            [
             0.9,
             "#4d9221"
            ],
            [
             1,
             "#276419"
            ]
           ],
           "sequential": [
            [
             0,
             "#0d0887"
            ],
            [
             0.1111111111111111,
             "#46039f"
            ],
            [
             0.2222222222222222,
             "#7201a8"
            ],
            [
             0.3333333333333333,
             "#9c179e"
            ],
            [
             0.4444444444444444,
             "#bd3786"
            ],
            [
             0.5555555555555556,
             "#d8576b"
            ],
            [
             0.6666666666666666,
             "#ed7953"
            ],
            [
             0.7777777777777778,
             "#fb9f3a"
            ],
            [
             0.8888888888888888,
             "#fdca26"
            ],
            [
             1,
             "#f0f921"
            ]
           ],
           "sequentialminus": [
            [
             0,
             "#0d0887"
            ],
            [
             0.1111111111111111,
             "#46039f"
            ],
            [
             0.2222222222222222,
             "#7201a8"
            ],
            [
             0.3333333333333333,
             "#9c179e"
            ],
            [
             0.4444444444444444,
             "#bd3786"
            ],
            [
             0.5555555555555556,
             "#d8576b"
            ],
            [
             0.6666666666666666,
             "#ed7953"
            ],
            [
             0.7777777777777778,
             "#fb9f3a"
            ],
            [
             0.8888888888888888,
             "#fdca26"
            ],
            [
             1,
             "#f0f921"
            ]
           ]
          },
          "colorway": [
           "#636efa",
           "#EF553B",
           "#00cc96",
           "#ab63fa",
           "#FFA15A",
           "#19d3f3",
           "#FF6692",
           "#B6E880",
           "#FF97FF",
           "#FECB52"
          ],
          "font": {
           "color": "#2a3f5f"
          },
          "geo": {
           "bgcolor": "white",
           "lakecolor": "white",
           "landcolor": "#E5ECF6",
           "showlakes": true,
           "showland": true,
           "subunitcolor": "white"
          },
          "hoverlabel": {
           "align": "left"
          },
          "hovermode": "closest",
          "mapbox": {
           "style": "light"
          },
          "paper_bgcolor": "white",
          "plot_bgcolor": "#E5ECF6",
          "polar": {
           "angularaxis": {
            "gridcolor": "white",
            "linecolor": "white",
            "ticks": ""
           },
           "bgcolor": "#E5ECF6",
           "radialaxis": {
            "gridcolor": "white",
            "linecolor": "white",
            "ticks": ""
           }
          },
          "scene": {
           "xaxis": {
            "backgroundcolor": "#E5ECF6",
            "gridcolor": "white",
            "gridwidth": 2,
            "linecolor": "white",
            "showbackground": true,
            "ticks": "",
            "zerolinecolor": "white"
           },
           "yaxis": {
            "backgroundcolor": "#E5ECF6",
            "gridcolor": "white",
            "gridwidth": 2,
            "linecolor": "white",
            "showbackground": true,
            "ticks": "",
            "zerolinecolor": "white"
           },
           "zaxis": {
            "backgroundcolor": "#E5ECF6",
            "gridcolor": "white",
            "gridwidth": 2,
            "linecolor": "white",
            "showbackground": true,
            "ticks": "",
            "zerolinecolor": "white"
           }
          },
          "shapedefaults": {
           "line": {
            "color": "#2a3f5f"
           }
          },
          "ternary": {
           "aaxis": {
            "gridcolor": "white",
            "linecolor": "white",
            "ticks": ""
           },
           "baxis": {
            "gridcolor": "white",
            "linecolor": "white",
            "ticks": ""
           },
           "bgcolor": "#E5ECF6",
           "caxis": {
            "gridcolor": "white",
            "linecolor": "white",
            "ticks": ""
           }
          },
          "title": {
           "x": 0.05
          },
          "xaxis": {
           "automargin": true,
           "gridcolor": "white",
           "linecolor": "white",
           "ticks": "",
           "title": {
            "standoff": 15
           },
           "zerolinecolor": "white",
           "zerolinewidth": 2
          },
          "yaxis": {
           "automargin": true,
           "gridcolor": "white",
           "linecolor": "white",
           "ticks": "",
           "title": {
            "standoff": 15
           },
           "zerolinecolor": "white",
           "zerolinewidth": 2
          }
         }
        },
        "title": {
         "text": "Count of Total Rides by Season"
        },
        "width": 450,
        "xaxis": {
         "anchor": "y",
         "domain": [
          0,
          1
         ],
         "title": {
          "text": "Season"
         }
        },
        "yaxis": {
         "anchor": "x",
         "domain": [
          0,
          1
         ],
         "title": {
          "text": "Total Count of Rides"
         }
        }
       }
      }
     },
     "metadata": {},
     "output_type": "display_data"
    }
   ],
   "source": [
    "workingbar = workingdays.groupby('season')['cnt'].sum().reset_index()\n",
    "\n",
    "#SEASONALITY FOR WORKINGDAYS GOOD FOR PM\n",
    "seasonality = px.bar(workingbar,'season','cnt',text='cnt',title='Count of Total Rides by Season',width=450,height = 500)\n",
    "seasonality.update_layout(xaxis_title='Season', yaxis_title='Total Count of Rides', font=dict(size=12))\n",
    "seasonality.update_traces(marker_color = ['RoyalBlue', 'RoyalBlue', 'ForestGreen', 'FireBrick'],textposition='outside')\n",
    "\n"
   ]
  },
  {
   "cell_type": "code",
   "execution_count": 442,
   "id": "a258d618",
   "metadata": {},
   "outputs": [
    {
     "name": "stdout",
     "output_type": "stream",
     "text": [
      "total count sum 2292410\n",
      "total casual sum 303285\n",
      "total registered sum 1989125\n"
     ]
    },
    {
     "data": {
      "application/vnd.plotly.v1+json": {
       "config": {
        "plotlyServerURL": "https://plot.ly"
       },
       "data": [
        {
         "domain": {
          "x": [
           0,
           1
          ],
          "y": [
           0,
           1
          ]
         },
         "hovertemplate": "label=%{label}<br>value=%{value}<extra></extra>",
         "labels": [
          "casual",
          "registered"
         ],
         "legendgroup": "",
         "name": "",
         "showlegend": true,
         "type": "pie",
         "values": {
          "bdata": "taAEAAVaHgA=",
          "dtype": "i4"
         }
        }
       ],
       "layout": {
        "font": {
         "size": 15
        },
        "height": 400,
        "legend": {
         "tracegroupgap": 0
        },
        "template": {
         "data": {
          "bar": [
           {
            "error_x": {
             "color": "#2a3f5f"
            },
            "error_y": {
             "color": "#2a3f5f"
            },
            "marker": {
             "line": {
              "color": "#E5ECF6",
              "width": 0.5
             },
             "pattern": {
              "fillmode": "overlay",
              "size": 10,
              "solidity": 0.2
             }
            },
            "type": "bar"
           }
          ],
          "barpolar": [
           {
            "marker": {
             "line": {
              "color": "#E5ECF6",
              "width": 0.5
             },
             "pattern": {
              "fillmode": "overlay",
              "size": 10,
              "solidity": 0.2
             }
            },
            "type": "barpolar"
           }
          ],
          "carpet": [
           {
            "aaxis": {
             "endlinecolor": "#2a3f5f",
             "gridcolor": "white",
             "linecolor": "white",
             "minorgridcolor": "white",
             "startlinecolor": "#2a3f5f"
            },
            "baxis": {
             "endlinecolor": "#2a3f5f",
             "gridcolor": "white",
             "linecolor": "white",
             "minorgridcolor": "white",
             "startlinecolor": "#2a3f5f"
            },
            "type": "carpet"
           }
          ],
          "choropleth": [
           {
            "colorbar": {
             "outlinewidth": 0,
             "ticks": ""
            },
            "type": "choropleth"
           }
          ],
          "contour": [
           {
            "colorbar": {
             "outlinewidth": 0,
             "ticks": ""
            },
            "colorscale": [
             [
              0,
              "#0d0887"
             ],
             [
              0.1111111111111111,
              "#46039f"
             ],
             [
              0.2222222222222222,
              "#7201a8"
             ],
             [
              0.3333333333333333,
              "#9c179e"
             ],
             [
              0.4444444444444444,
              "#bd3786"
             ],
             [
              0.5555555555555556,
              "#d8576b"
             ],
             [
              0.6666666666666666,
              "#ed7953"
             ],
             [
              0.7777777777777778,
              "#fb9f3a"
             ],
             [
              0.8888888888888888,
              "#fdca26"
             ],
             [
              1,
              "#f0f921"
             ]
            ],
            "type": "contour"
           }
          ],
          "contourcarpet": [
           {
            "colorbar": {
             "outlinewidth": 0,
             "ticks": ""
            },
            "type": "contourcarpet"
           }
          ],
          "heatmap": [
           {
            "colorbar": {
             "outlinewidth": 0,
             "ticks": ""
            },
            "colorscale": [
             [
              0,
              "#0d0887"
             ],
             [
              0.1111111111111111,
              "#46039f"
             ],
             [
              0.2222222222222222,
              "#7201a8"
             ],
             [
              0.3333333333333333,
              "#9c179e"
             ],
             [
              0.4444444444444444,
              "#bd3786"
             ],
             [
              0.5555555555555556,
              "#d8576b"
             ],
             [
              0.6666666666666666,
              "#ed7953"
             ],
             [
              0.7777777777777778,
              "#fb9f3a"
             ],
             [
              0.8888888888888888,
              "#fdca26"
             ],
             [
              1,
              "#f0f921"
             ]
            ],
            "type": "heatmap"
           }
          ],
          "histogram": [
           {
            "marker": {
             "pattern": {
              "fillmode": "overlay",
              "size": 10,
              "solidity": 0.2
             }
            },
            "type": "histogram"
           }
          ],
          "histogram2d": [
           {
            "colorbar": {
             "outlinewidth": 0,
             "ticks": ""
            },
            "colorscale": [
             [
              0,
              "#0d0887"
             ],
             [
              0.1111111111111111,
              "#46039f"
             ],
             [
              0.2222222222222222,
              "#7201a8"
             ],
             [
              0.3333333333333333,
              "#9c179e"
             ],
             [
              0.4444444444444444,
              "#bd3786"
             ],
             [
              0.5555555555555556,
              "#d8576b"
             ],
             [
              0.6666666666666666,
              "#ed7953"
             ],
             [
              0.7777777777777778,
              "#fb9f3a"
             ],
             [
              0.8888888888888888,
              "#fdca26"
             ],
             [
              1,
              "#f0f921"
             ]
            ],
            "type": "histogram2d"
           }
          ],
          "histogram2dcontour": [
           {
            "colorbar": {
             "outlinewidth": 0,
             "ticks": ""
            },
            "colorscale": [
             [
              0,
              "#0d0887"
             ],
             [
              0.1111111111111111,
              "#46039f"
             ],
             [
              0.2222222222222222,
              "#7201a8"
             ],
             [
              0.3333333333333333,
              "#9c179e"
             ],
             [
              0.4444444444444444,
              "#bd3786"
             ],
             [
              0.5555555555555556,
              "#d8576b"
             ],
             [
              0.6666666666666666,
              "#ed7953"
             ],
             [
              0.7777777777777778,
              "#fb9f3a"
             ],
             [
              0.8888888888888888,
              "#fdca26"
             ],
             [
              1,
              "#f0f921"
             ]
            ],
            "type": "histogram2dcontour"
           }
          ],
          "mesh3d": [
           {
            "colorbar": {
             "outlinewidth": 0,
             "ticks": ""
            },
            "type": "mesh3d"
           }
          ],
          "parcoords": [
           {
            "line": {
             "colorbar": {
              "outlinewidth": 0,
              "ticks": ""
             }
            },
            "type": "parcoords"
           }
          ],
          "pie": [
           {
            "automargin": true,
            "type": "pie"
           }
          ],
          "scatter": [
           {
            "fillpattern": {
             "fillmode": "overlay",
             "size": 10,
             "solidity": 0.2
            },
            "type": "scatter"
           }
          ],
          "scatter3d": [
           {
            "line": {
             "colorbar": {
              "outlinewidth": 0,
              "ticks": ""
             }
            },
            "marker": {
             "colorbar": {
              "outlinewidth": 0,
              "ticks": ""
             }
            },
            "type": "scatter3d"
           }
          ],
          "scattercarpet": [
           {
            "marker": {
             "colorbar": {
              "outlinewidth": 0,
              "ticks": ""
             }
            },
            "type": "scattercarpet"
           }
          ],
          "scattergeo": [
           {
            "marker": {
             "colorbar": {
              "outlinewidth": 0,
              "ticks": ""
             }
            },
            "type": "scattergeo"
           }
          ],
          "scattergl": [
           {
            "marker": {
             "colorbar": {
              "outlinewidth": 0,
              "ticks": ""
             }
            },
            "type": "scattergl"
           }
          ],
          "scattermap": [
           {
            "marker": {
             "colorbar": {
              "outlinewidth": 0,
              "ticks": ""
             }
            },
            "type": "scattermap"
           }
          ],
          "scattermapbox": [
           {
            "marker": {
             "colorbar": {
              "outlinewidth": 0,
              "ticks": ""
             }
            },
            "type": "scattermapbox"
           }
          ],
          "scatterpolar": [
           {
            "marker": {
             "colorbar": {
              "outlinewidth": 0,
              "ticks": ""
             }
            },
            "type": "scatterpolar"
           }
          ],
          "scatterpolargl": [
           {
            "marker": {
             "colorbar": {
              "outlinewidth": 0,
              "ticks": ""
             }
            },
            "type": "scatterpolargl"
           }
          ],
          "scatterternary": [
           {
            "marker": {
             "colorbar": {
              "outlinewidth": 0,
              "ticks": ""
             }
            },
            "type": "scatterternary"
           }
          ],
          "surface": [
           {
            "colorbar": {
             "outlinewidth": 0,
             "ticks": ""
            },
            "colorscale": [
             [
              0,
              "#0d0887"
             ],
             [
              0.1111111111111111,
              "#46039f"
             ],
             [
              0.2222222222222222,
              "#7201a8"
             ],
             [
              0.3333333333333333,
              "#9c179e"
             ],
             [
              0.4444444444444444,
              "#bd3786"
             ],
             [
              0.5555555555555556,
              "#d8576b"
             ],
             [
              0.6666666666666666,
              "#ed7953"
             ],
             [
              0.7777777777777778,
              "#fb9f3a"
             ],
             [
              0.8888888888888888,
              "#fdca26"
             ],
             [
              1,
              "#f0f921"
             ]
            ],
            "type": "surface"
           }
          ],
          "table": [
           {
            "cells": {
             "fill": {
              "color": "#EBF0F8"
             },
             "line": {
              "color": "white"
             }
            },
            "header": {
             "fill": {
              "color": "#C8D4E3"
             },
             "line": {
              "color": "white"
             }
            },
            "type": "table"
           }
          ]
         },
         "layout": {
          "annotationdefaults": {
           "arrowcolor": "#2a3f5f",
           "arrowhead": 0,
           "arrowwidth": 1
          },
          "autotypenumbers": "strict",
          "coloraxis": {
           "colorbar": {
            "outlinewidth": 0,
            "ticks": ""
           }
          },
          "colorscale": {
           "diverging": [
            [
             0,
             "#8e0152"
            ],
            [
             0.1,
             "#c51b7d"
            ],
            [
             0.2,
             "#de77ae"
            ],
            [
             0.3,
             "#f1b6da"
            ],
            [
             0.4,
             "#fde0ef"
            ],
            [
             0.5,
             "#f7f7f7"
            ],
            [
             0.6,
             "#e6f5d0"
            ],
            [
             0.7,
             "#b8e186"
            ],
            [
             0.8,
             "#7fbc41"
            ],
            [
             0.9,
             "#4d9221"
            ],
            [
             1,
             "#276419"
            ]
           ],
           "sequential": [
            [
             0,
             "#0d0887"
            ],
            [
             0.1111111111111111,
             "#46039f"
            ],
            [
             0.2222222222222222,
             "#7201a8"
            ],
            [
             0.3333333333333333,
             "#9c179e"
            ],
            [
             0.4444444444444444,
             "#bd3786"
            ],
            [
             0.5555555555555556,
             "#d8576b"
            ],
            [
             0.6666666666666666,
             "#ed7953"
            ],
            [
             0.7777777777777778,
             "#fb9f3a"
            ],
            [
             0.8888888888888888,
             "#fdca26"
            ],
            [
             1,
             "#f0f921"
            ]
           ],
           "sequentialminus": [
            [
             0,
             "#0d0887"
            ],
            [
             0.1111111111111111,
             "#46039f"
            ],
            [
             0.2222222222222222,
             "#7201a8"
            ],
            [
             0.3333333333333333,
             "#9c179e"
            ],
            [
             0.4444444444444444,
             "#bd3786"
            ],
            [
             0.5555555555555556,
             "#d8576b"
            ],
            [
             0.6666666666666666,
             "#ed7953"
            ],
            [
             0.7777777777777778,
             "#fb9f3a"
            ],
            [
             0.8888888888888888,
             "#fdca26"
            ],
            [
             1,
             "#f0f921"
            ]
           ]
          },
          "colorway": [
           "#636efa",
           "#EF553B",
           "#00cc96",
           "#ab63fa",
           "#FFA15A",
           "#19d3f3",
           "#FF6692",
           "#B6E880",
           "#FF97FF",
           "#FECB52"
          ],
          "font": {
           "color": "#2a3f5f"
          },
          "geo": {
           "bgcolor": "white",
           "lakecolor": "white",
           "landcolor": "#E5ECF6",
           "showlakes": true,
           "showland": true,
           "subunitcolor": "white"
          },
          "hoverlabel": {
           "align": "left"
          },
          "hovermode": "closest",
          "mapbox": {
           "style": "light"
          },
          "paper_bgcolor": "white",
          "plot_bgcolor": "#E5ECF6",
          "polar": {
           "angularaxis": {
            "gridcolor": "white",
            "linecolor": "white",
            "ticks": ""
           },
           "bgcolor": "#E5ECF6",
           "radialaxis": {
            "gridcolor": "white",
            "linecolor": "white",
            "ticks": ""
           }
          },
          "scene": {
           "xaxis": {
            "backgroundcolor": "#E5ECF6",
            "gridcolor": "white",
            "gridwidth": 2,
            "linecolor": "white",
            "showbackground": true,
            "ticks": "",
            "zerolinecolor": "white"
           },
           "yaxis": {
            "backgroundcolor": "#E5ECF6",
            "gridcolor": "white",
            "gridwidth": 2,
            "linecolor": "white",
            "showbackground": true,
            "ticks": "",
            "zerolinecolor": "white"
           },
           "zaxis": {
            "backgroundcolor": "#E5ECF6",
            "gridcolor": "white",
            "gridwidth": 2,
            "linecolor": "white",
            "showbackground": true,
            "ticks": "",
            "zerolinecolor": "white"
           }
          },
          "shapedefaults": {
           "line": {
            "color": "#2a3f5f"
           }
          },
          "ternary": {
           "aaxis": {
            "gridcolor": "white",
            "linecolor": "white",
            "ticks": ""
           },
           "baxis": {
            "gridcolor": "white",
            "linecolor": "white",
            "ticks": ""
           },
           "bgcolor": "#E5ECF6",
           "caxis": {
            "gridcolor": "white",
            "linecolor": "white",
            "ticks": ""
           }
          },
          "title": {
           "x": 0.05
          },
          "xaxis": {
           "automargin": true,
           "gridcolor": "white",
           "linecolor": "white",
           "ticks": "",
           "title": {
            "standoff": 15
           },
           "zerolinecolor": "white",
           "zerolinewidth": 2
          },
          "yaxis": {
           "automargin": true,
           "gridcolor": "white",
           "linecolor": "white",
           "ticks": "",
           "title": {
            "standoff": 15
           },
           "zerolinecolor": "white",
           "zerolinewidth": 2
          }
         }
        },
        "title": {
         "text": "Percentage of Casual vs Registered"
        },
        "width": 500
       }
      }
     },
     "metadata": {},
     "output_type": "display_data"
    }
   ],
   "source": [
    "#a lot more registered users than casual, same goes for original dataframe\n",
    "workingdays[['registered','casual']].sum()\n",
    "\n",
    "print('total count sum',workingdays['cnt'].sum())\n",
    "print('total casual sum',workingdays['casual'].sum())\n",
    "print('total registered sum',workingdays['registered'].sum())\n",
    "#--unsure to use if to not potentially bias registered users\n",
    "\n",
    "\n",
    "piedata = workingdays[['casual','registered']].sum().reset_index\n",
    "workingpie = px.pie(workingdays,values=workingdays[['casual','registered']].sum(),names=['casual','registered'],title='Percentage of Casual vs Registered',height=400, width=500)\n",
    "workingpie.update_layout(font=dict(size=15))\n",
    "\n",
    "#workingdays.groupby('weekday').agg('ocasual')\n",
    "#--thursday on average have the highest usage for bike share but not by much\n",
    "\n",
    "#workingdays.groupby('season')['casual'].sum()\n"
   ]
  }
 ],
 "metadata": {
  "kernelspec": {
   "display_name": "base",
   "language": "python",
   "name": "python3"
  },
  "language_info": {
   "codemirror_mode": {
    "name": "ipython",
    "version": 3
   },
   "file_extension": ".py",
   "mimetype": "text/x-python",
   "name": "python",
   "nbconvert_exporter": "python",
   "pygments_lexer": "ipython3",
   "version": "3.12.9"
  }
 },
 "nbformat": 4,
 "nbformat_minor": 5
}
